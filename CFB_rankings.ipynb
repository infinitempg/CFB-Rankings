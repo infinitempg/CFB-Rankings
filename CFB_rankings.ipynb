{
 "cells": [
  {
   "cell_type": "code",
   "execution_count": 1,
   "metadata": {},
   "outputs": [
    {
     "name": "stdout",
     "output_type": "stream",
     "text": [
      "The history saving thread hit an unexpected error (DatabaseError('database disk image is malformed')).History will not be written to the database.\n"
     ]
    }
   ],
   "source": [
    "import json\n",
    "import pandas as pd\n",
    "import numpy as np\n",
    "from tqdm import tqdm_notebook as tqdm\n",
    "from sklearn import preprocessing"
   ]
  },
  {
   "cell_type": "code",
   "execution_count": 2,
   "metadata": {},
   "outputs": [],
   "source": [
    "P5 = ['ACC','Pac-12','Big Ten','Big 12','SEC','Notre Dame']\n",
    "G5 = ['Conference USA','Sun Belt','Mid-American','American Athletic','Mountain West','FBS Independents']\n",
    "\n",
    "def seasonProgression(dfR):\n",
    "    totalGames = len(dfR)\n",
    "    curWeek = int(dfR['week']) + 1\n",
    "    return curWeek/(2*totalGames)\n",
    "\n",
    "def winningTeam(dfR):\n",
    "    if dfR['home_points'] > dfR['away_points']:\n",
    "        return dfR['home_team']\n",
    "    else:\n",
    "        return dfR['away_team']\n",
    "    \n",
    "def teamWin(dfR, team):\n",
    "    if dfR.winner == team:\n",
    "        return True\n",
    "    else:\n",
    "        return False\n",
    "    \n",
    "def findOpp(dfR):\n",
    "    if dfR.home == True:\n",
    "        return dfR.away_team\n",
    "    else:\n",
    "        return dfR.home_team\n",
    "def findOppConf(dfR):\n",
    "    if dfR.home == True:\n",
    "        return dfR.away_conference\n",
    "    else:\n",
    "        return dfR.home_conference\n",
    "    \n",
    "def locMult(dfR):\n",
    "    if dfR['neutral_site'] == True:\n",
    "        return 1.05\n",
    "    elif dfR['home'] == True:\n",
    "        return 1.1\n",
    "    else:\n",
    "        return 1.\n",
    "    \n",
    "def pointDiff(dfR,team):\n",
    "    if dfR.home_team == team:\n",
    "        return dfR.home_points - dfR.away_points\n",
    "    else:\n",
    "        return dfR.away_points - dfR.home_points\n",
    "    \n",
    "def confMult(dfR):\n",
    "    if dfR.opp_conference in P5:\n",
    "        return 1.\n",
    "    elif dfR.opp_conference in G5:\n",
    "        return 0.5\n",
    "    else:\n",
    "        return 0.15\n",
    "    \n",
    "def winQ(dfR,week): \n",
    "    if dfR.opp_conference == None:\n",
    "        oppWinPct = 0.5\n",
    "    else:\n",
    "#         print(dfR.opp_conference)\n",
    "        oppWinPct = FBSdict[dfR.opp].loc[FBSdict[dfR.opp].week <= week, 'winPct'].tail(1).item()\n",
    "    \n",
    "    if dfR.teamWin == True:\n",
    "        winMult = 1\n",
    "        oppFactor = oppWinPct\n",
    "    else:\n",
    "        winMult = -1\n",
    "        oppFactor = 1 - oppWinPct\n",
    "    \n",
    "    return oppFactor * dfR.seasonProg * dfR.conf_mult * winMult*(dfR.loc_mult + 0.01*dfR.point_diff)\n",
    "\n",
    "def calcPct(team, week):\n",
    "    winqweek = 'win_q_'+str(week)\n",
    "    wins = FBSdict[team].loc[FBSdict[team].week <= week, 'wins'].tail(1).item()\n",
    "    losses = FBSdict[team].loc[FBSdict[team].week <= week, 'losses'].tail(1).item()\n",
    "    return 0.9 * FBSdict[team][winqweek].mean() + 0.01*(wins-losses)"
   ]
  },
  {
   "cell_type": "code",
   "execution_count": 3,
   "metadata": {},
   "outputs": [],
   "source": [
    "jsonFile = '2019/2019schedule.json'"
   ]
  },
  {
   "cell_type": "code",
   "execution_count": 4,
   "metadata": {},
   "outputs": [],
   "source": [
    "curSch = pd.read_json(jsonFile)"
   ]
  },
  {
   "cell_type": "code",
   "execution_count": 5,
   "metadata": {},
   "outputs": [],
   "source": [
    "curSch.loc[curSch.away_team == 'Notre Dame','away_conference'] = 'Notre Dame'\n",
    "curSch.loc[curSch.home_team == 'Notre Dame','home_conference'] = 'Notre Dame'"
   ]
  },
  {
   "cell_type": "code",
   "execution_count": 6,
   "metadata": {},
   "outputs": [],
   "source": [
    "FBSteams = curSch['home_team'].unique()\n",
    "FBSteams.sort()"
   ]
  },
  {
   "cell_type": "code",
   "execution_count": 7,
   "metadata": {},
   "outputs": [],
   "source": [
    "FBSdict = {}\n",
    "for team in FBSteams:\n",
    "    FBSdict[team] = curSch[(curSch['away_team'] == team) | \n",
    "                           (curSch['home_team'] == team)]\n",
    "    FBSdict[team] = FBSdict[team][np.isfinite(FBSdict[team].away_points)]\n",
    "    FBSdict[team] = FBSdict[team].reset_index()"
   ]
  },
  {
   "cell_type": "code",
   "execution_count": 8,
   "metadata": {},
   "outputs": [
    {
     "data": {
      "application/vnd.jupyter.widget-view+json": {
       "model_id": "7f308b045751492eb3f43009c634edf8",
       "version_major": 2,
       "version_minor": 0
      },
      "text/plain": [
       "HBox(children=(IntProgress(value=0, max=130), HTML(value='')))"
      ]
     },
     "metadata": {},
     "output_type": "display_data"
    }
   ],
   "source": [
    "FBSbar = tqdm(total=len(FBSteams))\n",
    "for key in FBSdict:\n",
    "    FBSbar.set_description(key)\n",
    "    FBSdict[key]['seasonProg'] = FBSdict[key].apply(lambda row: seasonProgression(row),axis = 1)\n",
    "    FBSdict[key]['winner'] = FBSdict[key].apply(lambda row: winningTeam(row),axis = 1)\n",
    "    FBSdict[key]['teamWin'] = FBSdict[key].apply(lambda row: teamWin(row,key),axis = 1)\n",
    "    \n",
    "    wins = 0\n",
    "    losses = 0\n",
    "    winList = []\n",
    "    lossList = []\n",
    "    for row in FBSdict[key].itertuples():\n",
    "    #     print(row.winner)\n",
    "        if row.teamWin:\n",
    "            wins += 1\n",
    "        else:\n",
    "            losses += 1\n",
    "        winList.append(wins)\n",
    "        lossList.append(losses)\n",
    "        \n",
    "    FBSdict[key]['wins'] = winList\n",
    "    FBSdict[key]['losses'] = lossList\n",
    "    \n",
    "    hometeam = FBSdict[key]['home_team'] == key\n",
    "    FBSdict[key]['home'] = hometeam\n",
    "    \n",
    "    FBSdict[key]['winPct'] = FBSdict[key]['wins']/(FBSdict[key]['losses'] + FBSdict[key]['wins'])\n",
    "    FBSdict[key]['opp'] = FBSdict[key].apply(lambda row: findOpp(row), axis = 1)\n",
    "    FBSdict[key]['opp_conference'] = FBSdict[key].apply(lambda row: findOppConf(row), axis = 1)\n",
    "    FBSdict[key]['point_diff'] = FBSdict[key].apply(lambda row: pointDiff(row,key), axis = 1)\n",
    "    FBSdict[key]['loc_mult'] = FBSdict[key].apply(lambda row: locMult(row), axis = 1)\n",
    "    FBSdict[key]['conf_mult'] = FBSdict[key].apply(lambda row: confMult(row), axis = 1)\n",
    "    \n",
    "    FBSbar.update(1)"
   ]
  },
  {
   "cell_type": "code",
   "execution_count": 9,
   "metadata": {},
   "outputs": [
    {
     "data": {
      "application/vnd.jupyter.widget-view+json": {
       "model_id": "a7f3ad0862514d919463fd01d7972e88",
       "version_major": 2,
       "version_minor": 0
      },
      "text/plain": [
       "HBox(children=(IntProgress(value=0, max=130), HTML(value='')))"
      ]
     },
     "metadata": {},
     "output_type": "display_data"
    }
   ],
   "source": [
    "FBSbar2 = tqdm(total=len(FBSteams))\n",
    "for key in FBSdict:\n",
    "    FBSbar2.set_description(key)\n",
    "    for w in range(4,16):\n",
    "        FBSdict[key]['win_q_'+str(w)] = FBSdict[key].apply(lambda row: winQ(row, w),axis=1)\n",
    "    FBSbar2.update()"
   ]
  },
  {
   "cell_type": "code",
   "execution_count": 10,
   "metadata": {},
   "outputs": [
    {
     "data": {
      "application/vnd.jupyter.widget-view+json": {
       "model_id": "9f06ea7534264666ba87fe7c7563f6da",
       "version_major": 2,
       "version_minor": 0
      },
      "text/plain": [
       "HBox(children=(IntProgress(value=0, max=130), HTML(value='')))"
      ]
     },
     "metadata": {},
     "output_type": "display_data"
    }
   ],
   "source": [
    "FBSbar3 = tqdm(total=len(FBSteams))\n",
    "FBSpct = {}\n",
    "for key in FBSdict:\n",
    "    FBSbar3.set_description(key)\n",
    "    pctList = []\n",
    "    for w in range(4,16):\n",
    "        pctList.append(calcPct(key,w))\n",
    "    FBSpct[key] = pctList\n",
    "    FBSbar3.update()"
   ]
  },
  {
   "cell_type": "code",
   "execution_count": 11,
   "metadata": {},
   "outputs": [],
   "source": [
    "PCTdf = pd.DataFrame.from_dict(FBSpct,orient='index',columns=range(4,16))"
   ]
  },
  {
   "cell_type": "code",
   "execution_count": 12,
   "metadata": {},
   "outputs": [],
   "source": [
    "PCTnormdf = pd.DataFrame(index = FBSteams,columns=range(4,16))\n",
    "\n",
    "for w in range(4,16):\n",
    "    x = PCTdf[w].values.reshape(-1,1)\n",
    "    min_max_scaler = preprocessing.MinMaxScaler()\n",
    "    xScaled = min_max_scaler.fit_transform(x)\n",
    "    PCTnormdf[w] = xScaled.reshape(130)\n",
    "\n",
    "PCTnormdf.to_csv('2019/PCT.csv')"
   ]
  },
  {
   "cell_type": "code",
   "execution_count": 13,
   "metadata": {},
   "outputs": [],
   "source": [
    "Ranks = PCTdf.rank(method='first',ascending=False).astype('int64')\n",
    "Ranks.to_csv('2019/Ranks.csv')"
   ]
  },
  {
   "cell_type": "code",
   "execution_count": 14,
   "metadata": {},
   "outputs": [],
   "source": [
    "for w in range(4,16):\n",
    "    Wdf = pd.concat([PCTnormdf[w],Ranks[w]],axis=1)\n",
    "    Wdf.columns = ['PCT','Rank']\n",
    "    Wdf = Wdf.sort_values('Rank')\n",
    "    Wdf.to_csv('2019/W%s.csv'%w)"
   ]
  },
  {
   "cell_type": "code",
   "execution_count": null,
   "metadata": {},
   "outputs": [],
   "source": []
  }
 ],
 "metadata": {
  "kernelspec": {
   "display_name": "Python 3",
   "language": "python",
   "name": "python3"
  },
  "language_info": {
   "codemirror_mode": {
    "name": "ipython",
    "version": 3
   },
   "file_extension": ".py",
   "mimetype": "text/x-python",
   "name": "python",
   "nbconvert_exporter": "python",
   "pygments_lexer": "ipython3",
   "version": "3.7.3"
  }
 },
 "nbformat": 4,
 "nbformat_minor": 2
}
