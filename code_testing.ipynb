{
 "cells": [
  {
   "cell_type": "code",
   "execution_count": 1,
   "metadata": {},
   "outputs": [
    {
     "name": "stdout",
     "output_type": "stream",
     "text": [
      "The history saving thread hit an unexpected error (DatabaseError('database disk image is malformed')).History will not be written to the database.\n"
     ]
    }
   ],
   "source": [
    "import json\n",
    "import pandas as pd\n",
    "import numpy as np\n",
    "from tqdm import tqdm_notebook as tqdm"
   ]
  },
  {
   "cell_type": "code",
   "execution_count": 2,
   "metadata": {},
   "outputs": [],
   "source": [
    "jsonFile = '2019/2019schedule.json'"
   ]
  },
  {
   "cell_type": "code",
   "execution_count": 3,
   "metadata": {},
   "outputs": [],
   "source": [
    "curSch = pd.read_json(jsonFile)\n",
    "# curSch = curSch[['week','away_team','away_points','home_points','home_team',\n",
    "#                  'away_conference','home_conference','neutral_site']]"
   ]
  },
  {
   "cell_type": "code",
   "execution_count": 4,
   "metadata": {},
   "outputs": [],
   "source": [
    "curSch.loc[curSch.away_team == 'Notre Dame','away_conference'] = 'Notre Dame'\n",
    "curSch.loc[curSch.home_team == 'Notre Dame','home_conference'] = 'Notre Dame'"
   ]
  },
  {
   "cell_type": "code",
   "execution_count": 5,
   "metadata": {},
   "outputs": [],
   "source": [
    "FBSteams = curSch['home_team'].unique()\n",
    "FBSteams.sort()"
   ]
  },
  {
   "cell_type": "code",
   "execution_count": 6,
   "metadata": {},
   "outputs": [],
   "source": [
    "P5 = ['ACC','Pac-12','Big Ten','Big 12','SEC','Notre Dame']\n",
    "G5 = ['Conference USA','Sun Belt','Mid-American','American Athletic','Mountain West','FBS Independents']"
   ]
  },
  {
   "cell_type": "code",
   "execution_count": 7,
   "metadata": {},
   "outputs": [],
   "source": [
    "FBSdict = {}\n",
    "for team in FBSteams:\n",
    "    FBSdict[team] = curSch[(curSch['away_team'] == team) | \n",
    "                           (curSch['home_team'] == team)]\n",
    "    FBSdict[team] = FBSdict[team][np.isfinite(FBSdict[team].away_points)]\n",
    "    FBSdict[team] = FBSdict[team].reset_index()"
   ]
  },
  {
   "cell_type": "code",
   "execution_count": 8,
   "metadata": {},
   "outputs": [],
   "source": [
    "def seasonProgression(dfR):\n",
    "    totalGames = len(dfR)\n",
    "    curWeek = int(dfR['week']) + 1\n",
    "    return curWeek/(2*totalGames)"
   ]
  },
  {
   "cell_type": "code",
   "execution_count": 9,
   "metadata": {},
   "outputs": [],
   "source": [
    "def winningTeam(dfR):\n",
    "    if dfR['home_points'] > dfR['away_points']:\n",
    "        return dfR['home_team']\n",
    "    else:\n",
    "        return dfR['away_team']\n",
    "    \n",
    "def teamWin(dfR, team):\n",
    "    if dfR.winner == team:\n",
    "        return True\n",
    "    else:\n",
    "        return False"
   ]
  },
  {
   "cell_type": "code",
   "execution_count": 10,
   "metadata": {},
   "outputs": [],
   "source": [
    "def findOpp(dfR):\n",
    "    if dfR.home == True:\n",
    "        return dfR.away_team\n",
    "    else:\n",
    "        return dfR.home_team\n",
    "def findOppConf(dfR):\n",
    "    if dfR.home == True:\n",
    "        return dfR.away_conference\n",
    "    else:\n",
    "        return dfR.home_conference"
   ]
  },
  {
   "cell_type": "code",
   "execution_count": 11,
   "metadata": {},
   "outputs": [],
   "source": [
    "def locMult(dfR):\n",
    "    if dfR['neutral_site'] == True:\n",
    "        return 1.05\n",
    "    elif dfR['home'] == True:\n",
    "        return 1.1\n",
    "    else:\n",
    "        return 1."
   ]
  },
  {
   "cell_type": "code",
   "execution_count": 12,
   "metadata": {},
   "outputs": [],
   "source": [
    "def pointDiff(dfR,team):\n",
    "    if dfR.home_team == team:\n",
    "        return dfR.home_points - dfR.away_points\n",
    "    else:\n",
    "        return dfR.away_points - dfR.home_points"
   ]
  },
  {
   "cell_type": "code",
   "execution_count": 13,
   "metadata": {},
   "outputs": [],
   "source": [
    "def confMult(dfR):\n",
    "    if dfR.opp_conference in P5:\n",
    "        return 1.\n",
    "    elif dfR.opp_conference in G5:\n",
    "        return 0.5\n",
    "    else:\n",
    "        return 0.15"
   ]
  },
  {
   "cell_type": "code",
   "execution_count": 14,
   "metadata": {},
   "outputs": [],
   "source": [
    "def winQ(dfR,week): \n",
    "    if dfR.opp_conference == None:\n",
    "        oppWinPct = 0.5\n",
    "    else:\n",
    "#         print(dfR.opp_conference)\n",
    "        oppWinPct = FBSdict[dfR.opp].loc[FBSdict[dfR.opp].week <= week, 'winPct'].tail(1).item()\n",
    "    \n",
    "    if dfR.teamWin == True:\n",
    "        winMult = 1\n",
    "        oppFactor = oppWinPct\n",
    "    else:\n",
    "        winMult = -1\n",
    "        oppFactor = 1 - oppWinPct\n",
    "    \n",
    "    return oppFactor * dfR.seasonProg * dfR.conf_mult * winMult*(dfR.loc_mult + 0.01*dfR.point_diff)"
   ]
  },
  {
   "cell_type": "markdown",
   "metadata": {},
   "source": [
    "***\n"
   ]
  },
  {
   "cell_type": "code",
   "execution_count": 16,
   "metadata": {},
   "outputs": [],
   "source": [
    "FBSdict['Rutgers']['seasonProg'] = FBSdict['Rutgers'].apply(lambda row: seasonProgression(row), axis = 1)\n",
    "FBSdict['Rutgers']['winner'] = FBSdict['Rutgers'].apply(lambda row: winningTeam(row), axis = 1)"
   ]
  },
  {
   "cell_type": "code",
   "execution_count": 17,
   "metadata": {},
   "outputs": [],
   "source": [
    "wins = 0\n",
    "losses = 0\n",
    "winList = []\n",
    "lossList = []\n",
    "for row in FBSdict['Rutgers'].itertuples():\n",
    "#     print(row.winner)\n",
    "    if row.winner == 'Rutgers':\n",
    "        wins += 1\n",
    "    else:\n",
    "        losses += 1\n",
    "    winList.append(wins)\n",
    "    lossList.append(losses)"
   ]
  },
  {
   "cell_type": "code",
   "execution_count": 18,
   "metadata": {},
   "outputs": [],
   "source": [
    "winList, lossList\n",
    "FBSdict['Rutgers']['wins'] = winList\n",
    "FBSdict['Rutgers']['losses'] = lossList"
   ]
  },
  {
   "cell_type": "code",
   "execution_count": 19,
   "metadata": {},
   "outputs": [],
   "source": [
    "hometeam = FBSdict['Rutgers']['home_team'] == 'Rutgers'\n",
    "FBSdict['Rutgers']['home'] = hometeam"
   ]
  },
  {
   "cell_type": "code",
   "execution_count": 20,
   "metadata": {},
   "outputs": [],
   "source": [
    "FBSdict['Rutgers']['winPct'] = FBSdict['Rutgers']['wins']/(FBSdict['Rutgers']['losses'] + FBSdict['Rutgers']['wins'])"
   ]
  },
  {
   "cell_type": "code",
   "execution_count": 21,
   "metadata": {},
   "outputs": [],
   "source": [
    "def findOpp(dfR):\n",
    "    if dfR.home == True:\n",
    "        return dfR.away_team\n",
    "    else:\n",
    "        return dfR.home_team\n",
    "def findOppConf(dfR):\n",
    "    if dfR.home == True:\n",
    "        return dfR.away_conference\n",
    "    else:\n",
    "        return dfR.home_conference"
   ]
  },
  {
   "cell_type": "code",
   "execution_count": 22,
   "metadata": {},
   "outputs": [],
   "source": [
    "FBSdict['Rutgers']['opp'] = FBSdict['Rutgers'].apply(lambda row: findOpp(row), axis = 1)\n",
    "FBSdict['Rutgers']['opp_conference'] = FBSdict['Rutgers'].apply(lambda row: findOppConf(row), axis = 1)"
   ]
  },
  {
   "cell_type": "code",
   "execution_count": 23,
   "metadata": {},
   "outputs": [],
   "source": [
    "def locMult(dfR):\n",
    "    if dfR['neutral_site'] == True:\n",
    "        return 1.05\n",
    "    elif dfR['home'] == True:\n",
    "        return 1.1\n",
    "    else:\n",
    "        return 1."
   ]
  },
  {
   "cell_type": "code",
   "execution_count": 24,
   "metadata": {},
   "outputs": [],
   "source": [
    "def pointDiff(dfR,team):\n",
    "    if dfR.home_team == team:\n",
    "        return dfR.home_points - dfR.away_points\n",
    "    else:\n",
    "        return dfR.away_points - dfR.home_points"
   ]
  },
  {
   "cell_type": "code",
   "execution_count": 25,
   "metadata": {},
   "outputs": [],
   "source": [
    "FBSdict['Rutgers']['point_diff'] = FBSdict['Rutgers'].apply(lambda row: pointDiff(row,'Rutgers'), axis = 1)"
   ]
  },
  {
   "cell_type": "code",
   "execution_count": 26,
   "metadata": {},
   "outputs": [],
   "source": [
    "FBSdict['Rutgers']['loc_mult'] = FBSdict['Rutgers'].apply(lambda row: locMult(row), axis = 1)"
   ]
  },
  {
   "cell_type": "code",
   "execution_count": 27,
   "metadata": {},
   "outputs": [],
   "source": [
    "def confMult(dfR):\n",
    "    if dfR.opp_conference in P5:\n",
    "        return 1.\n",
    "    elif dfR.opp_conference in G5:\n",
    "        return 0.5\n",
    "    else:\n",
    "        return 0.15"
   ]
  },
  {
   "cell_type": "code",
   "execution_count": 28,
   "metadata": {},
   "outputs": [],
   "source": [
    "FBSdict['Rutgers']['conf_mult'] = FBSdict['Rutgers'].apply(lambda row: confMult(row), axis = 1)"
   ]
  },
  {
   "cell_type": "code",
   "execution_count": 33,
   "metadata": {},
   "outputs": [
    {
     "data": {
      "text/plain": [
       "0     1.000000\n",
       "1     0.500000\n",
       "2     0.333333\n",
       "3     0.250000\n",
       "4     0.200000\n",
       "5     0.166667\n",
       "6     0.142857\n",
       "7     0.250000\n",
       "8     0.222222\n",
       "9     0.200000\n",
       "10    0.181818\n",
       "11    0.166667\n",
       "Name: winPct, dtype: float64"
      ]
     },
     "execution_count": 33,
     "metadata": {},
     "output_type": "execute_result"
    }
   ],
   "source": [
    "FBSdict['Rutgers'].winPct"
   ]
  },
  {
   "cell_type": "code",
   "execution_count": 36,
   "metadata": {},
   "outputs": [
    {
     "data": {
      "text/plain": [
       "0.16666666666666666"
      ]
     },
     "execution_count": 36,
     "metadata": {},
     "output_type": "execute_result"
    }
   ],
   "source": [
    "FBSdict['Rutgers'].loc[FBSdict['Rutgers'].week <= 14, 'winPct'].tail(1).iloc[0]"
   ]
  },
  {
   "cell_type": "code",
   "execution_count": null,
   "metadata": {},
   "outputs": [],
   "source": [
    "FBSdict['UMass']['week']"
   ]
  },
  {
   "cell_type": "code",
   "execution_count": null,
   "metadata": {},
   "outputs": [],
   "source": [
    "FBSdict['Akron']['win_q'] = FBSdict['Akron'].apply(lambda row: winQ(row,14),axis = 1)"
   ]
  },
  {
   "cell_type": "code",
   "execution_count": 130,
   "metadata": {},
   "outputs": [
    {
     "data": {
      "text/html": [
       "<div>\n",
       "<style scoped>\n",
       "    .dataframe tbody tr th:only-of-type {\n",
       "        vertical-align: middle;\n",
       "    }\n",
       "\n",
       "    .dataframe tbody tr th {\n",
       "        vertical-align: top;\n",
       "    }\n",
       "\n",
       "    .dataframe thead th {\n",
       "        text-align: right;\n",
       "    }\n",
       "</style>\n",
       "<table border=\"1\" class=\"dataframe\">\n",
       "  <thead>\n",
       "    <tr style=\"text-align: right;\">\n",
       "      <th></th>\n",
       "      <th>index</th>\n",
       "      <th>attendance</th>\n",
       "      <th>away_conference</th>\n",
       "      <th>away_line_scores</th>\n",
       "      <th>away_points</th>\n",
       "      <th>away_post_win_prob</th>\n",
       "      <th>away_team</th>\n",
       "      <th>conference_game</th>\n",
       "      <th>home_conference</th>\n",
       "      <th>home_line_scores</th>\n",
       "      <th>...</th>\n",
       "      <th>wins</th>\n",
       "      <th>losses</th>\n",
       "      <th>home</th>\n",
       "      <th>winPct</th>\n",
       "      <th>opp</th>\n",
       "      <th>opp_conference</th>\n",
       "      <th>point_diff</th>\n",
       "      <th>loc_mult</th>\n",
       "      <th>conf_mult</th>\n",
       "      <th>win_q_14</th>\n",
       "    </tr>\n",
       "  </thead>\n",
       "  <tbody>\n",
       "    <tr>\n",
       "      <th>0</th>\n",
       "      <td>45</td>\n",
       "      <td>NaN</td>\n",
       "      <td>ACC</td>\n",
       "      <td>[0, 3, 0, 0]</td>\n",
       "      <td>3.0</td>\n",
       "      <td>0.000009</td>\n",
       "      <td>Duke</td>\n",
       "      <td>False</td>\n",
       "      <td>SEC</td>\n",
       "      <td>[0, 14, 21, 7]</td>\n",
       "      <td>...</td>\n",
       "      <td>1</td>\n",
       "      <td>0</td>\n",
       "      <td>True</td>\n",
       "      <td>1.000000</td>\n",
       "      <td>Duke</td>\n",
       "      <td>ACC</td>\n",
       "      <td>39.0</td>\n",
       "      <td>1.05</td>\n",
       "      <td>1.00</td>\n",
       "      <td>0.028571</td>\n",
       "    </tr>\n",
       "    <tr>\n",
       "      <th>1</th>\n",
       "      <td>120</td>\n",
       "      <td>NaN</td>\n",
       "      <td>FBS Independents</td>\n",
       "      <td>[0, 0, 7, 3]</td>\n",
       "      <td>10.0</td>\n",
       "      <td>0.000006</td>\n",
       "      <td>New Mexico State</td>\n",
       "      <td>False</td>\n",
       "      <td>SEC</td>\n",
       "      <td>[21, 17, 24, 0]</td>\n",
       "      <td>...</td>\n",
       "      <td>2</td>\n",
       "      <td>0</td>\n",
       "      <td>True</td>\n",
       "      <td>1.000000</td>\n",
       "      <td>New Mexico State</td>\n",
       "      <td>FBS Independents</td>\n",
       "      <td>52.0</td>\n",
       "      <td>1.10</td>\n",
       "      <td>0.50</td>\n",
       "      <td>0.009643</td>\n",
       "    </tr>\n",
       "    <tr>\n",
       "      <th>2</th>\n",
       "      <td>178</td>\n",
       "      <td>NaN</td>\n",
       "      <td>SEC</td>\n",
       "      <td>[14, 10, 10, 13]</td>\n",
       "      <td>47.0</td>\n",
       "      <td>0.930849</td>\n",
       "      <td>Alabama</td>\n",
       "      <td>True</td>\n",
       "      <td>SEC</td>\n",
       "      <td>[10, 0, 3, 10]</td>\n",
       "      <td>...</td>\n",
       "      <td>3</td>\n",
       "      <td>0</td>\n",
       "      <td>False</td>\n",
       "      <td>1.000000</td>\n",
       "      <td>South Carolina</td>\n",
       "      <td>SEC</td>\n",
       "      <td>24.0</td>\n",
       "      <td>1.00</td>\n",
       "      <td>1.00</td>\n",
       "      <td>0.039365</td>\n",
       "    </tr>\n",
       "    <tr>\n",
       "      <th>3</th>\n",
       "      <td>239</td>\n",
       "      <td>NaN</td>\n",
       "      <td>Conference USA</td>\n",
       "      <td>[0, 7, 0, 0]</td>\n",
       "      <td>7.0</td>\n",
       "      <td>0.000014</td>\n",
       "      <td>Southern Mississippi</td>\n",
       "      <td>False</td>\n",
       "      <td>SEC</td>\n",
       "      <td>[14, 14, 14, 7]</td>\n",
       "      <td>...</td>\n",
       "      <td>4</td>\n",
       "      <td>0</td>\n",
       "      <td>True</td>\n",
       "      <td>1.000000</td>\n",
       "      <td>Southern Mississippi</td>\n",
       "      <td>Conference USA</td>\n",
       "      <td>42.0</td>\n",
       "      <td>1.10</td>\n",
       "      <td>0.50</td>\n",
       "      <td>0.052778</td>\n",
       "    </tr>\n",
       "    <tr>\n",
       "      <th>4</th>\n",
       "      <td>312</td>\n",
       "      <td>NaN</td>\n",
       "      <td>SEC</td>\n",
       "      <td>[10, 0, 7, 14]</td>\n",
       "      <td>31.0</td>\n",
       "      <td>0.000187</td>\n",
       "      <td>Ole Miss</td>\n",
       "      <td>True</td>\n",
       "      <td>SEC</td>\n",
       "      <td>[7, 31, 14, 7]</td>\n",
       "      <td>...</td>\n",
       "      <td>5</td>\n",
       "      <td>0</td>\n",
       "      <td>True</td>\n",
       "      <td>1.000000</td>\n",
       "      <td>Ole Miss</td>\n",
       "      <td>SEC</td>\n",
       "      <td>28.0</td>\n",
       "      <td>1.10</td>\n",
       "      <td>1.00</td>\n",
       "      <td>0.065714</td>\n",
       "    </tr>\n",
       "    <tr>\n",
       "      <th>5</th>\n",
       "      <td>410</td>\n",
       "      <td>NaN</td>\n",
       "      <td>SEC</td>\n",
       "      <td>[14, 10, 10, 13]</td>\n",
       "      <td>47.0</td>\n",
       "      <td>0.986383</td>\n",
       "      <td>Alabama</td>\n",
       "      <td>True</td>\n",
       "      <td>SEC</td>\n",
       "      <td>[7, 6, 7, 8]</td>\n",
       "      <td>...</td>\n",
       "      <td>6</td>\n",
       "      <td>0</td>\n",
       "      <td>False</td>\n",
       "      <td>1.000000</td>\n",
       "      <td>Texas A&amp;M</td>\n",
       "      <td>SEC</td>\n",
       "      <td>19.0</td>\n",
       "      <td>1.00</td>\n",
       "      <td>1.00</td>\n",
       "      <td>0.132222</td>\n",
       "    </tr>\n",
       "    <tr>\n",
       "      <th>6</th>\n",
       "      <td>498</td>\n",
       "      <td>NaN</td>\n",
       "      <td>SEC</td>\n",
       "      <td>[7, 3, 3, 0]</td>\n",
       "      <td>13.0</td>\n",
       "      <td>0.002381</td>\n",
       "      <td>Tennessee</td>\n",
       "      <td>True</td>\n",
       "      <td>SEC</td>\n",
       "      <td>[14, 7, 7, 7]</td>\n",
       "      <td>...</td>\n",
       "      <td>7</td>\n",
       "      <td>0</td>\n",
       "      <td>True</td>\n",
       "      <td>1.000000</td>\n",
       "      <td>Tennessee</td>\n",
       "      <td>SEC</td>\n",
       "      <td>22.0</td>\n",
       "      <td>1.10</td>\n",
       "      <td>1.00</td>\n",
       "      <td>0.165000</td>\n",
       "    </tr>\n",
       "    <tr>\n",
       "      <th>7</th>\n",
       "      <td>547</td>\n",
       "      <td>NaN</td>\n",
       "      <td>SEC</td>\n",
       "      <td>[0, 0, 0, 7]</td>\n",
       "      <td>7.0</td>\n",
       "      <td>0.000004</td>\n",
       "      <td>Arkansas</td>\n",
       "      <td>True</td>\n",
       "      <td>SEC</td>\n",
       "      <td>[17, 24, 7, 0]</td>\n",
       "      <td>...</td>\n",
       "      <td>8</td>\n",
       "      <td>0</td>\n",
       "      <td>True</td>\n",
       "      <td>1.000000</td>\n",
       "      <td>Arkansas</td>\n",
       "      <td>SEC</td>\n",
       "      <td>41.0</td>\n",
       "      <td>1.10</td>\n",
       "      <td>1.00</td>\n",
       "      <td>0.059921</td>\n",
       "    </tr>\n",
       "    <tr>\n",
       "      <th>8</th>\n",
       "      <td>629</td>\n",
       "      <td>NaN</td>\n",
       "      <td>SEC</td>\n",
       "      <td>[10, 23, 0, 13]</td>\n",
       "      <td>46.0</td>\n",
       "      <td>0.948971</td>\n",
       "      <td>LSU</td>\n",
       "      <td>True</td>\n",
       "      <td>SEC</td>\n",
       "      <td>[7, 6, 7, 21]</td>\n",
       "      <td>...</td>\n",
       "      <td>8</td>\n",
       "      <td>1</td>\n",
       "      <td>True</td>\n",
       "      <td>0.888889</td>\n",
       "      <td>LSU</td>\n",
       "      <td>SEC</td>\n",
       "      <td>-5.0</td>\n",
       "      <td>1.10</td>\n",
       "      <td>1.00</td>\n",
       "      <td>-0.000000</td>\n",
       "    </tr>\n",
       "    <tr>\n",
       "      <th>9</th>\n",
       "      <td>669</td>\n",
       "      <td>NaN</td>\n",
       "      <td>SEC</td>\n",
       "      <td>[21, 14, 3, 0]</td>\n",
       "      <td>38.0</td>\n",
       "      <td>0.996396</td>\n",
       "      <td>Alabama</td>\n",
       "      <td>True</td>\n",
       "      <td>SEC</td>\n",
       "      <td>[7, 0, 0, 0]</td>\n",
       "      <td>...</td>\n",
       "      <td>9</td>\n",
       "      <td>1</td>\n",
       "      <td>False</td>\n",
       "      <td>0.900000</td>\n",
       "      <td>Mississippi State</td>\n",
       "      <td>SEC</td>\n",
       "      <td>31.0</td>\n",
       "      <td>1.00</td>\n",
       "      <td>1.00</td>\n",
       "      <td>0.202738</td>\n",
       "    </tr>\n",
       "    <tr>\n",
       "      <th>10</th>\n",
       "      <td>722</td>\n",
       "      <td>NaN</td>\n",
       "      <td>None</td>\n",
       "      <td>[0, 0, 0, 3]</td>\n",
       "      <td>3.0</td>\n",
       "      <td>0.000002</td>\n",
       "      <td>Western Carolina</td>\n",
       "      <td>False</td>\n",
       "      <td>SEC</td>\n",
       "      <td>[17, 21, 21, 7]</td>\n",
       "      <td>...</td>\n",
       "      <td>10</td>\n",
       "      <td>1</td>\n",
       "      <td>True</td>\n",
       "      <td>0.909091</td>\n",
       "      <td>Western Carolina</td>\n",
       "      <td>None</td>\n",
       "      <td>63.0</td>\n",
       "      <td>1.10</td>\n",
       "      <td>0.15</td>\n",
       "      <td>0.043250</td>\n",
       "    </tr>\n",
       "    <tr>\n",
       "      <th>11</th>\n",
       "      <td>813</td>\n",
       "      <td>NaN</td>\n",
       "      <td>SEC</td>\n",
       "      <td>[3, 28, 7, 7]</td>\n",
       "      <td>45.0</td>\n",
       "      <td>0.400109</td>\n",
       "      <td>Alabama</td>\n",
       "      <td>True</td>\n",
       "      <td>SEC</td>\n",
       "      <td>[7, 20, 13, 8]</td>\n",
       "      <td>...</td>\n",
       "      <td>10</td>\n",
       "      <td>2</td>\n",
       "      <td>False</td>\n",
       "      <td>0.833333</td>\n",
       "      <td>Auburn</td>\n",
       "      <td>SEC</td>\n",
       "      <td>-3.0</td>\n",
       "      <td>1.00</td>\n",
       "      <td>1.00</td>\n",
       "      <td>-0.086607</td>\n",
       "    </tr>\n",
       "  </tbody>\n",
       "</table>\n",
       "<p>12 rows × 34 columns</p>\n",
       "</div>"
      ],
      "text/plain": [
       "    index  attendance   away_conference  away_line_scores  away_points  \\\n",
       "0      45         NaN               ACC      [0, 3, 0, 0]          3.0   \n",
       "1     120         NaN  FBS Independents      [0, 0, 7, 3]         10.0   \n",
       "2     178         NaN               SEC  [14, 10, 10, 13]         47.0   \n",
       "3     239         NaN    Conference USA      [0, 7, 0, 0]          7.0   \n",
       "4     312         NaN               SEC    [10, 0, 7, 14]         31.0   \n",
       "5     410         NaN               SEC  [14, 10, 10, 13]         47.0   \n",
       "6     498         NaN               SEC      [7, 3, 3, 0]         13.0   \n",
       "7     547         NaN               SEC      [0, 0, 0, 7]          7.0   \n",
       "8     629         NaN               SEC   [10, 23, 0, 13]         46.0   \n",
       "9     669         NaN               SEC    [21, 14, 3, 0]         38.0   \n",
       "10    722         NaN              None      [0, 0, 0, 3]          3.0   \n",
       "11    813         NaN               SEC     [3, 28, 7, 7]         45.0   \n",
       "\n",
       "    away_post_win_prob             away_team  conference_game home_conference  \\\n",
       "0             0.000009                  Duke            False             SEC   \n",
       "1             0.000006      New Mexico State            False             SEC   \n",
       "2             0.930849               Alabama             True             SEC   \n",
       "3             0.000014  Southern Mississippi            False             SEC   \n",
       "4             0.000187              Ole Miss             True             SEC   \n",
       "5             0.986383               Alabama             True             SEC   \n",
       "6             0.002381             Tennessee             True             SEC   \n",
       "7             0.000004              Arkansas             True             SEC   \n",
       "8             0.948971                   LSU             True             SEC   \n",
       "9             0.996396               Alabama             True             SEC   \n",
       "10            0.000002      Western Carolina            False             SEC   \n",
       "11            0.400109               Alabama             True             SEC   \n",
       "\n",
       "   home_line_scores  ...  wins  losses   home    winPct                   opp  \\\n",
       "0    [0, 14, 21, 7]  ...     1       0   True  1.000000                  Duke   \n",
       "1   [21, 17, 24, 0]  ...     2       0   True  1.000000      New Mexico State   \n",
       "2    [10, 0, 3, 10]  ...     3       0  False  1.000000        South Carolina   \n",
       "3   [14, 14, 14, 7]  ...     4       0   True  1.000000  Southern Mississippi   \n",
       "4    [7, 31, 14, 7]  ...     5       0   True  1.000000              Ole Miss   \n",
       "5      [7, 6, 7, 8]  ...     6       0  False  1.000000             Texas A&M   \n",
       "6     [14, 7, 7, 7]  ...     7       0   True  1.000000             Tennessee   \n",
       "7    [17, 24, 7, 0]  ...     8       0   True  1.000000              Arkansas   \n",
       "8     [7, 6, 7, 21]  ...     8       1   True  0.888889                   LSU   \n",
       "9      [7, 0, 0, 0]  ...     9       1  False  0.900000     Mississippi State   \n",
       "10  [17, 21, 21, 7]  ...    10       1   True  0.909091      Western Carolina   \n",
       "11   [7, 20, 13, 8]  ...    10       2  False  0.833333                Auburn   \n",
       "\n",
       "      opp_conference point_diff loc_mult conf_mult  win_q_14  \n",
       "0                ACC       39.0     1.05      1.00  0.028571  \n",
       "1   FBS Independents       52.0     1.10      0.50  0.009643  \n",
       "2                SEC       24.0     1.00      1.00  0.039365  \n",
       "3     Conference USA       42.0     1.10      0.50  0.052778  \n",
       "4                SEC       28.0     1.10      1.00  0.065714  \n",
       "5                SEC       19.0     1.00      1.00  0.132222  \n",
       "6                SEC       22.0     1.10      1.00  0.165000  \n",
       "7                SEC       41.0     1.10      1.00  0.059921  \n",
       "8                SEC       -5.0     1.10      1.00 -0.000000  \n",
       "9                SEC       31.0     1.00      1.00  0.202738  \n",
       "10              None       63.0     1.10      0.15  0.043250  \n",
       "11               SEC       -3.0     1.00      1.00 -0.086607  \n",
       "\n",
       "[12 rows x 34 columns]"
      ]
     },
     "execution_count": 130,
     "metadata": {},
     "output_type": "execute_result"
    }
   ],
   "source": [
    "FBSdict['Alabama']"
   ]
  },
  {
   "cell_type": "code",
   "execution_count": null,
   "metadata": {},
   "outputs": [],
   "source": []
  },
  {
   "cell_type": "code",
   "execution_count": 30,
   "metadata": {},
   "outputs": [
    {
     "ename": "AttributeError",
     "evalue": "'DataFrame' object has no attribute 'win_q'",
     "output_type": "error",
     "traceback": [
      "\u001b[0;31m---------------------------------------------------------------------------\u001b[0m",
      "\u001b[0;31mAttributeError\u001b[0m                            Traceback (most recent call last)",
      "\u001b[0;32m<ipython-input-30-132762c71f51>\u001b[0m in \u001b[0;36m<module>\u001b[0;34m\u001b[0m\n\u001b[0;32m----> 1\u001b[0;31m \u001b[0mFBSdict\u001b[0m\u001b[0;34m[\u001b[0m\u001b[0;34m'Rutgers'\u001b[0m\u001b[0;34m]\u001b[0m\u001b[0;34m.\u001b[0m\u001b[0mwin_q\u001b[0m\u001b[0;34m.\u001b[0m\u001b[0mmean\u001b[0m\u001b[0;34m(\u001b[0m\u001b[0;34m)\u001b[0m\u001b[0;34m\u001b[0m\u001b[0;34m\u001b[0m\u001b[0m\n\u001b[0m",
      "\u001b[0;32m~/anaconda3/lib/python3.7/site-packages/pandas/core/generic.py\u001b[0m in \u001b[0;36m__getattr__\u001b[0;34m(self, name)\u001b[0m\n\u001b[1;32m   5177\u001b[0m             \u001b[0;32mif\u001b[0m \u001b[0mself\u001b[0m\u001b[0;34m.\u001b[0m\u001b[0m_info_axis\u001b[0m\u001b[0;34m.\u001b[0m\u001b[0m_can_hold_identifiers_and_holds_name\u001b[0m\u001b[0;34m(\u001b[0m\u001b[0mname\u001b[0m\u001b[0;34m)\u001b[0m\u001b[0;34m:\u001b[0m\u001b[0;34m\u001b[0m\u001b[0;34m\u001b[0m\u001b[0m\n\u001b[1;32m   5178\u001b[0m                 \u001b[0;32mreturn\u001b[0m \u001b[0mself\u001b[0m\u001b[0;34m[\u001b[0m\u001b[0mname\u001b[0m\u001b[0;34m]\u001b[0m\u001b[0;34m\u001b[0m\u001b[0;34m\u001b[0m\u001b[0m\n\u001b[0;32m-> 5179\u001b[0;31m             \u001b[0;32mreturn\u001b[0m \u001b[0mobject\u001b[0m\u001b[0;34m.\u001b[0m\u001b[0m__getattribute__\u001b[0m\u001b[0;34m(\u001b[0m\u001b[0mself\u001b[0m\u001b[0;34m,\u001b[0m \u001b[0mname\u001b[0m\u001b[0;34m)\u001b[0m\u001b[0;34m\u001b[0m\u001b[0;34m\u001b[0m\u001b[0m\n\u001b[0m\u001b[1;32m   5180\u001b[0m \u001b[0;34m\u001b[0m\u001b[0m\n\u001b[1;32m   5181\u001b[0m     \u001b[0;32mdef\u001b[0m \u001b[0m__setattr__\u001b[0m\u001b[0;34m(\u001b[0m\u001b[0mself\u001b[0m\u001b[0;34m,\u001b[0m \u001b[0mname\u001b[0m\u001b[0;34m,\u001b[0m \u001b[0mvalue\u001b[0m\u001b[0;34m)\u001b[0m\u001b[0;34m:\u001b[0m\u001b[0;34m\u001b[0m\u001b[0;34m\u001b[0m\u001b[0m\n",
      "\u001b[0;31mAttributeError\u001b[0m: 'DataFrame' object has no attribute 'win_q'"
     ]
    }
   ],
   "source": [
    "FBSdict['Rutgers'].win_q.mean()"
   ]
  },
  {
   "cell_type": "code",
   "execution_count": 31,
   "metadata": {},
   "outputs": [
    {
     "name": "stderr",
     "output_type": "stream",
     "text": [
      "/home/mike/anaconda3/lib/python3.7/site-packages/ipykernel_launcher.py:1: FutureWarning: `item` has been deprecated and will be removed in a future version\n",
      "  \"\"\"Entry point for launching an IPython kernel.\n"
     ]
    },
    {
     "data": {
      "text/plain": [
       "(2, 10)"
      ]
     },
     "execution_count": 31,
     "metadata": {},
     "output_type": "execute_result"
    }
   ],
   "source": [
    "FBSdict['Rutgers'].tail(1).wins.item(),FBSdict['Rutgers'].tail(1).losses.item()"
   ]
  },
  {
   "cell_type": "code",
   "execution_count": null,
   "metadata": {},
   "outputs": [],
   "source": []
  }
 ],
 "metadata": {
  "kernelspec": {
   "display_name": "Python 3",
   "language": "python",
   "name": "python3"
  },
  "language_info": {
   "codemirror_mode": {
    "name": "ipython",
    "version": 3
   },
   "file_extension": ".py",
   "mimetype": "text/x-python",
   "name": "python",
   "nbconvert_exporter": "python",
   "pygments_lexer": "ipython3",
   "version": "3.7.5"
  }
 },
 "nbformat": 4,
 "nbformat_minor": 4
}
