{
 "cells": [
  {
   "cell_type": "code",
   "execution_count": 1,
   "metadata": {},
   "outputs": [],
   "source": [
    "import json\n",
    "import pandas as pd\n",
    "import numpy as np\n",
    "from tqdm.notebook import tqdm\n",
    "from sklearn import preprocessing\n",
    "import urllib\n",
    "import os\n",
    "import matplotlib.pyplot as plt\n",
    "plt.style.use('fivethirtyeight')"
   ]
  },
  {
   "cell_type": "code",
   "execution_count": 2,
   "metadata": {},
   "outputs": [],
   "source": [
    "P5 = ['ACC','Pac-12','Pac-10','Big East','Big Ten','Big 12','SEC','Notre Dame','Southwest']\n",
    "G5 = ['Conference USA','Sun Belt','Mid-American','American Athletic','Mountain West','FBS Independents','Western Athletic']\n",
    "\n",
    "def getTeamInfo(year):\n",
    "    info_json_url = urllib.request.urlopen('https://api.collegefootballdata.com/teams/fbs?year=%s'%year)\n",
    "    teamInfo = json.loads(info_json_url.read())\n",
    "    teamInfo = pd.DataFrame(teamInfo)\n",
    "    return teamInfo\n",
    "\n",
    "def seasonProgression(dfR):\n",
    "    totalGames = len(dfR)\n",
    "    cWeek = int(dfR['week']) + 1\n",
    "    return cWeek/(2*totalGames)\n",
    "\n",
    "def winningTeam(dfR):\n",
    "    if dfR['home_points'] > dfR['away_points']:\n",
    "        return dfR['home_team']\n",
    "    else:\n",
    "        return dfR['away_team']\n",
    "    \n",
    "def teamWin(dfR, team):\n",
    "    if dfR.winner == team:\n",
    "        return True\n",
    "    else:\n",
    "        return False\n",
    "    \n",
    "def findOpp(dfR):\n",
    "    if dfR.home == True:\n",
    "        return dfR.away_team\n",
    "    else:\n",
    "        return dfR.home_team\n",
    "def findOppConf(dfR):\n",
    "    if dfR.home == True:\n",
    "        return dfR.away_conference\n",
    "    else:\n",
    "        return dfR.home_conference\n",
    "    \n",
    "def locMult(dfR):\n",
    "    if dfR['neutral_site'] == True:\n",
    "        return 1.05\n",
    "    elif dfR['home'] == True:\n",
    "        return 1.1\n",
    "    else:\n",
    "        return 1.\n",
    "    \n",
    "def pointDiff(dfR,team):\n",
    "    if dfR.home_team == team:\n",
    "        return dfR.home_points - dfR.away_points\n",
    "    else:\n",
    "        return dfR.away_points - dfR.home_points\n",
    "    \n",
    "def confMult(dfR):\n",
    "    if dfR.opp_conference in P5:\n",
    "        return 1.\n",
    "    elif dfR.opp_conference in G5:\n",
    "        return 0.5\n",
    "    else:\n",
    "        return 0.15\n",
    "    \n",
    "def winQ(dfR,week,FBSdict): \n",
    "    if dfR.opp_conference == None:\n",
    "        oppWinPct = 0.5\n",
    "    else:\n",
    "#         print(dfR.opp_conference)\n",
    "        oppWinPct = FBSdict[dfR.opp].loc[FBSdict[dfR.opp].week <= week, 'winPct'].tail(1).iloc[0]\n",
    "    \n",
    "    if dfR.teamWin == True:\n",
    "        winMult = 1\n",
    "        oppFactor = oppWinPct\n",
    "    else:\n",
    "        winMult = -1\n",
    "        oppFactor = 1 - oppWinPct\n",
    "    \n",
    "    return oppFactor * dfR.seasonProg * dfR.conf_mult * winMult*(dfR.loc_mult + 0.01*dfR.point_diff)\n",
    "\n",
    "def calcPct(team, week,FBSdict):\n",
    "    winqweek = 'win_q_'+str(week)\n",
    "    wins = FBSdict[team].loc[FBSdict[team].week <= week, 'wins'].tail(1).iloc[0]\n",
    "    losses = FBSdict[team].loc[FBSdict[team].week <= week, 'losses'].tail(1).iloc[0]\n",
    "    return 0.9 * FBSdict[team][winqweek].mean() + 0.01*(wins-losses)"
   ]
  },
  {
   "cell_type": "code",
   "execution_count": 3,
   "metadata": {},
   "outputs": [],
   "source": [
    "def getRanks(year):\n",
    "    json_url = urllib.request.urlopen('https://api.collegefootballdata.com/games?year=%s&seasonType=regular'%year)\n",
    "    jsonFile = json.loads(json_url.read())\n",
    "    curSch = pd.DataFrame(jsonFile)\n",
    "    \n",
    "    curWeek = max(curSch['week'])\n",
    "    \n",
    "    json_url2 = urllib.request.urlopen('https://api.collegefootballdata.com/games?year=%s&seasonType=postseason'%year)\n",
    "    jsonFile2 = json.loads(json_url2.read())\n",
    "    postSch = pd.DataFrame(jsonFile2)\n",
    "    postSch['week'] = postSch['week'] + curWeek\n",
    "    curSch = curSch.append(postSch)\n",
    "    curSch = curSch.dropna(subset=['away_points'])\n",
    "    curSch.loc[curSch.away_team == 'Notre Dame','away_conference'] = 'Notre Dame'\n",
    "    curSch.loc[curSch.home_team == 'Notre Dame','home_conference'] = 'Notre Dame'\n",
    "    \n",
    "    teamInfo = getTeamInfo(year)\n",
    "    info2019 = getTeamInfo(2019)\n",
    "    \n",
    "    for t in teamInfo.index:\n",
    "        if teamInfo.loc[t].conference == \"FBS Independents\":\n",
    "            try:\n",
    "                conf2019 = info2019.loc[info2019.school == teamInfo.loc[t].school,'conference']\n",
    "            except ValueError:\n",
    "                conf2019 = teamInfo.loc[t].conference\n",
    "            teamInfo.at[t,'conference'] = conf2019\n",
    "\n",
    "    FBSteams = np.array(teamInfo.school)\n",
    "    FBSteams.sort()\n",
    "\n",
    "    FBSdict = {}\n",
    "    for team in FBSteams:\n",
    "        FBSdict[team] = curSch[(curSch['away_team'] == team) | \n",
    "                               (curSch['home_team'] == team)]\n",
    "#         FBSdict[team] = FBSdict[team][np.isfinite(FBSdict[team].away_points)]\n",
    "        FBSdict[team] = FBSdict[team].reset_index()\n",
    "\n",
    "    FBSbar = tqdm(total=len(FBSteams),desc='Vars:',leave=False)\n",
    "    for key in FBSdict:\n",
    "        FBSbar.set_description('Vars: %s'%key)\n",
    "        FBSdict[key]['seasonProg'] = FBSdict[key].apply(lambda row: seasonProgression(row),axis = 1)\n",
    "        FBSdict[key]['winner'] = FBSdict[key].apply(lambda row: winningTeam(row),axis = 1)\n",
    "        FBSdict[key]['teamWin'] = FBSdict[key].apply(lambda row: teamWin(row,key),axis = 1)\n",
    "\n",
    "        wins = 0\n",
    "        losses = 0\n",
    "        winList = []\n",
    "        lossList = []\n",
    "        for row in FBSdict[key].itertuples():\n",
    "        #     print(row.winner)\n",
    "            if row.teamWin:\n",
    "                wins += 1\n",
    "            else:\n",
    "                losses += 1\n",
    "            winList.append(wins)\n",
    "            lossList.append(losses)\n",
    "\n",
    "        FBSdict[key]['wins'] = winList\n",
    "        FBSdict[key]['losses'] = lossList\n",
    "\n",
    "        hometeam = FBSdict[key]['home_team'] == key\n",
    "        FBSdict[key]['home'] = hometeam\n",
    "\n",
    "        FBSdict[key]['winPct'] = FBSdict[key]['wins']/(FBSdict[key]['losses'] + FBSdict[key]['wins'])\n",
    "        FBSdict[key]['opp'] = FBSdict[key].apply(lambda row: findOpp(row), axis = 1)\n",
    "        FBSdict[key]['opp_conference'] = FBSdict[key].apply(lambda row: findOppConf(row), axis = 1)\n",
    "        FBSdict[key]['point_diff'] = FBSdict[key].apply(lambda row: pointDiff(row,key), axis = 1)\n",
    "        FBSdict[key]['loc_mult'] = FBSdict[key].apply(lambda row: locMult(row), axis = 1)\n",
    "        FBSdict[key]['conf_mult'] = FBSdict[key].apply(lambda row: confMult(row), axis = 1)\n",
    "\n",
    "        FBSbar.update(1)\n",
    "    FBSbar.close()\n",
    "    \n",
    "    FBSbar2 = tqdm(total=len(FBSteams),desc='WinQ:',leave=False)\n",
    "    for key in FBSdict:\n",
    "        FBSbar2.set_description('WinQ: %s'%key)\n",
    "        for w in range(4,curWeek+1):\n",
    "            FBSdict[key]['win_q_'+str(w)] = FBSdict[key].apply(lambda row: winQ(row, w, FBSdict),axis=1)\n",
    "        FBSbar2.update()\n",
    "    FBSbar2.close()\n",
    "    \n",
    "    FBSbar3 = tqdm(total=len(FBSteams),desc='PCT:',leave=False)\n",
    "    FBSpct = {}\n",
    "    for key in FBSdict:\n",
    "        FBSbar3.set_description('PCT: %s'%key)\n",
    "        pctList = []\n",
    "        for w in range(4,curWeek+1):\n",
    "            pctList.append(calcPct(key,w,FBSdict))\n",
    "        FBSpct[key] = pctList\n",
    "        FBSbar3.update()\n",
    "    FBSbar3.close()\n",
    "    \n",
    "    if not os.path.exists(str(year)):\n",
    "            os.mkdir(str(year))\n",
    "\n",
    "    PCTdf = pd.DataFrame.from_dict(FBSpct,orient='index',columns=range(4,curWeek+1))\n",
    "    PCTdf.to_csv('%s/PCT.csv'%year)\n",
    "\n",
    "    PCTnormdf = pd.DataFrame(index = FBSteams,columns=range(4,curWeek+1))\n",
    "\n",
    "    for w in range(4,curWeek+1):\n",
    "        x = PCTdf[w].values.reshape(-1,1)\n",
    "        min_max_scaler = preprocessing.MinMaxScaler()\n",
    "        xScaled = min_max_scaler.fit_transform(x)\n",
    "        PCTnormdf[w] = xScaled.reshape(len(FBSteams))\n",
    "\n",
    "    PCTnormdf.to_csv('%s/PCT_norm.csv'%year)\n",
    "\n",
    "    Ranks = PCTdf.rank(method='first',ascending=False).astype('int64')\n",
    "    Ranks.to_csv('%s/Ranks.csv'%year)\n",
    "\n",
    "    for w in range(4,curWeek+1):\n",
    "        Wdf = pd.concat([PCTnormdf[w],Ranks[w]],axis=1)\n",
    "        Wdf.columns = ['PCT','Rank']\n",
    "        Wdf = Wdf.sort_values('Rank')\n",
    "        Wdf.to_csv('%s/W%s.csv'%(year,w))"
   ]
  },
  {
   "cell_type": "code",
   "execution_count": 4,
   "metadata": {},
   "outputs": [],
   "source": [
    "def plotTeamRank(team,teamInfo,Ranks,year,show=False):\n",
    "    fig = plt.figure(figsize=(12,5),facecolor='w')\n",
    "    # plt.subplot(121)\n",
    "    plt.gca().invert_yaxis()\n",
    "    plt.title('%s - %s'%(team,year),size=18,fontweight='bold')\n",
    "#     plt.title('Rankings over the 2019 CFB Season',size=14)\n",
    "    plt.xlabel('Week',weight='medium')\n",
    "    plt.ylabel('Rank',weight='medium')\n",
    "    plt.xticks(fontname = 'NovaMono',weight='medium')\n",
    "    plt.yticks(fontname = 'NovaMono',weight='medium')\n",
    "    try:\n",
    "        teamColor = teamInfo.loc[teamInfo.school == team,'color'].iloc[0]\n",
    "        teamAltColor = teamInfo.loc[teamInfo.school == team,'alt_color'].iloc[0]\n",
    "    except ValueError:\n",
    "        teamColor = 'k'\n",
    "        teamAltColor = 'w'\n",
    "    plt.plot(Ranks.loc[team],c=str(teamColor),label=team,lw=5,\n",
    "             marker = 'o',markersize=10,markerfacecolor=str(teamAltColor),markeredgewidth=2.5,markeredgecolor=str(teamColor))\n",
    "    plt.tight_layout()\n",
    "    if not os.path.exists(str(year)+'/Rank Graphs'):\n",
    "            os.mkdir(str(year)+'/Rank Graphs')\n",
    "    plt.savefig('%s/Rank Graphs/%s_%s_Ranks.png'%(year,team,year),facecolor=fig.get_facecolor())\n",
    "    if show:\n",
    "        plt.show()\n",
    "    else:\n",
    "        plt.close()\n",
    "\n",
    "def graphRanks(year):\n",
    "    info_json_url = urllib.request.urlopen('https://api.collegefootballdata.com/teams/fbs?year=%s'%year)\n",
    "    teamInfo = json.loads(info_json_url.read())\n",
    "    teamInfo = pd.DataFrame(teamInfo)\n",
    "\n",
    "    Ranks = pd.read_csv('%s/Ranks.csv'%year,index_col=0)\n",
    "    PCT = pd.read_csv('%s/PCT_norm.csv'%year,index_col=0)\n",
    "\n",
    "    Ranks = Ranks.sort_values(str(max([int(r) for r in Ranks.columns])))\n",
    "\n",
    "    TeamList = Ranks.index\n",
    "\n",
    "    plt.rcParams['font.family'] = 'Roboto Mono'\n",
    "    plt.rcParams['font.weight'] = 'medium'\n",
    "\n",
    "    graphBar = tqdm(total=len(TeamList),leave=False)\n",
    "#     print(\"Graphing:\")\n",
    "    for team in TeamList:\n",
    "        graphBar.set_description('Graph: %s'%team)\n",
    "        plotTeamRank(team,teamInfo,Ranks,year)\n",
    "        graphBar.update(1)\n",
    "    graphBar.close() \n",
    "    fig = plt.figure(figsize=(12,7),facecolor='w')\n",
    "    # plt.subplot(121)\n",
    "    plt.gca().invert_yaxis()\n",
    "    plt.title('Top Ten Teams, %s'%year,size=18,fontweight='bold')\n",
    "    # plt.title('Rankings over the 2019 CFB Season',size=14)\n",
    "    plt.xlabel('Week',weight='medium')\n",
    "    plt.ylabel('Rank',weight='medium')\n",
    "    plt.xticks(fontname = 'NovaMono',weight='medium')\n",
    "    plt.yticks(fontname = 'NovaMono',weight='medium')\n",
    "#     teamColor = teamInfo[teamInfo.school == team].color.item()\n",
    "    for team in TeamList[:10]:\n",
    "        teamColor = teamInfo.loc[teamInfo.school == team,'color'].iloc[0]\n",
    "        teamAltColor = teamInfo.loc[teamInfo.school == team,'alt_color'].iloc[0]\n",
    "        plt.plot(Ranks.loc[team],c=str(teamColor),label=team,lw=5,\n",
    "                 marker = 'o',markersize=10,markerfacecolor=str(teamAltColor),markeredgewidth=2.5,markeredgecolor=str(teamColor))\n",
    "    plt.legend(bbox_to_anchor=(1, 1.025), loc='upper left', ncol=1)\n",
    "    plt.tight_layout()\n",
    "    plt.savefig('%s/topten.png'%year,facecolor=fig.get_facecolor())\n",
    "    plt.close()\n",
    "    \n",
    "    fig = plt.figure(figsize=(12,8),facecolor='w')\n",
    "    # plt.subplot(121)\n",
    "    plt.gca().invert_yaxis()\n",
    "    plt.title('Ranked, %s'%year,size=18,fontweight='bold')\n",
    "    # plt.title('Rankings over the 2019 CFB Season',size=14)\n",
    "    plt.xlabel('Week',weight='medium')\n",
    "    plt.ylabel('Rank',weight='medium')\n",
    "    plt.xticks(fontname = 'NovaMono',weight='medium')\n",
    "    plt.yticks(fontname = 'NovaMono',weight='medium')\n",
    "#     teamColor = teamInfo[teamInfo.school == team].color.item()\n",
    "    for team in TeamList[:25]:\n",
    "        teamColor = teamInfo.loc[teamInfo.school == team,'color'].iloc[0]\n",
    "        teamAltColor = teamInfo.loc[teamInfo.school == team,'alt_color'].iloc[0]\n",
    "        plt.plot(Ranks.loc[team],c=str(teamColor),label=team,lw=5,\n",
    "                 marker = 'o',markersize=10,markerfacecolor=str(teamAltColor),markeredgewidth=2.5,markeredgecolor=str(teamColor))\n",
    "    plt.legend(bbox_to_anchor=(1, 1.025), loc='upper left', ncol=1)\n",
    "    plt.tight_layout()\n",
    "    plt.savefig('%s/ranked.png'%year,facecolor=fig.get_facecolor())\n",
    "    plt.close()\n",
    "\n",
    "    fig = plt.figure(figsize=(12,7),facecolor='w')\n",
    "    # plt.subplot(121)\n",
    "#     plt.gca().invert_yaxis()\n",
    "    plt.title('Top Ten Teams (PCT), %s'%year,size=18,fontweight='bold')\n",
    "    # plt.title('Rankings over the 2019 CFB Season',size=14)\n",
    "    plt.xlabel('Week',weight='medium')\n",
    "    plt.ylabel('Rank',weight='medium')\n",
    "    plt.xticks(fontname = 'NovaMono',weight='medium')\n",
    "    plt.yticks(fontname = 'NovaMono',weight='medium')\n",
    "#     teamColor = teamInfo[teamInfo.school == team].color.item()\n",
    "    for team in TeamList[:10]:\n",
    "        teamColor = teamInfo.loc[teamInfo.school == team,'color'].iloc[0]\n",
    "        teamAltColor = teamInfo.loc[teamInfo.school == team,'alt_color'].iloc[0]\n",
    "        plt.plot(PCT.loc[team],c=str(teamColor),label=team,lw=5,\n",
    "                 marker = 'o',markersize=10,markerfacecolor=str(teamAltColor),markeredgewidth=2.5,markeredgecolor=str(teamColor))\n",
    "    plt.legend(bbox_to_anchor=(1, 1.025), loc='upper left', ncol=1)\n",
    "    plt.tight_layout()\n",
    "    plt.savefig('%s/topten_PCT.png'%year,facecolor=fig.get_facecolor())\n",
    "    plt.close()\n",
    "    \n",
    "    fig = plt.figure(figsize=(12,8),facecolor='w')\n",
    "    # plt.subplot(121)\n",
    "#     plt.gca().invert_yaxis()\n",
    "    plt.title('Ranked (PCT), %s'%year,size=18,fontweight='bold')\n",
    "    # plt.title('Rankings over the 2019 CFB Season',size=14)\n",
    "    plt.xlabel('Week',weight='medium')\n",
    "    plt.ylabel('Rank',weight='medium')\n",
    "    plt.xticks(fontname = 'NovaMono',weight='medium')\n",
    "    plt.yticks(fontname = 'NovaMono',weight='medium')\n",
    "#     teamColor = teamInfo[teamInfo.school == team].color.item()\n",
    "    for team in TeamList[:25]:\n",
    "        teamColor = teamInfo.loc[teamInfo.school == team,'color'].iloc[0]\n",
    "        teamAltColor = teamInfo.loc[teamInfo.school == team,'alt_color'].iloc[0]\n",
    "        plt.plot(PCT.loc[team],c=teamColor,label=team,lw=5,\n",
    "                 marker = 'o',markersize=10,markerfacecolor=str(teamAltColor),markeredgewidth=2.5,markeredgecolor=str(teamColor))\n",
    "    plt.legend(bbox_to_anchor=(1, 1.025), loc='upper left', ncol=1)\n",
    "    plt.tight_layout()\n",
    "    plt.savefig('%s/ranked_PCT.png'%year,facecolor=fig.get_facecolor())\n",
    "    plt.close()\n",
    "    \n",
    "    totalRise = Ranks['4'] - Ranks[str(max([int(r) for r in Ranks.columns]))]\n",
    "    totalRise = totalRise.sort_values()\n",
    "    biggestRises = totalRise.tail(5)\n",
    "    biggestFalls = totalRise.head(5)\n",
    "\n",
    "    fig = plt.figure(figsize=(12,5),facecolor='w')\n",
    "    # plt.subplot(121)\n",
    "    plt.gca().invert_yaxis()\n",
    "    plt.title('Biggest Risers, %s'%year,size=18,fontweight='bold')\n",
    "    # plt.title('Rankings over the 2019 CFB Season',size=14)\n",
    "    plt.xlabel('Week',weight='medium')\n",
    "    plt.ylabel('Rank',weight='medium')\n",
    "    plt.xticks(fontname = 'NovaMono',weight='medium')\n",
    "    plt.yticks(fontname = 'NovaMono',weight='medium')\n",
    "#     teamColor = teamInfo[teamInfo.school == team].color.item()\n",
    "    for team in biggestRises.index:\n",
    "        teamColor = teamInfo.loc[teamInfo.school == team,'color'].iloc[0]\n",
    "        teamAltColor = teamInfo.loc[teamInfo.school == team,'alt_color'].iloc[0]\n",
    "        plt.plot(Ranks.loc[team],c=str(teamColor),label=team,lw=5,\n",
    "                 marker = 'o',markersize=10,markerfacecolor=str(teamAltColor),markeredgewidth=2.5,markeredgecolor=str(teamColor))\n",
    "    plt.legend(bbox_to_anchor=(1, 1.025), loc='upper left', ncol=1)\n",
    "    plt.tight_layout()\n",
    "    plt.savefig('%s/risers.png'%year,facecolor=fig.get_facecolor())\n",
    "    plt.close()\n",
    "    \n",
    "    fig = plt.figure(figsize=(12,5),facecolor='w')\n",
    "    # plt.subplot(121)\n",
    "    plt.gca().invert_yaxis()\n",
    "    plt.title('Biggest Falls, %s'%year,size=18,fontweight='bold')\n",
    "    # plt.title('Rankings over the 2019 CFB Season',size=14)\n",
    "    plt.xlabel('Week',weight='medium')\n",
    "    plt.ylabel('Rank',weight='medium')\n",
    "    plt.xticks(fontname = 'NovaMono',weight='medium')\n",
    "    plt.yticks(fontname = 'NovaMono',weight='medium')\n",
    "#     teamColor = teamInfo[teamInfo.school == team].color.item()\n",
    "    for team in biggestFalls.index:\n",
    "        teamColor = (teamInfo.loc[teamInfo.school == team,'color'].iloc[0])\n",
    "        teamAltColor = teamInfo.loc[teamInfo.school == team,'alt_color'].iloc[0]\n",
    "        plt.plot(Ranks.loc[team],c=teamColor,label=team,lw=5,\n",
    "                 marker = 'o',markersize=10,markerfacecolor=str(teamAltColor),markeredgewidth=2.5,markeredgecolor=str(teamColor))\n",
    "    plt.legend(bbox_to_anchor=(1, 1.025), loc='upper left', ncol=1)\n",
    "    plt.tight_layout()\n",
    "    plt.savefig('%s/falls.png'%year,facecolor=fig.get_facecolor())\n",
    "    plt.close()"
   ]
  },
  {
   "cell_type": "code",
   "execution_count": 5,
   "metadata": {},
   "outputs": [],
   "source": [
    "def histGraph(team,yrange):\n",
    "    info_json_url = urllib.request.urlopen('https://api.collegefootballdata.com/teams')\n",
    "    teamInfo = json.loads(info_json_url.read())\n",
    "    teamInfo = pd.DataFrame(teamInfo)\n",
    "    \n",
    "    teamColor = teamInfo.loc[teamInfo.school == team,'color'].iloc[0]\n",
    "\n",
    "    dfList = []\n",
    "    weeklenList = [0]\n",
    "    for y in yrange:\n",
    "        rank = pd.read_csv('%s/Ranks.csv'%y,index_col=0)\n",
    "        rank.columns = [\"%s W%s\"%(str(y)[-2:],w) for w in rank.columns]\n",
    "        weeklenList.append(len(rank.columns))\n",
    "        dfList.append(rank)\n",
    "    for i in range(len(dfList)-1,-1,-1):\n",
    "    #     print(i)\n",
    "        try:\n",
    "            k = dfList[i].loc[team]\n",
    "        except KeyError:\n",
    "            startIndex = i+1\n",
    "            break\n",
    "        startIndex = 0\n",
    "    weeklenList = [len(r.columns) for r in dfList[startIndex:]]\n",
    "#     print(weeklenList)\n",
    "    rank = dfList[startIndex]\n",
    "    rank = rank.join(dfList[startIndex+1:])\n",
    "    fillList = [w + sum(weeklenList[:i]) for i,w in enumerate(weeklenList)]\n",
    "\n",
    "    plt.style.use('fivethirtyeight')\n",
    "    fig = plt.figure(figsize=(35,5))\n",
    "    plt.gca().invert_yaxis()\n",
    "    plt.margins(x=0)\n",
    "    plt.plot(rank.loc[team],color=teamColor)\n",
    "    plt.xticks([])\n",
    "    plt.title(team,size=18,weight='bold')\n",
    "    for i in range(0,len(fillList)-1):\n",
    "        if i%2 == 0:\n",
    "            plt.fill_between(fillList[i:i+2],max(rank.loc[team])*1.1,alpha=0.05,color=teamColor)\n",
    "        if i == 0:\n",
    "            plt.text(fillList[i]+weeklenList[1]/3,max(rank.loc[team]*1.08),yrange[i])\n",
    "        else:\n",
    "            plt.text(fillList[i]+weeklenList[i]/3,max(rank.loc[team]*1.08),yrange[i])\n",
    "    plt.tight_layout()\n",
    "    plt.savefig('HistGraphs/Ranks/%s_%s-%s.png'%(team,yrange[0],yrange[-1]),facecolor=fig.get_facecolor())\n",
    "    plt.close()"
   ]
  },
  {
   "cell_type": "code",
   "execution_count": 6,
   "metadata": {},
   "outputs": [],
   "source": [
    "def histGraphPCT(team,yrange,show=False):\n",
    "    info_json_url = urllib.request.urlopen('https://api.collegefootballdata.com/teams')\n",
    "    teamInfo = json.loads(info_json_url.read())\n",
    "    teamInfo = pd.DataFrame(teamInfo)\n",
    "    \n",
    "    teamColor = teamInfo.loc[teamInfo.school == team,'color'].iloc[0]\n",
    "    teamAltColor = teamInfo.loc[teamInfo.school == team,'alt_color']\n",
    "\n",
    "    dfList = []\n",
    "    weeklenList = [0]\n",
    "    for y in yrange:\n",
    "        ranks = pd.read_csv('%s/PCT_norm.csv'%y,index_col=0)\n",
    "        ranks.columns = [\"%s W%s\"%(str(y)[-2:],w) for w in ranks.columns]\n",
    "#         weeklenList.append(len(ranks.columns))\n",
    "        dfList.append(ranks)\n",
    "    \n",
    "    for i in range(len(dfList)-1,-1,-1):\n",
    "    #     print(i)\n",
    "        try:\n",
    "            k = dfList[i].loc[team]\n",
    "        except KeyError:\n",
    "            startIndex = i+1\n",
    "            break\n",
    "        startIndex = 0\n",
    "    weeklenList = [len(r.columns) for r in dfList[startIndex:]]\n",
    "#     print(weeklenList)\n",
    "    rank = dfList[startIndex]\n",
    "    rank = rank.join(dfList[startIndex+1:])\n",
    "    fillList = [w + sum(weeklenList[:i]) for i,w in enumerate(weeklenList)]\n",
    "#     print(fillList)\n",
    "    plt.style.use('fivethirtyeight')\n",
    "    fig = plt.figure(figsize=(35,5))\n",
    "#     plt.gca().invert_yaxis()\n",
    "    plt.margins(x=0)\n",
    "    plt.xticks([])\n",
    "    plt.title(team,size=24,weight='bold')\n",
    "    plt.ylabel('Normalized Rating')\n",
    "    plt.ylim(-0.1,1.1)\n",
    "    plt.plot(rank.loc[team],color=teamColor)\n",
    "    for i in range(0,len(fillList)):\n",
    "        if i%2 == 0:\n",
    "            plt.fill_between(fillList[i:i+2],1,alpha=0.05,color=teamColor)\n",
    "        if i == 0:\n",
    "            plt.text(weeklenList[0]/3,-0.1,yrange[startIndex])\n",
    "        else:\n",
    "            plt.text(fillList[i-1]+weeklenList[1]/3,-0.1,yrange[startIndex+i])\n",
    "    plt.tight_layout()\n",
    "    plt.savefig('HistGraphs/%s_%s-%s_PCT.png'%(team,yrange[0],yrange[-1]),facecolor=fig.get_facecolor())\n",
    "    if show:\n",
    "        plt.show()\n",
    "    else:\n",
    "        plt.close()"
   ]
  },
  {
   "cell_type": "code",
   "execution_count": 7,
   "metadata": {},
   "outputs": [],
   "source": [
    "yrange = range(1990,2020)"
   ]
  },
  {
   "cell_type": "code",
   "execution_count": 12,
   "metadata": {},
   "outputs": [
    {
     "data": {
      "application/vnd.jupyter.widget-view+json": {
       "model_id": "6596679eee19411cb83e1474efaad497",
       "version_major": 2,
       "version_minor": 0
      },
      "text/plain": [
       "HBox(children=(FloatProgress(value=0.0, max=30.0), HTML(value='')))"
      ]
     },
     "metadata": {},
     "output_type": "display_data"
    },
    {
     "data": {
      "application/vnd.jupyter.widget-view+json": {
       "model_id": "431ed949b9c147d8a34a08126824e695",
       "version_major": 2,
       "version_minor": 0
      },
      "text/plain": [
       "HBox(children=(FloatProgress(value=0.0, max=107.0), HTML(value='')))"
      ]
     },
     "metadata": {},
     "output_type": "display_data"
    },
    {
     "name": "stdout",
     "output_type": "stream",
     "text": [
      "\n"
     ]
    },
    {
     "data": {
      "application/vnd.jupyter.widget-view+json": {
       "model_id": "2ed15602812f410eadbc712cf96001e0",
       "version_major": 2,
       "version_minor": 0
      },
      "text/plain": [
       "HBox(children=(FloatProgress(value=0.0, max=107.0), HTML(value='')))"
      ]
     },
     "metadata": {},
     "output_type": "display_data"
    },
    {
     "name": "stdout",
     "output_type": "stream",
     "text": [
      "\r"
     ]
    },
    {
     "data": {
      "application/vnd.jupyter.widget-view+json": {
       "model_id": "559338ebbe5c4b33bb1d01552b732a2e",
       "version_major": 2,
       "version_minor": 0
      },
      "text/plain": [
       "HBox(children=(FloatProgress(value=0.0, max=107.0), HTML(value='')))"
      ]
     },
     "metadata": {},
     "output_type": "display_data"
    },
    {
     "name": "stdout",
     "output_type": "stream",
     "text": [
      "\r"
     ]
    },
    {
     "data": {
      "application/vnd.jupyter.widget-view+json": {
       "model_id": "cd40bedc5983406caed0e90642db86cd",
       "version_major": 2,
       "version_minor": 0
      },
      "text/plain": [
       "HBox(children=(FloatProgress(value=0.0, max=106.0), HTML(value='')))"
      ]
     },
     "metadata": {},
     "output_type": "display_data"
    },
    {
     "name": "stdout",
     "output_type": "stream",
     "text": [
      "\r"
     ]
    },
    {
     "data": {
      "application/vnd.jupyter.widget-view+json": {
       "model_id": "8ca5bfc176074d7e873de4a0dc4dd01b",
       "version_major": 2,
       "version_minor": 0
      },
      "text/plain": [
       "HBox(children=(FloatProgress(value=0.0, max=107.0), HTML(value='')))"
      ]
     },
     "metadata": {},
     "output_type": "display_data"
    },
    {
     "name": "stdout",
     "output_type": "stream",
     "text": [
      "\r"
     ]
    },
    {
     "data": {
      "application/vnd.jupyter.widget-view+json": {
       "model_id": "47b4360c892f499caac81f14ab813ec7",
       "version_major": 2,
       "version_minor": 0
      },
      "text/plain": [
       "HBox(children=(FloatProgress(value=0.0, max=108.0), HTML(value='')))"
      ]
     },
     "metadata": {},
     "output_type": "display_data"
    },
    {
     "name": "stdout",
     "output_type": "stream",
     "text": [
      "\r"
     ]
    },
    {
     "data": {
      "application/vnd.jupyter.widget-view+json": {
       "model_id": "f5a3391b2f62490b812fdb838a72321e",
       "version_major": 2,
       "version_minor": 0
      },
      "text/plain": [
       "HBox(children=(FloatProgress(value=0.0, max=111.0), HTML(value='')))"
      ]
     },
     "metadata": {},
     "output_type": "display_data"
    },
    {
     "name": "stdout",
     "output_type": "stream",
     "text": [
      "\r"
     ]
    },
    {
     "data": {
      "application/vnd.jupyter.widget-view+json": {
       "model_id": "ccc2bc86ee944ab8b08eaa416364c1f4",
       "version_major": 2,
       "version_minor": 0
      },
      "text/plain": [
       "HBox(children=(FloatProgress(value=0.0, max=112.0), HTML(value='')))"
      ]
     },
     "metadata": {},
     "output_type": "display_data"
    },
    {
     "name": "stdout",
     "output_type": "stream",
     "text": [
      "\r"
     ]
    },
    {
     "data": {
      "application/vnd.jupyter.widget-view+json": {
       "model_id": "74b3197a570849898221614a1fabd09d",
       "version_major": 2,
       "version_minor": 0
      },
      "text/plain": [
       "HBox(children=(FloatProgress(value=0.0, max=112.0), HTML(value='')))"
      ]
     },
     "metadata": {},
     "output_type": "display_data"
    },
    {
     "name": "stdout",
     "output_type": "stream",
     "text": [
      "\r"
     ]
    },
    {
     "data": {
      "application/vnd.jupyter.widget-view+json": {
       "model_id": "5c3f496cdfa745b1bfe5329c2b091ad8",
       "version_major": 2,
       "version_minor": 0
      },
      "text/plain": [
       "HBox(children=(FloatProgress(value=0.0, max=114.0), HTML(value='')))"
      ]
     },
     "metadata": {},
     "output_type": "display_data"
    },
    {
     "name": "stdout",
     "output_type": "stream",
     "text": [
      "\r"
     ]
    },
    {
     "data": {
      "application/vnd.jupyter.widget-view+json": {
       "model_id": "5665141201d74de3af49f948bcfb2efc",
       "version_major": 2,
       "version_minor": 0
      },
      "text/plain": [
       "HBox(children=(FloatProgress(value=0.0, max=116.0), HTML(value='')))"
      ]
     },
     "metadata": {},
     "output_type": "display_data"
    },
    {
     "name": "stdout",
     "output_type": "stream",
     "text": [
      "\r"
     ]
    },
    {
     "data": {
      "application/vnd.jupyter.widget-view+json": {
       "model_id": "2717ff87a8894ff7a942904aa26d76cc",
       "version_major": 2,
       "version_minor": 0
      },
      "text/plain": [
       "HBox(children=(FloatProgress(value=0.0, max=117.0), HTML(value='')))"
      ]
     },
     "metadata": {},
     "output_type": "display_data"
    },
    {
     "name": "stdout",
     "output_type": "stream",
     "text": [
      "\r"
     ]
    },
    {
     "data": {
      "application/vnd.jupyter.widget-view+json": {
       "model_id": "4b46bd6bbfb24cbe90ad22fdf900d22c",
       "version_major": 2,
       "version_minor": 0
      },
      "text/plain": [
       "HBox(children=(FloatProgress(value=0.0, max=117.0), HTML(value='')))"
      ]
     },
     "metadata": {},
     "output_type": "display_data"
    },
    {
     "name": "stdout",
     "output_type": "stream",
     "text": [
      "\r"
     ]
    },
    {
     "data": {
      "application/vnd.jupyter.widget-view+json": {
       "model_id": "7056ac0d7b144896bec6edea6a1744e7",
       "version_major": 2,
       "version_minor": 0
      },
      "text/plain": [
       "HBox(children=(FloatProgress(value=0.0, max=117.0), HTML(value='')))"
      ]
     },
     "metadata": {},
     "output_type": "display_data"
    },
    {
     "name": "stdout",
     "output_type": "stream",
     "text": [
      "\r"
     ]
    },
    {
     "data": {
      "application/vnd.jupyter.widget-view+json": {
       "model_id": "5c090c95e03749ed83956564d4363b9c",
       "version_major": 2,
       "version_minor": 0
      },
      "text/plain": [
       "HBox(children=(FloatProgress(value=0.0, max=120.0), HTML(value='')))"
      ]
     },
     "metadata": {},
     "output_type": "display_data"
    },
    {
     "name": "stdout",
     "output_type": "stream",
     "text": [
      "\r"
     ]
    },
    {
     "data": {
      "application/vnd.jupyter.widget-view+json": {
       "model_id": "7285a583249045868f420f05d1f388c7",
       "version_major": 2,
       "version_minor": 0
      },
      "text/plain": [
       "HBox(children=(FloatProgress(value=0.0, max=119.0), HTML(value='')))"
      ]
     },
     "metadata": {},
     "output_type": "display_data"
    },
    {
     "name": "stdout",
     "output_type": "stream",
     "text": [
      "\r"
     ]
    },
    {
     "data": {
      "application/vnd.jupyter.widget-view+json": {
       "model_id": "044c99bc86fd4035b160539b50b83b6c",
       "version_major": 2,
       "version_minor": 0
      },
      "text/plain": [
       "HBox(children=(FloatProgress(value=0.0, max=119.0), HTML(value='')))"
      ]
     },
     "metadata": {},
     "output_type": "display_data"
    },
    {
     "name": "stdout",
     "output_type": "stream",
     "text": [
      "\r"
     ]
    },
    {
     "data": {
      "application/vnd.jupyter.widget-view+json": {
       "model_id": "4c5d69ba83074d79841d0b1331e10b83",
       "version_major": 2,
       "version_minor": 0
      },
      "text/plain": [
       "HBox(children=(FloatProgress(value=0.0, max=120.0), HTML(value='')))"
      ]
     },
     "metadata": {},
     "output_type": "display_data"
    },
    {
     "name": "stdout",
     "output_type": "stream",
     "text": [
      "\r"
     ]
    },
    {
     "data": {
      "application/vnd.jupyter.widget-view+json": {
       "model_id": "0a1909f48be84a81b77de33b138314ac",
       "version_major": 2,
       "version_minor": 0
      },
      "text/plain": [
       "HBox(children=(FloatProgress(value=0.0, max=120.0), HTML(value='')))"
      ]
     },
     "metadata": {},
     "output_type": "display_data"
    },
    {
     "name": "stdout",
     "output_type": "stream",
     "text": [
      "\r"
     ]
    },
    {
     "data": {
      "application/vnd.jupyter.widget-view+json": {
       "model_id": "7f852f752ac045dd81797230b046c78e",
       "version_major": 2,
       "version_minor": 0
      },
      "text/plain": [
       "HBox(children=(FloatProgress(value=0.0, max=120.0), HTML(value='')))"
      ]
     },
     "metadata": {},
     "output_type": "display_data"
    },
    {
     "name": "stdout",
     "output_type": "stream",
     "text": [
      "\r"
     ]
    },
    {
     "data": {
      "application/vnd.jupyter.widget-view+json": {
       "model_id": "de57d64926ce4d4a8639b4e8fec31254",
       "version_major": 2,
       "version_minor": 0
      },
      "text/plain": [
       "HBox(children=(FloatProgress(value=0.0, max=120.0), HTML(value='')))"
      ]
     },
     "metadata": {},
     "output_type": "display_data"
    },
    {
     "name": "stdout",
     "output_type": "stream",
     "text": [
      "\r"
     ]
    },
    {
     "data": {
      "application/vnd.jupyter.widget-view+json": {
       "model_id": "e3dec0f7df7540c2b84496fbed930e26",
       "version_major": 2,
       "version_minor": 0
      },
      "text/plain": [
       "HBox(children=(FloatProgress(value=0.0, max=120.0), HTML(value='')))"
      ]
     },
     "metadata": {},
     "output_type": "display_data"
    },
    {
     "name": "stdout",
     "output_type": "stream",
     "text": [
      "\r"
     ]
    },
    {
     "data": {
      "application/vnd.jupyter.widget-view+json": {
       "model_id": "fd20e820a35a46fa81b70ea721d2b438",
       "version_major": 2,
       "version_minor": 0
      },
      "text/plain": [
       "HBox(children=(FloatProgress(value=0.0, max=124.0), HTML(value='')))"
      ]
     },
     "metadata": {},
     "output_type": "display_data"
    },
    {
     "name": "stdout",
     "output_type": "stream",
     "text": [
      "\r"
     ]
    },
    {
     "data": {
      "application/vnd.jupyter.widget-view+json": {
       "model_id": "abb1c83812814a069c099b985cd96675",
       "version_major": 2,
       "version_minor": 0
      },
      "text/plain": [
       "HBox(children=(FloatProgress(value=0.0, max=125.0), HTML(value='')))"
      ]
     },
     "metadata": {},
     "output_type": "display_data"
    },
    {
     "name": "stdout",
     "output_type": "stream",
     "text": [
      "\r"
     ]
    },
    {
     "data": {
      "application/vnd.jupyter.widget-view+json": {
       "model_id": "e918bb61ad384a49868dd03fafc562a8",
       "version_major": 2,
       "version_minor": 0
      },
      "text/plain": [
       "HBox(children=(FloatProgress(value=0.0, max=128.0), HTML(value='')))"
      ]
     },
     "metadata": {},
     "output_type": "display_data"
    },
    {
     "name": "stdout",
     "output_type": "stream",
     "text": [
      "\r"
     ]
    },
    {
     "data": {
      "application/vnd.jupyter.widget-view+json": {
       "model_id": "b2b1f7ac105f4ec29b87141b3ecfccb2",
       "version_major": 2,
       "version_minor": 0
      },
      "text/plain": [
       "HBox(children=(FloatProgress(value=0.0, max=128.0), HTML(value='')))"
      ]
     },
     "metadata": {},
     "output_type": "display_data"
    },
    {
     "name": "stdout",
     "output_type": "stream",
     "text": [
      "\r"
     ]
    },
    {
     "data": {
      "application/vnd.jupyter.widget-view+json": {
       "model_id": "b43b6e1657d34dedae5c7393840b74ef",
       "version_major": 2,
       "version_minor": 0
      },
      "text/plain": [
       "HBox(children=(FloatProgress(value=0.0, max=128.0), HTML(value='')))"
      ]
     },
     "metadata": {},
     "output_type": "display_data"
    },
    {
     "name": "stdout",
     "output_type": "stream",
     "text": [
      "\r"
     ]
    },
    {
     "data": {
      "application/vnd.jupyter.widget-view+json": {
       "model_id": "547b60e986c741ae96e9df9266492981",
       "version_major": 2,
       "version_minor": 0
      },
      "text/plain": [
       "HBox(children=(FloatProgress(value=0.0, max=130.0), HTML(value='')))"
      ]
     },
     "metadata": {},
     "output_type": "display_data"
    },
    {
     "name": "stdout",
     "output_type": "stream",
     "text": [
      "\r"
     ]
    },
    {
     "data": {
      "application/vnd.jupyter.widget-view+json": {
       "model_id": "acd8ceaa9d2c47b8b4dde5b54e6302e4",
       "version_major": 2,
       "version_minor": 0
      },
      "text/plain": [
       "HBox(children=(FloatProgress(value=0.0, max=130.0), HTML(value='')))"
      ]
     },
     "metadata": {},
     "output_type": "display_data"
    },
    {
     "name": "stdout",
     "output_type": "stream",
     "text": [
      "\r"
     ]
    },
    {
     "data": {
      "application/vnd.jupyter.widget-view+json": {
       "model_id": "39a96b41e97b4c4dbd16795372cda453",
       "version_major": 2,
       "version_minor": 0
      },
      "text/plain": [
       "HBox(children=(FloatProgress(value=0.0, max=130.0), HTML(value='')))"
      ]
     },
     "metadata": {},
     "output_type": "display_data"
    },
    {
     "name": "stdout",
     "output_type": "stream",
     "text": [
      "\r"
     ]
    }
   ],
   "source": [
    "yBar = tqdm(total=len(yrange))\n",
    "for y in yrange:\n",
    "    yBar.set_description(str(y))\n",
    "#     getRanks(y)\n",
    "    graphRanks(y)\n",
    "    yBar.update(1)"
   ]
  },
  {
   "cell_type": "code",
   "execution_count": 7,
   "metadata": {
    "collapsed": true,
    "jupyter": {
     "outputs_hidden": true
    }
   },
   "outputs": [
    {
     "ename": "KeyboardInterrupt",
     "evalue": "",
     "output_type": "error",
     "traceback": [
      "\u001b[0;31m---------------------------------------------------------------------------\u001b[0m",
      "\u001b[0;31mKeyboardInterrupt\u001b[0m                         Traceback (most recent call last)",
      "\u001b[0;32m<ipython-input-7-a54d682cc243>\u001b[0m in \u001b[0;36m<module>\u001b[0;34m\u001b[0m\n\u001b[1;32m      4\u001b[0m     \u001b[0;32mtry\u001b[0m\u001b[0;34m:\u001b[0m\u001b[0;34m\u001b[0m\u001b[0;34m\u001b[0m\u001b[0m\n\u001b[1;32m      5\u001b[0m         \u001b[0mhistGraph\u001b[0m\u001b[0;34m(\u001b[0m\u001b[0mt\u001b[0m\u001b[0;34m,\u001b[0m\u001b[0mrange\u001b[0m\u001b[0;34m(\u001b[0m\u001b[0;36m1990\u001b[0m\u001b[0;34m,\u001b[0m\u001b[0;36m2020\u001b[0m\u001b[0;34m)\u001b[0m\u001b[0;34m)\u001b[0m\u001b[0;34m\u001b[0m\u001b[0;34m\u001b[0m\u001b[0m\n\u001b[0;32m----> 6\u001b[0;31m         \u001b[0mhistGraphPCT\u001b[0m\u001b[0;34m(\u001b[0m\u001b[0mt\u001b[0m\u001b[0;34m,\u001b[0m\u001b[0mrange\u001b[0m\u001b[0;34m(\u001b[0m\u001b[0;36m1990\u001b[0m\u001b[0;34m,\u001b[0m\u001b[0;36m2020\u001b[0m\u001b[0;34m)\u001b[0m\u001b[0;34m,\u001b[0m\u001b[0mshow\u001b[0m\u001b[0;34m=\u001b[0m\u001b[0;32mFalse\u001b[0m\u001b[0;34m)\u001b[0m\u001b[0;34m\u001b[0m\u001b[0;34m\u001b[0m\u001b[0m\n\u001b[0m\u001b[1;32m      7\u001b[0m     \u001b[0;32mexcept\u001b[0m \u001b[0mKeyError\u001b[0m\u001b[0;34m:\u001b[0m\u001b[0;34m\u001b[0m\u001b[0;34m\u001b[0m\u001b[0m\n\u001b[1;32m      8\u001b[0m         \u001b[0mexceptList\u001b[0m\u001b[0;34m.\u001b[0m\u001b[0mappend\u001b[0m\u001b[0;34m(\u001b[0m\u001b[0mt\u001b[0m\u001b[0;34m)\u001b[0m\u001b[0;34m\u001b[0m\u001b[0;34m\u001b[0m\u001b[0m\n",
      "\u001b[0;32m<ipython-input-6-8f84982ca9ce>\u001b[0m in \u001b[0;36mhistGraphPCT\u001b[0;34m(team, yrange, show)\u001b[0m\n\u001b[1;32m     46\u001b[0m             \u001b[0mplt\u001b[0m\u001b[0;34m.\u001b[0m\u001b[0mtext\u001b[0m\u001b[0;34m(\u001b[0m\u001b[0mfillList\u001b[0m\u001b[0;34m[\u001b[0m\u001b[0mi\u001b[0m\u001b[0;34m-\u001b[0m\u001b[0;36m1\u001b[0m\u001b[0;34m]\u001b[0m\u001b[0;34m+\u001b[0m\u001b[0mweeklenList\u001b[0m\u001b[0;34m[\u001b[0m\u001b[0;36m1\u001b[0m\u001b[0;34m]\u001b[0m\u001b[0;34m/\u001b[0m\u001b[0;36m3\u001b[0m\u001b[0;34m,\u001b[0m\u001b[0;34m-\u001b[0m\u001b[0;36m0.1\u001b[0m\u001b[0;34m,\u001b[0m\u001b[0myrange\u001b[0m\u001b[0;34m[\u001b[0m\u001b[0mstartIndex\u001b[0m\u001b[0;34m+\u001b[0m\u001b[0mi\u001b[0m\u001b[0;34m]\u001b[0m\u001b[0;34m)\u001b[0m\u001b[0;34m\u001b[0m\u001b[0;34m\u001b[0m\u001b[0m\n\u001b[1;32m     47\u001b[0m     \u001b[0mplt\u001b[0m\u001b[0;34m.\u001b[0m\u001b[0mtight_layout\u001b[0m\u001b[0;34m(\u001b[0m\u001b[0;34m)\u001b[0m\u001b[0;34m\u001b[0m\u001b[0;34m\u001b[0m\u001b[0m\n\u001b[0;32m---> 48\u001b[0;31m     \u001b[0mplt\u001b[0m\u001b[0;34m.\u001b[0m\u001b[0msavefig\u001b[0m\u001b[0;34m(\u001b[0m\u001b[0;34m'HistGraphs/%s_%s-%s_PCT.png'\u001b[0m\u001b[0;34m%\u001b[0m\u001b[0;34m(\u001b[0m\u001b[0mteam\u001b[0m\u001b[0;34m,\u001b[0m\u001b[0myrange\u001b[0m\u001b[0;34m[\u001b[0m\u001b[0;36m0\u001b[0m\u001b[0;34m]\u001b[0m\u001b[0;34m,\u001b[0m\u001b[0myrange\u001b[0m\u001b[0;34m[\u001b[0m\u001b[0;34m-\u001b[0m\u001b[0;36m1\u001b[0m\u001b[0;34m]\u001b[0m\u001b[0;34m)\u001b[0m\u001b[0;34m,\u001b[0m\u001b[0mfacecolor\u001b[0m\u001b[0;34m=\u001b[0m\u001b[0mfig\u001b[0m\u001b[0;34m.\u001b[0m\u001b[0mget_facecolor\u001b[0m\u001b[0;34m(\u001b[0m\u001b[0;34m)\u001b[0m\u001b[0;34m)\u001b[0m\u001b[0;34m\u001b[0m\u001b[0;34m\u001b[0m\u001b[0m\n\u001b[0m\u001b[1;32m     49\u001b[0m     \u001b[0;32mif\u001b[0m \u001b[0mshow\u001b[0m\u001b[0;34m:\u001b[0m\u001b[0;34m\u001b[0m\u001b[0;34m\u001b[0m\u001b[0m\n\u001b[1;32m     50\u001b[0m         \u001b[0mplt\u001b[0m\u001b[0;34m.\u001b[0m\u001b[0mshow\u001b[0m\u001b[0;34m(\u001b[0m\u001b[0;34m)\u001b[0m\u001b[0;34m\u001b[0m\u001b[0;34m\u001b[0m\u001b[0m\n",
      "\u001b[0;32m~/anaconda3/lib/python3.7/site-packages/matplotlib/pyplot.py\u001b[0m in \u001b[0;36msavefig\u001b[0;34m(*args, **kwargs)\u001b[0m\n\u001b[1;32m    720\u001b[0m \u001b[0;32mdef\u001b[0m \u001b[0msavefig\u001b[0m\u001b[0;34m(\u001b[0m\u001b[0;34m*\u001b[0m\u001b[0margs\u001b[0m\u001b[0;34m,\u001b[0m \u001b[0;34m**\u001b[0m\u001b[0mkwargs\u001b[0m\u001b[0;34m)\u001b[0m\u001b[0;34m:\u001b[0m\u001b[0;34m\u001b[0m\u001b[0;34m\u001b[0m\u001b[0m\n\u001b[1;32m    721\u001b[0m     \u001b[0mfig\u001b[0m \u001b[0;34m=\u001b[0m \u001b[0mgcf\u001b[0m\u001b[0;34m(\u001b[0m\u001b[0;34m)\u001b[0m\u001b[0;34m\u001b[0m\u001b[0;34m\u001b[0m\u001b[0m\n\u001b[0;32m--> 722\u001b[0;31m     \u001b[0mres\u001b[0m \u001b[0;34m=\u001b[0m \u001b[0mfig\u001b[0m\u001b[0;34m.\u001b[0m\u001b[0msavefig\u001b[0m\u001b[0;34m(\u001b[0m\u001b[0;34m*\u001b[0m\u001b[0margs\u001b[0m\u001b[0;34m,\u001b[0m \u001b[0;34m**\u001b[0m\u001b[0mkwargs\u001b[0m\u001b[0;34m)\u001b[0m\u001b[0;34m\u001b[0m\u001b[0;34m\u001b[0m\u001b[0m\n\u001b[0m\u001b[1;32m    723\u001b[0m     \u001b[0mfig\u001b[0m\u001b[0;34m.\u001b[0m\u001b[0mcanvas\u001b[0m\u001b[0;34m.\u001b[0m\u001b[0mdraw_idle\u001b[0m\u001b[0;34m(\u001b[0m\u001b[0;34m)\u001b[0m   \u001b[0;31m# need this if 'transparent=True' to reset colors\u001b[0m\u001b[0;34m\u001b[0m\u001b[0;34m\u001b[0m\u001b[0m\n\u001b[1;32m    724\u001b[0m     \u001b[0;32mreturn\u001b[0m \u001b[0mres\u001b[0m\u001b[0;34m\u001b[0m\u001b[0;34m\u001b[0m\u001b[0m\n",
      "\u001b[0;32m~/anaconda3/lib/python3.7/site-packages/matplotlib/figure.py\u001b[0m in \u001b[0;36msavefig\u001b[0;34m(self, fname, transparent, **kwargs)\u001b[0m\n\u001b[1;32m   2178\u001b[0m             \u001b[0mself\u001b[0m\u001b[0;34m.\u001b[0m\u001b[0mpatch\u001b[0m\u001b[0;34m.\u001b[0m\u001b[0mset_visible\u001b[0m\u001b[0;34m(\u001b[0m\u001b[0mframeon\u001b[0m\u001b[0;34m)\u001b[0m\u001b[0;34m\u001b[0m\u001b[0;34m\u001b[0m\u001b[0m\n\u001b[1;32m   2179\u001b[0m \u001b[0;34m\u001b[0m\u001b[0m\n\u001b[0;32m-> 2180\u001b[0;31m         \u001b[0mself\u001b[0m\u001b[0;34m.\u001b[0m\u001b[0mcanvas\u001b[0m\u001b[0;34m.\u001b[0m\u001b[0mprint_figure\u001b[0m\u001b[0;34m(\u001b[0m\u001b[0mfname\u001b[0m\u001b[0;34m,\u001b[0m \u001b[0;34m**\u001b[0m\u001b[0mkwargs\u001b[0m\u001b[0;34m)\u001b[0m\u001b[0;34m\u001b[0m\u001b[0;34m\u001b[0m\u001b[0m\n\u001b[0m\u001b[1;32m   2181\u001b[0m \u001b[0;34m\u001b[0m\u001b[0m\n\u001b[1;32m   2182\u001b[0m         \u001b[0;32mif\u001b[0m \u001b[0mframeon\u001b[0m\u001b[0;34m:\u001b[0m\u001b[0;34m\u001b[0m\u001b[0;34m\u001b[0m\u001b[0m\n",
      "\u001b[0;32m~/anaconda3/lib/python3.7/site-packages/matplotlib/backend_bases.py\u001b[0m in \u001b[0;36mprint_figure\u001b[0;34m(self, filename, dpi, facecolor, edgecolor, orientation, format, bbox_inches, **kwargs)\u001b[0m\n\u001b[1;32m   2080\u001b[0m                     \u001b[0morientation\u001b[0m\u001b[0;34m=\u001b[0m\u001b[0morientation\u001b[0m\u001b[0;34m,\u001b[0m\u001b[0;34m\u001b[0m\u001b[0;34m\u001b[0m\u001b[0m\n\u001b[1;32m   2081\u001b[0m                     \u001b[0mbbox_inches_restore\u001b[0m\u001b[0;34m=\u001b[0m\u001b[0m_bbox_inches_restore\u001b[0m\u001b[0;34m,\u001b[0m\u001b[0;34m\u001b[0m\u001b[0;34m\u001b[0m\u001b[0m\n\u001b[0;32m-> 2082\u001b[0;31m                     **kwargs)\n\u001b[0m\u001b[1;32m   2083\u001b[0m             \u001b[0;32mfinally\u001b[0m\u001b[0;34m:\u001b[0m\u001b[0;34m\u001b[0m\u001b[0;34m\u001b[0m\u001b[0m\n\u001b[1;32m   2084\u001b[0m                 \u001b[0;32mif\u001b[0m \u001b[0mbbox_inches\u001b[0m \u001b[0;32mand\u001b[0m \u001b[0mrestore_bbox\u001b[0m\u001b[0;34m:\u001b[0m\u001b[0;34m\u001b[0m\u001b[0;34m\u001b[0m\u001b[0m\n",
      "\u001b[0;32m~/anaconda3/lib/python3.7/site-packages/matplotlib/backends/backend_agg.py\u001b[0m in \u001b[0;36mprint_png\u001b[0;34m(self, filename_or_obj, metadata, pil_kwargs, *args, **kwargs)\u001b[0m\n\u001b[1;32m    525\u001b[0m \u001b[0;34m\u001b[0m\u001b[0m\n\u001b[1;32m    526\u001b[0m         \u001b[0;32melse\u001b[0m\u001b[0;34m:\u001b[0m\u001b[0;34m\u001b[0m\u001b[0;34m\u001b[0m\u001b[0m\n\u001b[0;32m--> 527\u001b[0;31m             \u001b[0mFigureCanvasAgg\u001b[0m\u001b[0;34m.\u001b[0m\u001b[0mdraw\u001b[0m\u001b[0;34m(\u001b[0m\u001b[0mself\u001b[0m\u001b[0;34m)\u001b[0m\u001b[0;34m\u001b[0m\u001b[0;34m\u001b[0m\u001b[0m\n\u001b[0m\u001b[1;32m    528\u001b[0m             \u001b[0mrenderer\u001b[0m \u001b[0;34m=\u001b[0m \u001b[0mself\u001b[0m\u001b[0;34m.\u001b[0m\u001b[0mget_renderer\u001b[0m\u001b[0;34m(\u001b[0m\u001b[0;34m)\u001b[0m\u001b[0;34m\u001b[0m\u001b[0;34m\u001b[0m\u001b[0m\n\u001b[1;32m    529\u001b[0m             \u001b[0;32mwith\u001b[0m \u001b[0mcbook\u001b[0m\u001b[0;34m.\u001b[0m\u001b[0m_setattr_cm\u001b[0m\u001b[0;34m(\u001b[0m\u001b[0mrenderer\u001b[0m\u001b[0;34m,\u001b[0m \u001b[0mdpi\u001b[0m\u001b[0;34m=\u001b[0m\u001b[0mself\u001b[0m\u001b[0;34m.\u001b[0m\u001b[0mfigure\u001b[0m\u001b[0;34m.\u001b[0m\u001b[0mdpi\u001b[0m\u001b[0;34m)\u001b[0m\u001b[0;34m,\u001b[0m\u001b[0;31m \u001b[0m\u001b[0;31m\\\u001b[0m\u001b[0;34m\u001b[0m\u001b[0;34m\u001b[0m\u001b[0m\n",
      "\u001b[0;32m~/anaconda3/lib/python3.7/site-packages/matplotlib/backends/backend_agg.py\u001b[0m in \u001b[0;36mdraw\u001b[0;34m(self)\u001b[0m\n\u001b[1;32m    386\u001b[0m         \u001b[0mself\u001b[0m\u001b[0;34m.\u001b[0m\u001b[0mrenderer\u001b[0m \u001b[0;34m=\u001b[0m \u001b[0mself\u001b[0m\u001b[0;34m.\u001b[0m\u001b[0mget_renderer\u001b[0m\u001b[0;34m(\u001b[0m\u001b[0mcleared\u001b[0m\u001b[0;34m=\u001b[0m\u001b[0;32mTrue\u001b[0m\u001b[0;34m)\u001b[0m\u001b[0;34m\u001b[0m\u001b[0;34m\u001b[0m\u001b[0m\n\u001b[1;32m    387\u001b[0m         \u001b[0;32mwith\u001b[0m \u001b[0mRendererAgg\u001b[0m\u001b[0;34m.\u001b[0m\u001b[0mlock\u001b[0m\u001b[0;34m:\u001b[0m\u001b[0;34m\u001b[0m\u001b[0;34m\u001b[0m\u001b[0m\n\u001b[0;32m--> 388\u001b[0;31m             \u001b[0mself\u001b[0m\u001b[0;34m.\u001b[0m\u001b[0mfigure\u001b[0m\u001b[0;34m.\u001b[0m\u001b[0mdraw\u001b[0m\u001b[0;34m(\u001b[0m\u001b[0mself\u001b[0m\u001b[0;34m.\u001b[0m\u001b[0mrenderer\u001b[0m\u001b[0;34m)\u001b[0m\u001b[0;34m\u001b[0m\u001b[0;34m\u001b[0m\u001b[0m\n\u001b[0m\u001b[1;32m    389\u001b[0m             \u001b[0;31m# A GUI class may be need to update a window using this draw, so\u001b[0m\u001b[0;34m\u001b[0m\u001b[0;34m\u001b[0m\u001b[0;34m\u001b[0m\u001b[0m\n\u001b[1;32m    390\u001b[0m             \u001b[0;31m# don't forget to call the superclass.\u001b[0m\u001b[0;34m\u001b[0m\u001b[0;34m\u001b[0m\u001b[0;34m\u001b[0m\u001b[0m\n",
      "\u001b[0;32m~/anaconda3/lib/python3.7/site-packages/matplotlib/artist.py\u001b[0m in \u001b[0;36mdraw_wrapper\u001b[0;34m(artist, renderer, *args, **kwargs)\u001b[0m\n\u001b[1;32m     36\u001b[0m                 \u001b[0mrenderer\u001b[0m\u001b[0;34m.\u001b[0m\u001b[0mstart_filter\u001b[0m\u001b[0;34m(\u001b[0m\u001b[0;34m)\u001b[0m\u001b[0;34m\u001b[0m\u001b[0;34m\u001b[0m\u001b[0m\n\u001b[1;32m     37\u001b[0m \u001b[0;34m\u001b[0m\u001b[0m\n\u001b[0;32m---> 38\u001b[0;31m             \u001b[0;32mreturn\u001b[0m \u001b[0mdraw\u001b[0m\u001b[0;34m(\u001b[0m\u001b[0martist\u001b[0m\u001b[0;34m,\u001b[0m \u001b[0mrenderer\u001b[0m\u001b[0;34m,\u001b[0m \u001b[0;34m*\u001b[0m\u001b[0margs\u001b[0m\u001b[0;34m,\u001b[0m \u001b[0;34m**\u001b[0m\u001b[0mkwargs\u001b[0m\u001b[0;34m)\u001b[0m\u001b[0;34m\u001b[0m\u001b[0;34m\u001b[0m\u001b[0m\n\u001b[0m\u001b[1;32m     39\u001b[0m         \u001b[0;32mfinally\u001b[0m\u001b[0;34m:\u001b[0m\u001b[0;34m\u001b[0m\u001b[0;34m\u001b[0m\u001b[0m\n\u001b[1;32m     40\u001b[0m             \u001b[0;32mif\u001b[0m \u001b[0martist\u001b[0m\u001b[0;34m.\u001b[0m\u001b[0mget_agg_filter\u001b[0m\u001b[0;34m(\u001b[0m\u001b[0;34m)\u001b[0m \u001b[0;32mis\u001b[0m \u001b[0;32mnot\u001b[0m \u001b[0;32mNone\u001b[0m\u001b[0;34m:\u001b[0m\u001b[0;34m\u001b[0m\u001b[0;34m\u001b[0m\u001b[0m\n",
      "\u001b[0;32m~/anaconda3/lib/python3.7/site-packages/matplotlib/figure.py\u001b[0m in \u001b[0;36mdraw\u001b[0;34m(self, renderer)\u001b[0m\n\u001b[1;32m   1707\u001b[0m             \u001b[0mself\u001b[0m\u001b[0;34m.\u001b[0m\u001b[0mpatch\u001b[0m\u001b[0;34m.\u001b[0m\u001b[0mdraw\u001b[0m\u001b[0;34m(\u001b[0m\u001b[0mrenderer\u001b[0m\u001b[0;34m)\u001b[0m\u001b[0;34m\u001b[0m\u001b[0;34m\u001b[0m\u001b[0m\n\u001b[1;32m   1708\u001b[0m             mimage._draw_list_compositing_images(\n\u001b[0;32m-> 1709\u001b[0;31m                 renderer, self, artists, self.suppressComposite)\n\u001b[0m\u001b[1;32m   1710\u001b[0m \u001b[0;34m\u001b[0m\u001b[0m\n\u001b[1;32m   1711\u001b[0m             \u001b[0mrenderer\u001b[0m\u001b[0;34m.\u001b[0m\u001b[0mclose_group\u001b[0m\u001b[0;34m(\u001b[0m\u001b[0;34m'figure'\u001b[0m\u001b[0;34m)\u001b[0m\u001b[0;34m\u001b[0m\u001b[0;34m\u001b[0m\u001b[0m\n",
      "\u001b[0;32m~/anaconda3/lib/python3.7/site-packages/matplotlib/image.py\u001b[0m in \u001b[0;36m_draw_list_compositing_images\u001b[0;34m(renderer, parent, artists, suppress_composite)\u001b[0m\n\u001b[1;32m    133\u001b[0m     \u001b[0;32mif\u001b[0m \u001b[0mnot_composite\u001b[0m \u001b[0;32mor\u001b[0m \u001b[0;32mnot\u001b[0m \u001b[0mhas_images\u001b[0m\u001b[0;34m:\u001b[0m\u001b[0;34m\u001b[0m\u001b[0;34m\u001b[0m\u001b[0m\n\u001b[1;32m    134\u001b[0m         \u001b[0;32mfor\u001b[0m \u001b[0ma\u001b[0m \u001b[0;32min\u001b[0m \u001b[0martists\u001b[0m\u001b[0;34m:\u001b[0m\u001b[0;34m\u001b[0m\u001b[0;34m\u001b[0m\u001b[0m\n\u001b[0;32m--> 135\u001b[0;31m             \u001b[0ma\u001b[0m\u001b[0;34m.\u001b[0m\u001b[0mdraw\u001b[0m\u001b[0;34m(\u001b[0m\u001b[0mrenderer\u001b[0m\u001b[0;34m)\u001b[0m\u001b[0;34m\u001b[0m\u001b[0;34m\u001b[0m\u001b[0m\n\u001b[0m\u001b[1;32m    136\u001b[0m     \u001b[0;32melse\u001b[0m\u001b[0;34m:\u001b[0m\u001b[0;34m\u001b[0m\u001b[0;34m\u001b[0m\u001b[0m\n\u001b[1;32m    137\u001b[0m         \u001b[0;31m# Composite any adjacent images together\u001b[0m\u001b[0;34m\u001b[0m\u001b[0;34m\u001b[0m\u001b[0;34m\u001b[0m\u001b[0m\n",
      "\u001b[0;32m~/anaconda3/lib/python3.7/site-packages/matplotlib/artist.py\u001b[0m in \u001b[0;36mdraw_wrapper\u001b[0;34m(artist, renderer, *args, **kwargs)\u001b[0m\n\u001b[1;32m     36\u001b[0m                 \u001b[0mrenderer\u001b[0m\u001b[0;34m.\u001b[0m\u001b[0mstart_filter\u001b[0m\u001b[0;34m(\u001b[0m\u001b[0;34m)\u001b[0m\u001b[0;34m\u001b[0m\u001b[0;34m\u001b[0m\u001b[0m\n\u001b[1;32m     37\u001b[0m \u001b[0;34m\u001b[0m\u001b[0m\n\u001b[0;32m---> 38\u001b[0;31m             \u001b[0;32mreturn\u001b[0m \u001b[0mdraw\u001b[0m\u001b[0;34m(\u001b[0m\u001b[0martist\u001b[0m\u001b[0;34m,\u001b[0m \u001b[0mrenderer\u001b[0m\u001b[0;34m,\u001b[0m \u001b[0;34m*\u001b[0m\u001b[0margs\u001b[0m\u001b[0;34m,\u001b[0m \u001b[0;34m**\u001b[0m\u001b[0mkwargs\u001b[0m\u001b[0;34m)\u001b[0m\u001b[0;34m\u001b[0m\u001b[0;34m\u001b[0m\u001b[0m\n\u001b[0m\u001b[1;32m     39\u001b[0m         \u001b[0;32mfinally\u001b[0m\u001b[0;34m:\u001b[0m\u001b[0;34m\u001b[0m\u001b[0;34m\u001b[0m\u001b[0m\n\u001b[1;32m     40\u001b[0m             \u001b[0;32mif\u001b[0m \u001b[0martist\u001b[0m\u001b[0;34m.\u001b[0m\u001b[0mget_agg_filter\u001b[0m\u001b[0;34m(\u001b[0m\u001b[0;34m)\u001b[0m \u001b[0;32mis\u001b[0m \u001b[0;32mnot\u001b[0m \u001b[0;32mNone\u001b[0m\u001b[0;34m:\u001b[0m\u001b[0;34m\u001b[0m\u001b[0;34m\u001b[0m\u001b[0m\n",
      "\u001b[0;32m~/anaconda3/lib/python3.7/site-packages/matplotlib/axes/_base.py\u001b[0m in \u001b[0;36mdraw\u001b[0;34m(self, renderer, inframe)\u001b[0m\n\u001b[1;32m   2645\u001b[0m             \u001b[0mrenderer\u001b[0m\u001b[0;34m.\u001b[0m\u001b[0mstop_rasterizing\u001b[0m\u001b[0;34m(\u001b[0m\u001b[0;34m)\u001b[0m\u001b[0;34m\u001b[0m\u001b[0;34m\u001b[0m\u001b[0m\n\u001b[1;32m   2646\u001b[0m \u001b[0;34m\u001b[0m\u001b[0m\n\u001b[0;32m-> 2647\u001b[0;31m         \u001b[0mmimage\u001b[0m\u001b[0;34m.\u001b[0m\u001b[0m_draw_list_compositing_images\u001b[0m\u001b[0;34m(\u001b[0m\u001b[0mrenderer\u001b[0m\u001b[0;34m,\u001b[0m \u001b[0mself\u001b[0m\u001b[0;34m,\u001b[0m \u001b[0martists\u001b[0m\u001b[0;34m)\u001b[0m\u001b[0;34m\u001b[0m\u001b[0;34m\u001b[0m\u001b[0m\n\u001b[0m\u001b[1;32m   2648\u001b[0m \u001b[0;34m\u001b[0m\u001b[0m\n\u001b[1;32m   2649\u001b[0m         \u001b[0mrenderer\u001b[0m\u001b[0;34m.\u001b[0m\u001b[0mclose_group\u001b[0m\u001b[0;34m(\u001b[0m\u001b[0;34m'axes'\u001b[0m\u001b[0;34m)\u001b[0m\u001b[0;34m\u001b[0m\u001b[0;34m\u001b[0m\u001b[0m\n",
      "\u001b[0;32m~/anaconda3/lib/python3.7/site-packages/matplotlib/image.py\u001b[0m in \u001b[0;36m_draw_list_compositing_images\u001b[0;34m(renderer, parent, artists, suppress_composite)\u001b[0m\n\u001b[1;32m    133\u001b[0m     \u001b[0;32mif\u001b[0m \u001b[0mnot_composite\u001b[0m \u001b[0;32mor\u001b[0m \u001b[0;32mnot\u001b[0m \u001b[0mhas_images\u001b[0m\u001b[0;34m:\u001b[0m\u001b[0;34m\u001b[0m\u001b[0;34m\u001b[0m\u001b[0m\n\u001b[1;32m    134\u001b[0m         \u001b[0;32mfor\u001b[0m \u001b[0ma\u001b[0m \u001b[0;32min\u001b[0m \u001b[0martists\u001b[0m\u001b[0;34m:\u001b[0m\u001b[0;34m\u001b[0m\u001b[0;34m\u001b[0m\u001b[0m\n\u001b[0;32m--> 135\u001b[0;31m             \u001b[0ma\u001b[0m\u001b[0;34m.\u001b[0m\u001b[0mdraw\u001b[0m\u001b[0;34m(\u001b[0m\u001b[0mrenderer\u001b[0m\u001b[0;34m)\u001b[0m\u001b[0;34m\u001b[0m\u001b[0;34m\u001b[0m\u001b[0m\n\u001b[0m\u001b[1;32m    136\u001b[0m     \u001b[0;32melse\u001b[0m\u001b[0;34m:\u001b[0m\u001b[0;34m\u001b[0m\u001b[0;34m\u001b[0m\u001b[0m\n\u001b[1;32m    137\u001b[0m         \u001b[0;31m# Composite any adjacent images together\u001b[0m\u001b[0;34m\u001b[0m\u001b[0;34m\u001b[0m\u001b[0;34m\u001b[0m\u001b[0m\n",
      "\u001b[0;32m~/anaconda3/lib/python3.7/site-packages/matplotlib/artist.py\u001b[0m in \u001b[0;36mdraw_wrapper\u001b[0;34m(artist, renderer, *args, **kwargs)\u001b[0m\n\u001b[1;32m     36\u001b[0m                 \u001b[0mrenderer\u001b[0m\u001b[0;34m.\u001b[0m\u001b[0mstart_filter\u001b[0m\u001b[0;34m(\u001b[0m\u001b[0;34m)\u001b[0m\u001b[0;34m\u001b[0m\u001b[0;34m\u001b[0m\u001b[0m\n\u001b[1;32m     37\u001b[0m \u001b[0;34m\u001b[0m\u001b[0m\n\u001b[0;32m---> 38\u001b[0;31m             \u001b[0;32mreturn\u001b[0m \u001b[0mdraw\u001b[0m\u001b[0;34m(\u001b[0m\u001b[0martist\u001b[0m\u001b[0;34m,\u001b[0m \u001b[0mrenderer\u001b[0m\u001b[0;34m,\u001b[0m \u001b[0;34m*\u001b[0m\u001b[0margs\u001b[0m\u001b[0;34m,\u001b[0m \u001b[0;34m**\u001b[0m\u001b[0mkwargs\u001b[0m\u001b[0;34m)\u001b[0m\u001b[0;34m\u001b[0m\u001b[0;34m\u001b[0m\u001b[0m\n\u001b[0m\u001b[1;32m     39\u001b[0m         \u001b[0;32mfinally\u001b[0m\u001b[0;34m:\u001b[0m\u001b[0;34m\u001b[0m\u001b[0;34m\u001b[0m\u001b[0m\n\u001b[1;32m     40\u001b[0m             \u001b[0;32mif\u001b[0m \u001b[0martist\u001b[0m\u001b[0;34m.\u001b[0m\u001b[0mget_agg_filter\u001b[0m\u001b[0;34m(\u001b[0m\u001b[0;34m)\u001b[0m \u001b[0;32mis\u001b[0m \u001b[0;32mnot\u001b[0m \u001b[0;32mNone\u001b[0m\u001b[0;34m:\u001b[0m\u001b[0;34m\u001b[0m\u001b[0;34m\u001b[0m\u001b[0m\n",
      "\u001b[0;32m~/anaconda3/lib/python3.7/site-packages/matplotlib/lines.py\u001b[0m in \u001b[0;36mdraw\u001b[0;34m(self, renderer)\u001b[0m\n\u001b[1;32m    800\u001b[0m \u001b[0;34m\u001b[0m\u001b[0m\n\u001b[1;32m    801\u001b[0m                 \u001b[0mgc\u001b[0m\u001b[0;34m.\u001b[0m\u001b[0mset_dashes\u001b[0m\u001b[0;34m(\u001b[0m\u001b[0mself\u001b[0m\u001b[0;34m.\u001b[0m\u001b[0m_dashOffset\u001b[0m\u001b[0;34m,\u001b[0m \u001b[0mself\u001b[0m\u001b[0;34m.\u001b[0m\u001b[0m_dashSeq\u001b[0m\u001b[0;34m)\u001b[0m\u001b[0;34m\u001b[0m\u001b[0;34m\u001b[0m\u001b[0m\n\u001b[0;32m--> 802\u001b[0;31m                 \u001b[0mrenderer\u001b[0m\u001b[0;34m.\u001b[0m\u001b[0mdraw_path\u001b[0m\u001b[0;34m(\u001b[0m\u001b[0mgc\u001b[0m\u001b[0;34m,\u001b[0m \u001b[0mtpath\u001b[0m\u001b[0;34m,\u001b[0m \u001b[0maffine\u001b[0m\u001b[0;34m.\u001b[0m\u001b[0mfrozen\u001b[0m\u001b[0;34m(\u001b[0m\u001b[0;34m)\u001b[0m\u001b[0;34m)\u001b[0m\u001b[0;34m\u001b[0m\u001b[0;34m\u001b[0m\u001b[0m\n\u001b[0m\u001b[1;32m    803\u001b[0m                 \u001b[0mgc\u001b[0m\u001b[0;34m.\u001b[0m\u001b[0mrestore\u001b[0m\u001b[0;34m(\u001b[0m\u001b[0;34m)\u001b[0m\u001b[0;34m\u001b[0m\u001b[0;34m\u001b[0m\u001b[0m\n\u001b[1;32m    804\u001b[0m \u001b[0;34m\u001b[0m\u001b[0m\n",
      "\u001b[0;32m~/anaconda3/lib/python3.7/site-packages/matplotlib/backends/backend_agg.py\u001b[0m in \u001b[0;36mdraw_path\u001b[0;34m(self, gc, path, transform, rgbFace)\u001b[0m\n\u001b[1;32m    144\u001b[0m         \u001b[0;32melse\u001b[0m\u001b[0;34m:\u001b[0m\u001b[0;34m\u001b[0m\u001b[0;34m\u001b[0m\u001b[0m\n\u001b[1;32m    145\u001b[0m             \u001b[0;32mtry\u001b[0m\u001b[0;34m:\u001b[0m\u001b[0;34m\u001b[0m\u001b[0;34m\u001b[0m\u001b[0m\n\u001b[0;32m--> 146\u001b[0;31m                 \u001b[0mself\u001b[0m\u001b[0;34m.\u001b[0m\u001b[0m_renderer\u001b[0m\u001b[0;34m.\u001b[0m\u001b[0mdraw_path\u001b[0m\u001b[0;34m(\u001b[0m\u001b[0mgc\u001b[0m\u001b[0;34m,\u001b[0m \u001b[0mpath\u001b[0m\u001b[0;34m,\u001b[0m \u001b[0mtransform\u001b[0m\u001b[0;34m,\u001b[0m \u001b[0mrgbFace\u001b[0m\u001b[0;34m)\u001b[0m\u001b[0;34m\u001b[0m\u001b[0;34m\u001b[0m\u001b[0m\n\u001b[0m\u001b[1;32m    147\u001b[0m             \u001b[0;32mexcept\u001b[0m \u001b[0mOverflowError\u001b[0m\u001b[0;34m:\u001b[0m\u001b[0;34m\u001b[0m\u001b[0;34m\u001b[0m\u001b[0m\n\u001b[1;32m    148\u001b[0m                 raise OverflowError(\"Exceeded cell block limit (set \"\n",
      "\u001b[0;31mKeyboardInterrupt\u001b[0m: "
     ]
    },
    {
     "data": {
      "image/png": "[encoded data removed]",
      "text/plain": [
       "<Figure size 2520x360 with 1 Axes>"
      ]
     },
     "metadata": {},
     "output_type": "display_data"
    }
   ],
   "source": [
    "teamInfo = getTeamInfo(2019)\n",
    "exceptList = []\n",
    "for t in teamInfo.school:\n",
    "    try:\n",
    "        histGraph(t,range(1990,2020))\n",
    "        histGraphPCT(t,range(1990,2020),show=False)\n",
    "    except KeyError:\n",
    "        exceptList.append(t)\n",
    "        plt.close()\n",
    "        continue"
   ]
  },
  {
   "cell_type": "code",
   "execution_count": 8,
   "metadata": {},
   "outputs": [],
   "source": [
    "def getRankInfo(year):\n",
    "    info_json_url = urllib.request.urlopen('https://api.collegefootballdata.com/rankings?year=%s&seasontype=regular'%year)\n",
    "    teamInfo = json.loads(info_json_url.read())\n",
    "    teamInfo = pd.DataFrame(teamInfo)\n",
    "    return teamInfo"
   ]
  },
  {
   "cell_type": "code",
   "execution_count": 207,
   "metadata": {},
   "outputs": [],
   "source": [
    "ranks2019 = getRankInfo(2019)"
   ]
  },
  {
   "cell_type": "code",
   "execution_count": 209,
   "metadata": {},
   "outputs": [
    {
     "data": {
      "text/html": [
       "<div>\n",
       "<style scoped>\n",
       "    .dataframe tbody tr th:only-of-type {\n",
       "        vertical-align: middle;\n",
       "    }\n",
       "\n",
       "    .dataframe tbody tr th {\n",
       "        vertical-align: top;\n",
       "    }\n",
       "\n",
       "    .dataframe thead th {\n",
       "        text-align: right;\n",
       "    }\n",
       "</style>\n",
       "<table border=\"1\" class=\"dataframe\">\n",
       "  <thead>\n",
       "    <tr style=\"text-align: right;\">\n",
       "      <th></th>\n",
       "      <th>season</th>\n",
       "      <th>seasonType</th>\n",
       "      <th>week</th>\n",
       "      <th>polls</th>\n",
       "    </tr>\n",
       "  </thead>\n",
       "  <tbody>\n",
       "    <tr>\n",
       "      <th>0</th>\n",
       "      <td>2019</td>\n",
       "      <td>regular</td>\n",
       "      <td>8</td>\n",
       "      <td>[{'poll': 'AP Top 25', 'ranks': [{'rank': 1, '...</td>\n",
       "    </tr>\n",
       "    <tr>\n",
       "      <th>1</th>\n",
       "      <td>2019</td>\n",
       "      <td>regular</td>\n",
       "      <td>9</td>\n",
       "      <td>[{'poll': 'AP Top 25', 'ranks': [{'rank': 1, '...</td>\n",
       "    </tr>\n",
       "    <tr>\n",
       "      <th>2</th>\n",
       "      <td>2019</td>\n",
       "      <td>regular</td>\n",
       "      <td>10</td>\n",
       "      <td>[{'poll': 'Coaches Poll', 'ranks': [{'rank': 1...</td>\n",
       "    </tr>\n",
       "    <tr>\n",
       "      <th>3</th>\n",
       "      <td>2019</td>\n",
       "      <td>regular</td>\n",
       "      <td>11</td>\n",
       "      <td>[{'poll': 'Coaches Poll', 'ranks': [{'rank': 1...</td>\n",
       "    </tr>\n",
       "    <tr>\n",
       "      <th>4</th>\n",
       "      <td>2019</td>\n",
       "      <td>regular</td>\n",
       "      <td>1</td>\n",
       "      <td>[{'poll': 'AP Top 25', 'ranks': [{'rank': 1, '...</td>\n",
       "    </tr>\n",
       "    <tr>\n",
       "      <th>5</th>\n",
       "      <td>2019</td>\n",
       "      <td>regular</td>\n",
       "      <td>2</td>\n",
       "      <td>[{'poll': 'AP Top 25', 'ranks': [{'rank': 1, '...</td>\n",
       "    </tr>\n",
       "    <tr>\n",
       "      <th>6</th>\n",
       "      <td>2019</td>\n",
       "      <td>regular</td>\n",
       "      <td>3</td>\n",
       "      <td>[{'poll': 'AP Top 25', 'ranks': [{'rank': 1, '...</td>\n",
       "    </tr>\n",
       "    <tr>\n",
       "      <th>7</th>\n",
       "      <td>2019</td>\n",
       "      <td>regular</td>\n",
       "      <td>4</td>\n",
       "      <td>[{'poll': 'AP Top 25', 'ranks': [{'rank': 1, '...</td>\n",
       "    </tr>\n",
       "    <tr>\n",
       "      <th>8</th>\n",
       "      <td>2019</td>\n",
       "      <td>regular</td>\n",
       "      <td>5</td>\n",
       "      <td>[{'poll': 'AP Top 25', 'ranks': [{'rank': 1, '...</td>\n",
       "    </tr>\n",
       "    <tr>\n",
       "      <th>9</th>\n",
       "      <td>2019</td>\n",
       "      <td>regular</td>\n",
       "      <td>6</td>\n",
       "      <td>[{'poll': 'AP Top 25', 'ranks': [{'rank': 1, '...</td>\n",
       "    </tr>\n",
       "    <tr>\n",
       "      <th>10</th>\n",
       "      <td>2019</td>\n",
       "      <td>regular</td>\n",
       "      <td>7</td>\n",
       "      <td>[{'poll': 'AP Top 25', 'ranks': [{'rank': 1, '...</td>\n",
       "    </tr>\n",
       "    <tr>\n",
       "      <th>11</th>\n",
       "      <td>2019</td>\n",
       "      <td>regular</td>\n",
       "      <td>12</td>\n",
       "      <td>[{'poll': 'Coaches Poll', 'ranks': [{'rank': 1...</td>\n",
       "    </tr>\n",
       "    <tr>\n",
       "      <th>12</th>\n",
       "      <td>2019</td>\n",
       "      <td>regular</td>\n",
       "      <td>13</td>\n",
       "      <td>[{'poll': 'Coaches Poll', 'ranks': [{'rank': 1...</td>\n",
       "    </tr>\n",
       "    <tr>\n",
       "      <th>13</th>\n",
       "      <td>2019</td>\n",
       "      <td>regular</td>\n",
       "      <td>14</td>\n",
       "      <td>[{'poll': 'Coaches Poll', 'ranks': [{'rank': 1...</td>\n",
       "    </tr>\n",
       "    <tr>\n",
       "      <th>14</th>\n",
       "      <td>2019</td>\n",
       "      <td>regular</td>\n",
       "      <td>15</td>\n",
       "      <td>[{'poll': 'Coaches Poll', 'ranks': [{'rank': 1...</td>\n",
       "    </tr>\n",
       "    <tr>\n",
       "      <th>15</th>\n",
       "      <td>2019</td>\n",
       "      <td>regular</td>\n",
       "      <td>16</td>\n",
       "      <td>[{'poll': 'Playoff Committee Rankings', 'ranks...</td>\n",
       "    </tr>\n",
       "  </tbody>\n",
       "</table>\n",
       "</div>"
      ],
      "text/plain": [
       "    season seasonType  week                                              polls\n",
       "0     2019    regular     8  [{'poll': 'AP Top 25', 'ranks': [{'rank': 1, '...\n",
       "1     2019    regular     9  [{'poll': 'AP Top 25', 'ranks': [{'rank': 1, '...\n",
       "2     2019    regular    10  [{'poll': 'Coaches Poll', 'ranks': [{'rank': 1...\n",
       "3     2019    regular    11  [{'poll': 'Coaches Poll', 'ranks': [{'rank': 1...\n",
       "4     2019    regular     1  [{'poll': 'AP Top 25', 'ranks': [{'rank': 1, '...\n",
       "5     2019    regular     2  [{'poll': 'AP Top 25', 'ranks': [{'rank': 1, '...\n",
       "6     2019    regular     3  [{'poll': 'AP Top 25', 'ranks': [{'rank': 1, '...\n",
       "7     2019    regular     4  [{'poll': 'AP Top 25', 'ranks': [{'rank': 1, '...\n",
       "8     2019    regular     5  [{'poll': 'AP Top 25', 'ranks': [{'rank': 1, '...\n",
       "9     2019    regular     6  [{'poll': 'AP Top 25', 'ranks': [{'rank': 1, '...\n",
       "10    2019    regular     7  [{'poll': 'AP Top 25', 'ranks': [{'rank': 1, '...\n",
       "11    2019    regular    12  [{'poll': 'Coaches Poll', 'ranks': [{'rank': 1...\n",
       "12    2019    regular    13  [{'poll': 'Coaches Poll', 'ranks': [{'rank': 1...\n",
       "13    2019    regular    14  [{'poll': 'Coaches Poll', 'ranks': [{'rank': 1...\n",
       "14    2019    regular    15  [{'poll': 'Coaches Poll', 'ranks': [{'rank': 1...\n",
       "15    2019    regular    16  [{'poll': 'Playoff Committee Rankings', 'ranks..."
      ]
     },
     "execution_count": 209,
     "metadata": {},
     "output_type": "execute_result"
    }
   ],
   "source": [
    "ranks2019"
   ]
  },
  {
   "cell_type": "code",
   "execution_count": 239,
   "metadata": {},
   "outputs": [],
   "source": [
    "for i in range(len(ranks2019.loc[15].polls)):\n",
    "    pollName = ranks2019.loc[15].polls[i]['poll'].replace(' ', '_')\n",
    "    pollWeek = ranks2019.loc[15].week - 1\n",
    "    pollData = pd.DataFrame(ranks2019.loc[15].polls[i]['ranks']).sort_values('rank')\n",
    "    pollData = pollData[['school','points','rank']]\n",
    "    pollData.to_csv('2019/W%s_%s.csv'%(pollWeek,pollName),index=False)"
   ]
  },
  {
   "cell_type": "code",
   "execution_count": 245,
   "metadata": {},
   "outputs": [],
   "source": [
    "mPoll = pd.read_csv('2019/W15.csv',names=['school','PCT','Mrank'],header=0)\n",
    "# mPoll.columns = [['school','PCT','Rank']]\n",
    "coachPoll = pd.read_csv('2019/W15_Coaches_Poll.csv')\n",
    "APPoll = pd.read_csv('2019/W15_AP_Top_25.csv')\n",
    "CFPPoll = pd.read_csv('2019/W15_Playoff_Committee_Rankings.csv')"
   ]
  },
  {
   "cell_type": "code",
   "execution_count": 246,
   "metadata": {},
   "outputs": [],
   "source": [
    "coachList = []\n",
    "APList = []\n",
    "CFPList = []\n",
    "for t in mPoll.school:\n",
    "    try:\n",
    "#         print(t)\n",
    "        coachList.append(int(coachPoll.loc[coachPoll.school == t,'rank'].iloc[0]))\n",
    "    except IndexError:\n",
    "        coachList.append(None)\n",
    "    try:\n",
    "#         print(t)\n",
    "        APList.append(int(APPoll.loc[APPoll.school == t,'rank'].iloc[0]))\n",
    "    except IndexError:\n",
    "        APList.append(None)\n",
    "    try:\n",
    "#         print(t)\n",
    "        CFPList.append(int(CFPPoll.loc[CFPPoll.school == t,'rank'].iloc[0]))\n",
    "    except IndexError:\n",
    "        CFPList.append(None)"
   ]
  },
  {
   "cell_type": "code",
   "execution_count": 247,
   "metadata": {},
   "outputs": [],
   "source": [
    "mPoll['coachRanks'] = coachList\n",
    "mPoll['APRanks'] = APList\n",
    "mPoll['CFPRanks'] = CFPList"
   ]
  },
  {
   "cell_type": "code",
   "execution_count": 248,
   "metadata": {},
   "outputs": [],
   "source": [
    "compDF = pd.concat([mPoll.head(25),mPoll[25:].dropna(subset=['coachRanks','APRanks','CFPRanks'],thresh=1)])"
   ]
  },
  {
   "cell_type": "code",
   "execution_count": 249,
   "metadata": {},
   "outputs": [],
   "source": [
    "compDF['delCoach'] = compDF.Mrank - compDF.coachRanks\n",
    "compDF['delAP'] = compDF.Mrank - compDF.APRanks\n",
    "compDF['delCFP'] = compDF.Mrank - compDF.CFPRanks\n",
    "compDF = compDF[['school','PCT','Mrank','coachRanks','delCoach','APRanks','delAP','CFPRanks','delCFP']]\n",
    "compDF.columns = ['school','PCT','M','coach','delCoach','AP','delAP','CFP','delCFP']"
   ]
  },
  {
   "cell_type": "code",
   "execution_count": 251,
   "metadata": {},
   "outputs": [],
   "source": [
    "compDF.to_csv('2019/W%s_comparison.csv'%pollWeek,index=False)"
   ]
  },
  {
   "cell_type": "code",
   "execution_count": null,
   "metadata": {},
   "outputs": [],
   "source": []
  }
 ],
 "metadata": {
  "kernelspec": {
   "display_name": "Python 3",
   "language": "python",
   "name": "python3"
  },
  "language_info": {
   "codemirror_mode": {
    "name": "ipython",
    "version": 3
   },
   "file_extension": ".py",
   "mimetype": "text/x-python",
   "name": "python",
   "nbconvert_exporter": "python",
   "pygments_lexer": "ipython3",
   "version": "3.7.5"
  }
 },
 "nbformat": 4,
 "nbformat_minor": 4
}
