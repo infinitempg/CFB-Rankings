{
 "cells": [
  {
   "cell_type": "code",
   "execution_count": 1,
   "metadata": {},
   "outputs": [
    {
     "name": "stdout",
     "output_type": "stream",
     "text": [
      "The history saving thread hit an unexpected error (DatabaseError('database disk image is malformed')).History will not be written to the database.\n"
     ]
    }
   ],
   "source": [
    "import json\n",
    "import pandas as pd\n",
    "import numpy as np\n",
    "from tqdm.notebook import tqdm\n",
    "from sklearn import preprocessing\n",
    "import urllib\n",
    "import os\n",
    "import matplotlib.pyplot as plt\n",
    "plt.style.use('fivethirtyeight')"
   ]
  },
  {
   "cell_type": "code",
   "execution_count": 2,
   "metadata": {},
   "outputs": [],
   "source": [
    "P5 = ['ACC','Pac-12','Pac-10','Big East','Big Ten','Big 12','SEC','Notre Dame','Southwest']\n",
    "G5 = ['Conference USA','Sun Belt','Mid-American','American Athletic','Mountain West','FBS Independents','Western Athletic']\n",
    "\n",
    "def getTeamInfo(year):\n",
    "    info_json_url = urllib.request.urlopen('https://api.collegefootballdata.com/teams/fbs?year=%s'%year)\n",
    "    teamInfo = json.loads(info_json_url.read())\n",
    "    teamInfo = pd.DataFrame(teamInfo)\n",
    "    return teamInfo\n",
    "\n",
    "def seasonProgression(dfR):\n",
    "    totalGames = len(dfR)\n",
    "    cWeek = int(dfR['week']) + 1\n",
    "    return cWeek/(2*totalGames)\n",
    "\n",
    "def winningTeam(dfR):\n",
    "    if dfR['home_points'] > dfR['away_points']:\n",
    "        return dfR['home_team']\n",
    "    else:\n",
    "        return dfR['away_team']\n",
    "    \n",
    "def teamWin(dfR, team):\n",
    "    if dfR.winner == team:\n",
    "        return True\n",
    "    else:\n",
    "        return False\n",
    "    \n",
    "def findOpp(dfR):\n",
    "    if dfR.home == True:\n",
    "        return dfR.away_team\n",
    "    else:\n",
    "        return dfR.home_team\n",
    "def findOppConf(dfR):\n",
    "    if dfR.home == True:\n",
    "        return dfR.away_conference\n",
    "    else:\n",
    "        return dfR.home_conference\n",
    "    \n",
    "def locMult(dfR):\n",
    "    if dfR['neutral_site'] == True:\n",
    "        return 1.05\n",
    "    elif dfR['home'] == True:\n",
    "        return 1.1\n",
    "    else:\n",
    "        return 1.\n",
    "    \n",
    "def pointDiff(dfR,team):\n",
    "    if dfR.home_team == team:\n",
    "        return dfR.home_points - dfR.away_points\n",
    "    else:\n",
    "        return dfR.away_points - dfR.home_points\n",
    "    \n",
    "def confMult(dfR):\n",
    "    if dfR.opp_conference in P5:\n",
    "        return 1.\n",
    "    elif dfR.opp_conference in G5:\n",
    "        return 0.5\n",
    "    else:\n",
    "        return 0.15\n",
    "    \n",
    "def winQ(dfR,week,FBSdict): \n",
    "    if dfR.opp_conference == None:\n",
    "        oppWinPct = 0.5\n",
    "    else:\n",
    "#         print(dfR.opp_conference)\n",
    "        oppWinPct = FBSdict[dfR.opp].loc[FBSdict[dfR.opp].week <= week, 'winPct'].tail(1).iloc[0]\n",
    "    \n",
    "    if dfR.teamWin == True:\n",
    "        winMult = 1\n",
    "        oppFactor = oppWinPct\n",
    "    else:\n",
    "        winMult = -1\n",
    "        oppFactor = 1 - oppWinPct\n",
    "    \n",
    "    return oppFactor * dfR.seasonProg * dfR.conf_mult * winMult*(dfR.loc_mult + 0.01*dfR.point_diff)\n",
    "\n",
    "def calcPct(team, week,FBSdict):\n",
    "    winqweek = 'win_q_'+str(week)\n",
    "    wins = FBSdict[team].loc[FBSdict[team].week <= week, 'wins'].tail(1).iloc[0]\n",
    "    losses = FBSdict[team].loc[FBSdict[team].week <= week, 'losses'].tail(1).iloc[0]\n",
    "    return 0.9 * FBSdict[team].loc[FBSdict[team].week <= week, winqweek].mean() + 0.01*(wins-losses)"
   ]
  },
  {
   "cell_type": "code",
   "execution_count": 88,
   "metadata": {},
   "outputs": [],
   "source": [
    "def getRanks(year):\n",
    "    json_url = urllib.request.urlopen('https://api.collegefootballdata.com/games?year=%s&seasonType=regular'%year)\n",
    "    jsonFile = json.loads(json_url.read())\n",
    "    curSch = pd.DataFrame(jsonFile)\n",
    "    \n",
    "    curWeek = max(curSch['week'])\n",
    "    \n",
    "    json_url2 = urllib.request.urlopen('https://api.collegefootballdata.com/games?year=%s&seasonType=postseason'%year)\n",
    "    jsonFile2 = json.loads(json_url2.read())\n",
    "    postSch = pd.DataFrame(jsonFile2)\n",
    "    postSch['week'] = 1 + curWeek\n",
    "    curSch = curSch.append(postSch)\n",
    "    curSch = curSch.dropna(subset=['away_points'])\n",
    "    curSch.loc[curSch.away_team == 'Notre Dame','away_conference'] = 'Notre Dame'\n",
    "    curSch.loc[curSch.home_team == 'Notre Dame','home_conference'] = 'Notre Dame'\n",
    "    \n",
    "    curWeek = max(curSch['week'])\n",
    "    \n",
    "    teamInfo = getTeamInfo(year)\n",
    "    info2019 = teamInfo\n",
    "    \n",
    "    for t in teamInfo.index:\n",
    "        if teamInfo.loc[t].conference == \"FBS Independents\":\n",
    "            try:\n",
    "                conf2019 = info2019.loc[info2019.school == teamInfo.loc[t].school,'conference']\n",
    "            except ValueError:\n",
    "                conf2019 = teamInfo.loc[t].conference\n",
    "            teamInfo.at[t,'conference'] = conf2019\n",
    "\n",
    "    FBSteams = np.array(teamInfo.school)\n",
    "    FBSteams.sort()\n",
    "\n",
    "    FBSdict = {}\n",
    "    for team in FBSteams:\n",
    "        FBSdict[team] = curSch[(curSch['away_team'] == team) | \n",
    "                               (curSch['home_team'] == team)]\n",
    "#         FBSdict[team] = FBSdict[team][np.isfinite(FBSdict[team].away_points)]\n",
    "        FBSdict[team] = FBSdict[team].reset_index()\n",
    "\n",
    "    FBSbar = tqdm(total=len(FBSteams),desc='Vars:',leave=False)\n",
    "    for key in FBSdict:\n",
    "        FBSbar.set_description('Vars: %s'%key)\n",
    "        FBSdict[key]['seasonProg'] = FBSdict[key].apply(lambda row: seasonProgression(row),axis = 1)\n",
    "        FBSdict[key]['winner'] = FBSdict[key].apply(lambda row: winningTeam(row),axis = 1)\n",
    "        FBSdict[key]['teamWin'] = FBSdict[key].apply(lambda row: teamWin(row,key),axis = 1)\n",
    "\n",
    "        wins = 0\n",
    "        losses = 0\n",
    "        winList = []\n",
    "        lossList = []\n",
    "        for row in FBSdict[key].itertuples():\n",
    "        #     print(row.winner)\n",
    "            if row.teamWin:\n",
    "                wins += 1\n",
    "            else:\n",
    "                losses += 1\n",
    "            winList.append(wins)\n",
    "            lossList.append(losses)\n",
    "\n",
    "        FBSdict[key]['wins'] = winList\n",
    "        FBSdict[key]['losses'] = lossList\n",
    "\n",
    "        hometeam = FBSdict[key]['home_team'] == key\n",
    "        FBSdict[key]['home'] = hometeam\n",
    "\n",
    "        FBSdict[key]['winPct'] = FBSdict[key]['wins']/(FBSdict[key]['losses'] + FBSdict[key]['wins'])\n",
    "        FBSdict[key]['opp'] = FBSdict[key].apply(lambda row: findOpp(row), axis = 1)\n",
    "        FBSdict[key]['opp_conference'] = FBSdict[key].apply(lambda row: findOppConf(row), axis = 1)\n",
    "        FBSdict[key]['point_diff'] = FBSdict[key].apply(lambda row: pointDiff(row,key), axis = 1)\n",
    "        FBSdict[key]['loc_mult'] = FBSdict[key].apply(lambda row: locMult(row), axis = 1)\n",
    "        FBSdict[key]['conf_mult'] = FBSdict[key].apply(lambda row: confMult(row), axis = 1)\n",
    "\n",
    "        FBSbar.update(1)\n",
    "    FBSbar.close()\n",
    "    \n",
    "    FBSbar2 = tqdm(total=len(FBSteams),desc='WinQ:',leave=False)\n",
    "    for key in FBSdict:\n",
    "        FBSbar2.set_description('WinQ: %s'%key)\n",
    "        for w in range(4,curWeek+1):\n",
    "            FBSdict[key]['win_q_'+str(w)] = FBSdict[key].apply(lambda row: winQ(row, w, FBSdict),axis=1)\n",
    "        FBSbar2.update()\n",
    "    FBSbar2.close()\n",
    "    \n",
    "    FBSbar3 = tqdm(total=len(FBSteams),desc='PCT:',leave=False)\n",
    "    FBSpct = {}\n",
    "    for key in FBSdict:\n",
    "        FBSbar3.set_description('PCT: %s'%key)\n",
    "        pctList = []\n",
    "        for w in range(4,curWeek+1):\n",
    "            pctList.append(calcPct(key,w,FBSdict))\n",
    "        FBSpct[key] = pctList\n",
    "        FBSbar3.update()\n",
    "    FBSbar3.close()\n",
    "    \n",
    "    if not os.path.exists(str(year)):\n",
    "            os.mkdir(str(year))\n",
    "\n",
    "    PCTdf = pd.DataFrame.from_dict(FBSpct,orient='index',columns=range(4,curWeek+1))\n",
    "    PCTdf.to_csv('%s/PCT.csv'%year)\n",
    "\n",
    "    PCTnormdf = pd.DataFrame(index = FBSteams,columns=range(4,curWeek+1))\n",
    "\n",
    "    for w in range(4,curWeek+1):\n",
    "        x = PCTdf[w].values.reshape(-1,1)\n",
    "        min_max_scaler = preprocessing.MinMaxScaler()\n",
    "        xScaled = min_max_scaler.fit_transform(x)\n",
    "        PCTnormdf[w] = xScaled.reshape(len(FBSteams))\n",
    "\n",
    "    PCTnormdf.to_csv('%s/PCT_norm.csv'%year)\n",
    "\n",
    "    Ranks = PCTdf.rank(method='first',ascending=False).astype('int64')\n",
    "#     print(Ranks)\n",
    "    Ranks.to_csv('%s/Ranks.csv'%year)\n",
    "\n",
    "    for w in range(4,curWeek+1):\n",
    "        Wdf = pd.concat([PCTnormdf[w],Ranks[w]],axis=1)\n",
    "        Wdf = Wdf.reset_index()\n",
    "        Wdf.columns = ['Team','PCT','Rank']\n",
    "        Wdf = Wdf.sort_values('Rank')\n",
    "        Wdf['PCT'] = Wdf['PCT'].round(3)\n",
    "        Wdf['Record'] = ['('+str(FBSdict[Wdf['Team'].iloc[i]]['wins'].iloc[-1]) + '-' + str(FBSdict[Wdf['Team'].iloc[i]]['losses'].iloc[-1])+')' for i in range(len(Wdf))]\n",
    "#         Wdf = Wdf[['Rank','Team','Record','PCT']]\n",
    "        Wdf = Wdf.set_index('Rank')\n",
    "        Wdf.to_csv('%s/W%s.csv'%(year,w))\n",
    "        \n",
    "        HTMLdf = Wdf.copy()\n",
    "        HTMLdf['Team'] = [\"<img src='%s' width=50px style='float:left; padding: 0px 10px'> \"%info2019[info2019['school'] == HTMLdf['Team'].iloc[i]]['logos'].iloc[0][0] + HTMLdf['Team'].iloc[i] for i in range(len(testDF))]\n",
    "#         HTMLdf['Team'] = [info2019[Wdf['Team']].iloc[i]['']\n",
    "        HTMLdf.to_csv('%s/W%s_HTML.csv'%(year,w))\n",
    "    \n",
    "    return FBSdict, Wdf, info2019, HTMLdf"
   ]
  },
  {
   "cell_type": "code",
   "execution_count": 89,
   "metadata": {},
   "outputs": [
    {
     "data": {
      "application/vnd.jupyter.widget-view+json": {
       "model_id": "",
       "version_major": 2,
       "version_minor": 0
      },
      "text/plain": [
       "HBox(children=(FloatProgress(value=0.0, description='Vars:', max=130.0, style=ProgressStyle(description_width=…"
      ]
     },
     "metadata": {},
     "output_type": "display_data"
    },
    {
     "data": {
      "application/vnd.jupyter.widget-view+json": {
       "model_id": "",
       "version_major": 2,
       "version_minor": 0
      },
      "text/plain": [
       "HBox(children=(FloatProgress(value=0.0, description='WinQ:', max=130.0, style=ProgressStyle(description_width=…"
      ]
     },
     "metadata": {},
     "output_type": "display_data"
    },
    {
     "data": {
      "application/vnd.jupyter.widget-view+json": {
       "model_id": "",
       "version_major": 2,
       "version_minor": 0
      },
      "text/plain": [
       "HBox(children=(FloatProgress(value=0.0, description='PCT:', max=130.0, style=ProgressStyle(description_width='…"
      ]
     },
     "metadata": {},
     "output_type": "display_data"
    }
   ],
   "source": [
    "test, testDF, info, testHTML = getRanks(2019)"
   ]
  },
  {
   "cell_type": "code",
   "execution_count": 94,
   "metadata": {},
   "outputs": [],
   "source": [
    "testHTML = testHTML.reset_index()\n",
    "testHTML.to_html('testHTML.html',escape=False,justify='center',index=False)"
   ]
  },
  {
   "cell_type": "code",
   "execution_count": 83,
   "metadata": {},
   "outputs": [
    {
     "data": {
      "text/plain": [
       "'http://a.espncdn.com/i/teamlogos/ncaa/500/99.png'"
      ]
     },
     "execution_count": 83,
     "metadata": {},
     "output_type": "execute_result"
    }
   ],
   "source": [
    "info[info['school'] == testDF['Team'].iloc[0]]['logos'].iloc[0][0]"
   ]
  },
  {
   "cell_type": "code",
   "execution_count": 87,
   "metadata": {},
   "outputs": [
    {
     "data": {
      "text/plain": [
       "[\"<img src='http://a.espncdn.com/i/teamlogos/ncaa/500/99.png' width=50px style='float:left; padding: 0px 10px'> LSU\",\n",
       " \"<img src='http://a.espncdn.com/i/teamlogos/ncaa/500/228.png' width=50px style='float:left; padding: 0px 10px'> Clemson\",\n",
       " \"<img src='http://a.espncdn.com/i/teamlogos/ncaa/500/194.png' width=50px style='float:left; padding: 0px 10px'> Ohio State\",\n",
       " \"<img src='http://a.espncdn.com/i/teamlogos/ncaa/500/61.png' width=50px style='float:left; padding: 0px 10px'> Georgia\",\n",
       " \"<img src='http://a.espncdn.com/i/teamlogos/ncaa/500/2483.png' width=50px style='float:left; padding: 0px 10px'> Oregon\",\n",
       " \"<img src='http://a.espncdn.com/i/teamlogos/ncaa/500/201.png' width=50px style='float:left; padding: 0px 10px'> Oklahoma\",\n",
       " \"<img src='http://a.espncdn.com/i/teamlogos/ncaa/500/87.png' width=50px style='float:left; padding: 0px 10px'> Notre Dame\",\n",
       " \"<img src='http://a.espncdn.com/i/teamlogos/ncaa/500/2026.png' width=50px style='float:left; padding: 0px 10px'> Appalachian State\",\n",
       " \"<img src='http://a.espncdn.com/i/teamlogos/ncaa/500/57.png' width=50px style='float:left; padding: 0px 10px'> Florida\",\n",
       " \"<img src='http://a.espncdn.com/i/teamlogos/ncaa/500/213.png' width=50px style='float:left; padding: 0px 10px'> Penn State\",\n",
       " \"<img src='http://a.espncdn.com/i/teamlogos/ncaa/500/333.png' width=50px style='float:left; padding: 0px 10px'> Alabama\",\n",
       " \"<img src='http://a.espncdn.com/i/teamlogos/ncaa/500/135.png' width=50px style='float:left; padding: 0px 10px'> Minnesota\",\n",
       " \"<img src='http://a.espncdn.com/i/teamlogos/ncaa/500/254.png' width=50px style='float:left; padding: 0px 10px'> Utah\",\n",
       " \"<img src='http://a.espncdn.com/i/teamlogos/ncaa/500/235.png' width=50px style='float:left; padding: 0px 10px'> Memphis\",\n",
       " \"<img src='http://a.espncdn.com/i/teamlogos/ncaa/500/2426.png' width=50px style='float:left; padding: 0px 10px'> Navy\",\n",
       " \"<img src='http://a.espncdn.com/i/teamlogos/ncaa/500/2294.png' width=50px style='float:left; padding: 0px 10px'> Iowa\",\n",
       " \"<img src='http://a.espncdn.com/i/teamlogos/ncaa/500/2005.png' width=50px style='float:left; padding: 0px 10px'> Air Force\",\n",
       " \"<img src='http://a.espncdn.com/i/teamlogos/ncaa/500/239.png' width=50px style='float:left; padding: 0px 10px'> Baylor\",\n",
       " \"<img src='http://a.espncdn.com/i/teamlogos/ncaa/500/68.png' width=50px style='float:left; padding: 0px 10px'> Boise State\",\n",
       " \"<img src='http://a.espncdn.com/i/teamlogos/ncaa/500/2226.png' width=50px style='float:left; padding: 0px 10px'> Florida Atlantic\",\n",
       " \"<img src='http://a.espncdn.com/i/teamlogos/ncaa/500/275.png' width=50px style='float:left; padding: 0px 10px'> Wisconsin\",\n",
       " \"<img src='http://a.espncdn.com/i/teamlogos/ncaa/500/2132.png' width=50px style='float:left; padding: 0px 10px'> Cincinnati\",\n",
       " \"<img src='http://a.espncdn.com/i/teamlogos/ncaa/500/130.png' width=50px style='float:left; padding: 0px 10px'> Michigan\",\n",
       " \"<img src='http://a.espncdn.com/i/teamlogos/ncaa/500/309.png' width=50px style='float:left; padding: 0px 10px'> Louisiana\",\n",
       " \"<img src='http://a.espncdn.com/i/teamlogos/ncaa/500/2116.png' width=50px style='float:left; padding: 0px 10px'> UCF\",\n",
       " \"<img src='http://a.espncdn.com/i/teamlogos/ncaa/500/2348.png' width=50px style='float:left; padding: 0px 10px'> Louisiana Tech\",\n",
       " \"<img src='http://a.espncdn.com/i/teamlogos/ncaa/500/21.png' width=50px style='float:left; padding: 0px 10px'> San Diego State\",\n",
       " \"<img src='http://a.espncdn.com/i/teamlogos/ncaa/500/2633.png' width=50px style='float:left; padding: 0px 10px'> Tennessee\",\n",
       " \"<img src='http://a.espncdn.com/i/teamlogos/ncaa/500/2.png' width=50px style='float:left; padding: 0px 10px'> Auburn\",\n",
       " \"<img src='http://a.espncdn.com/i/teamlogos/ncaa/500/2567.png' width=50px style='float:left; padding: 0px 10px'> SMU\",\n",
       " \"<img src='http://a.espncdn.com/i/teamlogos/ncaa/500/98.png' width=50px style='float:left; padding: 0px 10px'> Western Kentucky\",\n",
       " \"<img src='http://a.espncdn.com/i/teamlogos/ncaa/500/30.png' width=50px style='float:left; padding: 0px 10px'> USC\",\n",
       " \"<img src='http://a.espncdn.com/i/teamlogos/ncaa/500/251.png' width=50px style='float:left; padding: 0px 10px'> Texas\",\n",
       " \"<img src='http://a.espncdn.com/i/teamlogos/ncaa/500/258.png' width=50px style='float:left; padding: 0px 10px'> Virginia\",\n",
       " \"<img src='http://a.espncdn.com/i/teamlogos/ncaa/500/62.png' width=50px style='float:left; padding: 0px 10px'> Hawai'i\",\n",
       " \"<img src='http://a.espncdn.com/i/teamlogos/ncaa/500/97.png' width=50px style='float:left; padding: 0px 10px'> Louisville\",\n",
       " \"<img src='http://a.espncdn.com/i/teamlogos/ncaa/500/96.png' width=50px style='float:left; padding: 0px 10px'> Kentucky\",\n",
       " \"<img src='http://a.espncdn.com/i/teamlogos/ncaa/500/245.png' width=50px style='float:left; padding: 0px 10px'> Texas A&M\",\n",
       " \"<img src='http://a.espncdn.com/i/teamlogos/ncaa/500/259.png' width=50px style='float:left; padding: 0px 10px'> Virginia Tech\",\n",
       " \"<img src='http://a.espncdn.com/i/teamlogos/ncaa/500/264.png' width=50px style='float:left; padding: 0px 10px'> Washington\",\n",
       " \"<img src='http://a.espncdn.com/i/teamlogos/ncaa/500/2306.png' width=50px style='float:left; padding: 0px 10px'> Kansas State\",\n",
       " \"<img src='http://a.espncdn.com/i/teamlogos/ncaa/500/25.png' width=50px style='float:left; padding: 0px 10px'> California\",\n",
       " \"<img src='http://a.espncdn.com/i/teamlogos/ncaa/500/9.png' width=50px style='float:left; padding: 0px 10px'> Arizona State\",\n",
       " \"<img src='http://a.espncdn.com/i/teamlogos/ncaa/500/2084.png' width=50px style='float:left; padding: 0px 10px'> Buffalo\",\n",
       " \"<img src='http://a.espncdn.com/i/teamlogos/ncaa/500/276.png' width=50px style='float:left; padding: 0px 10px'> Marshall\",\n",
       " \"<img src='http://a.espncdn.com/i/teamlogos/ncaa/500/197.png' width=50px style='float:left; padding: 0px 10px'> Oklahoma State\",\n",
       " \"<img src='http://a.espncdn.com/i/teamlogos/ncaa/500/5.png' width=50px style='float:left; padding: 0px 10px'> UAB\",\n",
       " \"<img src='http://a.espncdn.com/i/teamlogos/ncaa/500/2032.png' width=50px style='float:left; padding: 0px 10px'> Arkansas State\",\n",
       " \"<img src='http://a.espncdn.com/i/teamlogos/ncaa/500/2751.png' width=50px style='float:left; padding: 0px 10px'> Wyoming\",\n",
       " \"<img src='http://a.espncdn.com/i/teamlogos/ncaa/500/218.png' width=50px style='float:left; padding: 0px 10px'> Temple\",\n",
       " \"<img src='http://a.espncdn.com/i/teamlogos/ncaa/500/221.png' width=50px style='float:left; padding: 0px 10px'> Pittsburgh\",\n",
       " \"<img src='http://a.espncdn.com/i/teamlogos/ncaa/500/84.png' width=50px style='float:left; padding: 0px 10px'> Indiana\",\n",
       " \"<img src='http://a.espncdn.com/i/teamlogos/ncaa/500/193.png' width=50px style='float:left; padding: 0px 10px'> Miami (OH)\",\n",
       " \"<img src='http://a.espncdn.com/i/teamlogos/ncaa/500/154.png' width=50px style='float:left; padding: 0px 10px'> Wake Forest\",\n",
       " \"<img src='http://a.espncdn.com/i/teamlogos/ncaa/500/127.png' width=50px style='float:left; padding: 0px 10px'> Michigan State\",\n",
       " \"<img src='http://a.espncdn.com/i/teamlogos/ncaa/500/2117.png' width=50px style='float:left; padding: 0px 10px'> Central Michigan\",\n",
       " \"<img src='http://a.espncdn.com/i/teamlogos/ncaa/500/66.png' width=50px style='float:left; padding: 0px 10px'> Iowa State\",\n",
       " \"<img src='http://a.espncdn.com/i/teamlogos/ncaa/500/153.png' width=50px style='float:left; padding: 0px 10px'> North Carolina\",\n",
       " \"<img src='http://a.espncdn.com/i/teamlogos/ncaa/500/252.png' width=50px style='float:left; padding: 0px 10px'> BYU\",\n",
       " \"<img src='http://a.espncdn.com/i/teamlogos/ncaa/500/290.png' width=50px style='float:left; padding: 0px 10px'> Georgia Southern\",\n",
       " \"<img src='http://a.espncdn.com/i/teamlogos/ncaa/500/2335.png' width=50px style='float:left; padding: 0px 10px'> Liberty\",\n",
       " \"<img src='http://a.espncdn.com/i/teamlogos/ncaa/500/2309.png' width=50px style='float:left; padding: 0px 10px'> Kent State\",\n",
       " \"<img src='http://a.espncdn.com/i/teamlogos/ncaa/500/328.png' width=50px style='float:left; padding: 0px 10px'> Utah State\",\n",
       " \"<img src='http://a.espncdn.com/i/teamlogos/ncaa/500/2655.png' width=50px style='float:left; padding: 0px 10px'> Tulane\",\n",
       " \"<img src='http://a.espncdn.com/i/teamlogos/ncaa/500/2429.png' width=50px style='float:left; padding: 0px 10px'> Charlotte\",\n",
       " \"<img src='http://a.espncdn.com/i/teamlogos/ncaa/500/195.png' width=50px style='float:left; padding: 0px 10px'> Ohio\",\n",
       " \"<img src='http://a.espncdn.com/i/teamlogos/ncaa/500/2572.png' width=50px style='float:left; padding: 0px 10px'> Southern Mississippi\",\n",
       " \"<img src='http://a.espncdn.com/i/teamlogos/ncaa/500/2711.png' width=50px style='float:left; padding: 0px 10px'> Western Michigan\",\n",
       " \"<img src='http://a.espncdn.com/i/teamlogos/ncaa/500/2247.png' width=50px style='float:left; padding: 0px 10px'> Georgia State\",\n",
       " \"<img src='http://a.espncdn.com/i/teamlogos/ncaa/500/2440.png' width=50px style='float:left; padding: 0px 10px'> Nevada\",\n",
       " \"<img src='http://a.espncdn.com/i/teamlogos/ncaa/500/2390.png' width=50px style='float:left; padding: 0px 10px'> Miami\",\n",
       " \"<img src='http://a.espncdn.com/i/teamlogos/ncaa/500/103.png' width=50px style='float:left; padding: 0px 10px'> Boston College\",\n",
       " \"<img src='http://a.espncdn.com/i/teamlogos/ncaa/500/2649.png' width=50px style='float:left; padding: 0px 10px'> Toledo\",\n",
       " \"<img src='http://a.espncdn.com/i/teamlogos/ncaa/500/2229.png' width=50px style='float:left; padding: 0px 10px'> Florida International\",\n",
       " \"<img src='http://a.espncdn.com/i/teamlogos/ncaa/500/52.png' width=50px style='float:left; padding: 0px 10px'> Florida State\",\n",
       " \"<img src='http://a.espncdn.com/i/teamlogos/ncaa/500/265.png' width=50px style='float:left; padding: 0px 10px'> Washington State\",\n",
       " \"<img src='http://a.espncdn.com/i/teamlogos/ncaa/500/142.png' width=50px style='float:left; padding: 0px 10px'> Missouri\",\n",
       " \"<img src='http://a.espncdn.com/i/teamlogos/ncaa/500/344.png' width=50px style='float:left; padding: 0px 10px'> Mississippi State\",\n",
       " \"<img src='http://a.espncdn.com/i/teamlogos/ncaa/500/204.png' width=50px style='float:left; padding: 0px 10px'> Oregon State\",\n",
       " \"<img src='http://a.espncdn.com/i/teamlogos/ncaa/500/356.png' width=50px style='float:left; padding: 0px 10px'> Illinois\",\n",
       " \"<img src='http://a.espncdn.com/i/teamlogos/ncaa/500/2433.png' width=50px style='float:left; padding: 0px 10px'> Louisiana Monroe\",\n",
       " \"<img src='http://a.espncdn.com/i/teamlogos/ncaa/500/183.png' width=50px style='float:left; padding: 0px 10px'> Syracuse\",\n",
       " \"<img src='http://a.espncdn.com/i/teamlogos/ncaa/500/38.png' width=50px style='float:left; padding: 0px 10px'> Colorado\",\n",
       " \"<img src='http://a.espncdn.com/i/teamlogos/ncaa/500/2050.png' width=50px style='float:left; padding: 0px 10px'> Ball State\",\n",
       " \"<img src='http://a.espncdn.com/i/teamlogos/ncaa/500/2199.png' width=50px style='float:left; padding: 0px 10px'> Eastern Michigan\",\n",
       " \"<img src='http://a.espncdn.com/i/teamlogos/ncaa/500/2653.png' width=50px style='float:left; padding: 0px 10px'> Troy\",\n",
       " \"<img src='http://a.espncdn.com/i/teamlogos/ncaa/500/150.png' width=50px style='float:left; padding: 0px 10px'> Duke\",\n",
       " \"<img src='http://a.espncdn.com/i/teamlogos/ncaa/500/2459.png' width=50px style='float:left; padding: 0px 10px'> Northern Illinois\",\n",
       " \"<img src='http://a.espncdn.com/i/teamlogos/ncaa/500/277.png' width=50px style='float:left; padding: 0px 10px'> West Virginia\",\n",
       " \"<img src='http://a.espncdn.com/i/teamlogos/ncaa/500/23.png' width=50px style='float:left; padding: 0px 10px'> San José State\",\n",
       " \"<img src='http://a.espncdn.com/i/teamlogos/ncaa/500/324.png' width=50px style='float:left; padding: 0px 10px'> Coastal Carolina\",\n",
       " \"<img src='http://a.espncdn.com/i/teamlogos/ncaa/500/2628.png' width=50px style='float:left; padding: 0px 10px'> TCU\",\n",
       " \"<img src='http://a.espncdn.com/i/teamlogos/ncaa/500/2579.png' width=50px style='float:left; padding: 0px 10px'> South Carolina\",\n",
       " \"<img src='http://a.espncdn.com/i/teamlogos/ncaa/500/158.png' width=50px style='float:left; padding: 0px 10px'> Nebraska\",\n",
       " \"<img src='http://a.espncdn.com/i/teamlogos/ncaa/500/202.png' width=50px style='float:left; padding: 0px 10px'> Tulsa\",\n",
       " \"<img src='http://a.espncdn.com/i/teamlogos/ncaa/500/26.png' width=50px style='float:left; padding: 0px 10px'> UCLA\",\n",
       " \"<img src='http://a.espncdn.com/i/teamlogos/ncaa/500/349.png' width=50px style='float:left; padding: 0px 10px'> Army\",\n",
       " \"<img src='http://a.espncdn.com/i/teamlogos/ncaa/500/2439.png' width=50px style='float:left; padding: 0px 10px'> UNLV\",\n",
       " \"<img src='http://a.espncdn.com/i/teamlogos/ncaa/500/58.png' width=50px style='float:left; padding: 0px 10px'> South Florida\",\n",
       " \"<img src='http://a.espncdn.com/i/teamlogos/ncaa/500/248.png' width=50px style='float:left; padding: 0px 10px'> Houston\",\n",
       " \"<img src='http://a.espncdn.com/i/teamlogos/ncaa/500/36.png' width=50px style='float:left; padding: 0px 10px'> Colorado State\",\n",
       " \"<img src='http://a.espncdn.com/i/teamlogos/ncaa/500/2509.png' width=50px style='float:left; padding: 0px 10px'> Purdue\",\n",
       " \"<img src='http://a.espncdn.com/i/teamlogos/ncaa/500/2393.png' width=50px style='float:left; padding: 0px 10px'> Middle Tennessee\",\n",
       " \"<img src='http://a.espncdn.com/i/teamlogos/ncaa/500/2636.png' width=50px style='float:left; padding: 0px 10px'> UT San Antonio\",\n",
       " \"<img src='http://a.espncdn.com/i/teamlogos/ncaa/500/278.png' width=50px style='float:left; padding: 0px 10px'> Fresno State\",\n",
       " \"<img src='http://a.espncdn.com/i/teamlogos/ncaa/500/151.png' width=50px style='float:left; padding: 0px 10px'> East Carolina\",\n",
       " \"<img src='http://a.espncdn.com/i/teamlogos/ncaa/500/249.png' width=50px style='float:left; padding: 0px 10px'> North Texas\",\n",
       " \"<img src='http://a.espncdn.com/i/teamlogos/ncaa/500/24.png' width=50px style='float:left; padding: 0px 10px'> Stanford\",\n",
       " \"<img src='http://a.espncdn.com/i/teamlogos/ncaa/500/145.png' width=50px style='float:left; padding: 0px 10px'> Ole Miss\",\n",
       " \"<img src='http://a.espncdn.com/i/teamlogos/ncaa/500/242.png' width=50px style='float:left; padding: 0px 10px'> Rice\",\n",
       " \"<img src='http://a.espncdn.com/i/teamlogos/ncaa/500/12.png' width=50px style='float:left; padding: 0px 10px'> Arizona\",\n",
       " \"<img src='http://a.espncdn.com/i/teamlogos/ncaa/500/189.png' width=50px style='float:left; padding: 0px 10px'> Bowling Green\",\n",
       " \"<img src='http://a.espncdn.com/i/teamlogos/ncaa/500/326.png' width=50px style='float:left; padding: 0px 10px'> Texas State\",\n",
       " \"<img src='http://a.espncdn.com/i/teamlogos/ncaa/500/59.png' width=50px style='float:left; padding: 0px 10px'> Georgia Tech\",\n",
       " \"<img src='http://a.espncdn.com/i/teamlogos/ncaa/500/2641.png' width=50px style='float:left; padding: 0px 10px'> Texas Tech\",\n",
       " \"<img src='http://a.espncdn.com/i/teamlogos/ncaa/500/77.png' width=50px style='float:left; padding: 0px 10px'> Northwestern\",\n",
       " \"<img src='http://a.espncdn.com/i/teamlogos/ncaa/500/152.png' width=50px style='float:left; padding: 0px 10px'> NC State\",\n",
       " \"<img src='http://a.espncdn.com/i/teamlogos/ncaa/500/238.png' width=50px style='float:left; padding: 0px 10px'> Vanderbilt\",\n",
       " \"<img src='http://a.espncdn.com/i/teamlogos/ncaa/500/2305.png' width=50px style='float:left; padding: 0px 10px'> Kansas\",\n",
       " \"<img src='http://a.espncdn.com/i/teamlogos/ncaa/500/120.png' width=50px style='float:left; padding: 0px 10px'> Maryland\",\n",
       " \"<img src='http://a.espncdn.com/i/teamlogos/ncaa/500/6.png' width=50px style='float:left; padding: 0px 10px'> South Alabama\",\n",
       " \"<img src='http://a.espncdn.com/i/teamlogos/ncaa/500/166.png' width=50px style='float:left; padding: 0px 10px'> New Mexico State\",\n",
       " \"<img src='http://a.espncdn.com/i/teamlogos/ncaa/500/167.png' width=50px style='float:left; padding: 0px 10px'> New Mexico\",\n",
       " \"<img src='http://a.espncdn.com/i/teamlogos/ncaa/500/41.png' width=50px style='float:left; padding: 0px 10px'> Connecticut\",\n",
       " \"<img src='http://a.espncdn.com/i/teamlogos/ncaa/500/164.png' width=50px style='float:left; padding: 0px 10px'> Rutgers\",\n",
       " \"<img src='http://a.espncdn.com/i/teamlogos/ncaa/500/8.png' width=50px style='float:left; padding: 0px 10px'> Arkansas\",\n",
       " \"<img src='http://a.espncdn.com/i/teamlogos/ncaa/500/113.png' width=50px style='float:left; padding: 0px 10px'> UMass\",\n",
       " \"<img src='http://a.espncdn.com/i/teamlogos/ncaa/500/295.png' width=50px style='float:left; padding: 0px 10px'> Old Dominion\",\n",
       " \"<img src='http://a.espncdn.com/i/teamlogos/ncaa/500/2638.png' width=50px style='float:left; padding: 0px 10px'> UTEP\",\n",
       " \"<img src='http://a.espncdn.com/i/teamlogos/ncaa/500/2006.png' width=50px style='float:left; padding: 0px 10px'> Akron\"]"
      ]
     },
     "execution_count": 87,
     "metadata": {},
     "output_type": "execute_result"
    }
   ],
   "source": [
    "[\"<img src='%s' width=50px style='float:left; padding: 0px 10px'> \"%info[info['school'] == testDF['Team'].iloc[i]]['logos'].iloc[0][0] + testDF['Team'].iloc[i] for i in range(len(testDF))]"
   ]
  },
  {
   "cell_type": "code",
   "execution_count": 42,
   "metadata": {},
   "outputs": [],
   "source": [
    "testDF['Record'] = [str(test[testDF['Team'].iloc[i]]['wins'].iloc[-1]) + '-' + str(test[testDF['Team'].iloc[i]]['losses'].iloc[-1]) for i in range(len(testDF))]"
   ]
  },
  {
   "cell_type": "code",
   "execution_count": 50,
   "metadata": {},
   "outputs": [
    {
     "data": {
      "text/html": [
       "<div>\n",
       "<style scoped>\n",
       "    .dataframe tbody tr th:only-of-type {\n",
       "        vertical-align: middle;\n",
       "    }\n",
       "\n",
       "    .dataframe tbody tr th {\n",
       "        vertical-align: top;\n",
       "    }\n",
       "\n",
       "    .dataframe thead th {\n",
       "        text-align: right;\n",
       "    }\n",
       "</style>\n",
       "<table border=\"1\" class=\"dataframe\">\n",
       "  <thead>\n",
       "    <tr style=\"text-align: right;\">\n",
       "      <th></th>\n",
       "      <th>Team</th>\n",
       "      <th>PCT</th>\n",
       "      <th>Record</th>\n",
       "    </tr>\n",
       "    <tr>\n",
       "      <th>Rank</th>\n",
       "      <th></th>\n",
       "      <th></th>\n",
       "      <th></th>\n",
       "    </tr>\n",
       "  </thead>\n",
       "  <tbody>\n",
       "    <tr>\n",
       "      <th>1</th>\n",
       "      <td>LSU</td>\n",
       "      <td>1.000000</td>\n",
       "      <td>(15-0)</td>\n",
       "    </tr>\n",
       "    <tr>\n",
       "      <th>2</th>\n",
       "      <td>Clemson</td>\n",
       "      <td>0.868730</td>\n",
       "      <td>(14-1)</td>\n",
       "    </tr>\n",
       "    <tr>\n",
       "      <th>3</th>\n",
       "      <td>Ohio State</td>\n",
       "      <td>0.831137</td>\n",
       "      <td>(13-1)</td>\n",
       "    </tr>\n",
       "    <tr>\n",
       "      <th>4</th>\n",
       "      <td>Georgia</td>\n",
       "      <td>0.774608</td>\n",
       "      <td>(12-2)</td>\n",
       "    </tr>\n",
       "    <tr>\n",
       "      <th>5</th>\n",
       "      <td>Oregon</td>\n",
       "      <td>0.762767</td>\n",
       "      <td>(12-2)</td>\n",
       "    </tr>\n",
       "    <tr>\n",
       "      <th>...</th>\n",
       "      <td>...</td>\n",
       "      <td>...</td>\n",
       "      <td>...</td>\n",
       "    </tr>\n",
       "    <tr>\n",
       "      <th>126</th>\n",
       "      <td>Arkansas</td>\n",
       "      <td>0.072179</td>\n",
       "      <td>(2-10)</td>\n",
       "    </tr>\n",
       "    <tr>\n",
       "      <th>127</th>\n",
       "      <td>UMass</td>\n",
       "      <td>0.046014</td>\n",
       "      <td>(1-11)</td>\n",
       "    </tr>\n",
       "    <tr>\n",
       "      <th>128</th>\n",
       "      <td>Old Dominion</td>\n",
       "      <td>0.034714</td>\n",
       "      <td>(1-11)</td>\n",
       "    </tr>\n",
       "    <tr>\n",
       "      <th>129</th>\n",
       "      <td>UTEP</td>\n",
       "      <td>0.020500</td>\n",
       "      <td>(1-11)</td>\n",
       "    </tr>\n",
       "    <tr>\n",
       "      <th>130</th>\n",
       "      <td>Akron</td>\n",
       "      <td>0.000000</td>\n",
       "      <td>(0-12)</td>\n",
       "    </tr>\n",
       "  </tbody>\n",
       "</table>\n",
       "<p>130 rows × 3 columns</p>\n",
       "</div>"
      ],
      "text/plain": [
       "              Team       PCT  Record\n",
       "Rank                                \n",
       "1              LSU  1.000000  (15-0)\n",
       "2          Clemson  0.868730  (14-1)\n",
       "3       Ohio State  0.831137  (13-1)\n",
       "4          Georgia  0.774608  (12-2)\n",
       "5           Oregon  0.762767  (12-2)\n",
       "...            ...       ...     ...\n",
       "126       Arkansas  0.072179  (2-10)\n",
       "127          UMass  0.046014  (1-11)\n",
       "128   Old Dominion  0.034714  (1-11)\n",
       "129           UTEP  0.020500  (1-11)\n",
       "130          Akron  0.000000  (0-12)\n",
       "\n",
       "[130 rows x 3 columns]"
      ]
     },
     "execution_count": 50,
     "metadata": {},
     "output_type": "execute_result"
    }
   ],
   "source": [
    "testDF"
   ]
  },
  {
   "cell_type": "code",
   "execution_count": 4,
   "metadata": {},
   "outputs": [],
   "source": [
    "def plotTeamRank(team,teamInfo,Ranks,year,show=False):\n",
    "    fig = plt.figure(figsize=(12,5),facecolor='w')\n",
    "    # plt.subplot(121)\n",
    "    plt.gca().invert_yaxis()\n",
    "    plt.title('%s - %s'%(team,year),size=18,fontweight='bold')\n",
    "#     plt.title('Rankings over the 2019 CFB Season',size=14)\n",
    "    plt.xlabel('Week',weight='medium')\n",
    "    plt.ylabel('Rank',weight='medium')\n",
    "    plt.xticks(fontname = 'NovaMono',weight='medium')\n",
    "    plt.yticks(fontname = 'NovaMono',weight='medium')\n",
    "    try:\n",
    "        teamColor = teamInfo.loc[teamInfo.school == team,'color'].iloc[0]\n",
    "        teamAltColor = teamInfo.loc[teamInfo.school == team,'alt_color'].iloc[0]\n",
    "    except ValueError:\n",
    "        teamColor = 'k'\n",
    "        teamAltColor = 'w'\n",
    "    plt.plot(Ranks.loc[team],c=str(teamColor),label=team,lw=5,\n",
    "             marker = 'o',markersize=10,markerfacecolor=str(teamAltColor),markeredgewidth=2.5,markeredgecolor=str(teamColor))\n",
    "    plt.tight_layout()\n",
    "    if not os.path.exists(str(year)+'/Rank Graphs'):\n",
    "            os.mkdir(str(year)+'/Rank Graphs')\n",
    "    plt.savefig('%s/Rank Graphs/%s_%s_Ranks.png'%(year,team,year),facecolor=fig.get_facecolor())\n",
    "    if show:\n",
    "        plt.show()\n",
    "    else:\n",
    "        plt.close()\n",
    "\n",
    "def graphRanks(year):\n",
    "    info_json_url = urllib.request.urlopen('https://api.collegefootballdata.com/teams/fbs?year=%s'%year)\n",
    "    teamInfo = json.loads(info_json_url.read())\n",
    "    teamInfo = pd.DataFrame(teamInfo)\n",
    "\n",
    "    Ranks = pd.read_csv('%s/Ranks.csv'%year,index_col=0)\n",
    "    PCT = pd.read_csv('%s/PCT_norm.csv'%year,index_col=0)\n",
    "\n",
    "    Ranks = Ranks.sort_values(str(max([int(r) for r in Ranks.columns])))\n",
    "\n",
    "    TeamList = Ranks.index\n",
    "\n",
    "    plt.rcParams['font.family'] = 'Roboto Mono'\n",
    "    plt.rcParams['font.weight'] = 'medium'\n",
    "\n",
    "    graphBar = tqdm(total=len(TeamList),leave=False)\n",
    "#     print(\"Graphing:\")\n",
    "    for team in TeamList:\n",
    "        graphBar.set_description('Graph: %s'%team)\n",
    "        plotTeamRank(team,teamInfo,Ranks,year)\n",
    "        graphBar.update(1)\n",
    "    graphBar.close() \n",
    "    fig = plt.figure(figsize=(12,7),facecolor='w')\n",
    "    # plt.subplot(121)\n",
    "    plt.gca().invert_yaxis()\n",
    "    plt.title('Top Ten Teams, %s'%year,size=18,fontweight='bold')\n",
    "    # plt.title('Rankings over the 2019 CFB Season',size=14)\n",
    "    plt.xlabel('Week',weight='medium')\n",
    "    plt.ylabel('Rank',weight='medium')\n",
    "    plt.xticks(fontname = 'NovaMono',weight='medium')\n",
    "    plt.yticks(fontname = 'NovaMono',weight='medium')\n",
    "#     teamColor = teamInfo[teamInfo.school == team].color.item()\n",
    "    for team in TeamList[:10]:\n",
    "        teamColor = teamInfo.loc[teamInfo.school == team,'color'].iloc[0]\n",
    "        teamAltColor = teamInfo.loc[teamInfo.school == team,'alt_color'].iloc[0]\n",
    "        plt.plot(Ranks.loc[team],c=str(teamColor),label=team,lw=5,\n",
    "                 marker = 'o',markersize=10,markerfacecolor=str(teamAltColor),markeredgewidth=2.5,markeredgecolor=str(teamColor))\n",
    "    plt.legend(bbox_to_anchor=(1, 1.025), loc='upper left', ncol=1)\n",
    "    plt.tight_layout()\n",
    "    plt.savefig('%s/topten.png'%year,facecolor=fig.get_facecolor())\n",
    "    plt.close()\n",
    "    \n",
    "    fig = plt.figure(figsize=(12,8),facecolor='w')\n",
    "    # plt.subplot(121)\n",
    "    plt.gca().invert_yaxis()\n",
    "    plt.title('Ranked, %s'%year,size=18,fontweight='bold')\n",
    "    # plt.title('Rankings over the 2019 CFB Season',size=14)\n",
    "    plt.xlabel('Week',weight='medium')\n",
    "    plt.ylabel('Rank',weight='medium')\n",
    "    plt.xticks(fontname = 'NovaMono',weight='medium')\n",
    "    plt.yticks(fontname = 'NovaMono',weight='medium')\n",
    "#     teamColor = teamInfo[teamInfo.school == team].color.item()\n",
    "    for team in TeamList[:25]:\n",
    "        teamColor = teamInfo.loc[teamInfo.school == team,'color'].iloc[0]\n",
    "        teamAltColor = teamInfo.loc[teamInfo.school == team,'alt_color'].iloc[0]\n",
    "        plt.plot(Ranks.loc[team],c=str(teamColor),label=team,lw=5,\n",
    "                 marker = 'o',markersize=10,markerfacecolor=str(teamAltColor),markeredgewidth=2.5,markeredgecolor=str(teamColor))\n",
    "    plt.legend(bbox_to_anchor=(1, 1.025), loc='upper left', ncol=1)\n",
    "    plt.tight_layout()\n",
    "    plt.savefig('%s/ranked.png'%year,facecolor=fig.get_facecolor())\n",
    "    plt.close()\n",
    "\n",
    "    fig = plt.figure(figsize=(12,7),facecolor='w')\n",
    "    # plt.subplot(121)\n",
    "#     plt.gca().invert_yaxis()\n",
    "    plt.title('Top Ten Teams (PCT), %s'%year,size=18,fontweight='bold')\n",
    "    # plt.title('Rankings over the 2019 CFB Season',size=14)\n",
    "    plt.xlabel('Week',weight='medium')\n",
    "    plt.ylabel('Rank',weight='medium')\n",
    "    plt.xticks(fontname = 'NovaMono',weight='medium')\n",
    "    plt.yticks(fontname = 'NovaMono',weight='medium')\n",
    "#     teamColor = teamInfo[teamInfo.school == team].color.item()\n",
    "    for team in TeamList[:10]:\n",
    "        teamColor = teamInfo.loc[teamInfo.school == team,'color'].iloc[0]\n",
    "        teamAltColor = teamInfo.loc[teamInfo.school == team,'alt_color'].iloc[0]\n",
    "        plt.plot(PCT.loc[team],c=str(teamColor),label=team,lw=5,\n",
    "                 marker = 'o',markersize=10,markerfacecolor=str(teamAltColor),markeredgewidth=2.5,markeredgecolor=str(teamColor))\n",
    "    plt.legend(bbox_to_anchor=(1, 1.025), loc='upper left', ncol=1)\n",
    "    plt.tight_layout()\n",
    "    plt.savefig('%s/topten_PCT.png'%year,facecolor=fig.get_facecolor())\n",
    "    plt.close()\n",
    "    \n",
    "    fig = plt.figure(figsize=(12,8),facecolor='w')\n",
    "    # plt.subplot(121)\n",
    "#     plt.gca().invert_yaxis()\n",
    "    plt.title('Ranked (PCT), %s'%year,size=18,fontweight='bold')\n",
    "    # plt.title('Rankings over the 2019 CFB Season',size=14)\n",
    "    plt.xlabel('Week',weight='medium')\n",
    "    plt.ylabel('Rank',weight='medium')\n",
    "    plt.xticks(fontname = 'NovaMono',weight='medium')\n",
    "    plt.yticks(fontname = 'NovaMono',weight='medium')\n",
    "#     teamColor = teamInfo[teamInfo.school == team].color.item()\n",
    "    for team in TeamList[:25]:\n",
    "        teamColor = teamInfo.loc[teamInfo.school == team,'color'].iloc[0]\n",
    "        teamAltColor = teamInfo.loc[teamInfo.school == team,'alt_color'].iloc[0]\n",
    "        plt.plot(PCT.loc[team],c=teamColor,label=team,lw=5,\n",
    "                 marker = 'o',markersize=10,markerfacecolor=str(teamAltColor),markeredgewidth=2.5,markeredgecolor=str(teamColor))\n",
    "    plt.legend(bbox_to_anchor=(1, 1.025), loc='upper left', ncol=1)\n",
    "    plt.tight_layout()\n",
    "    plt.savefig('%s/ranked_PCT.png'%year,facecolor=fig.get_facecolor())\n",
    "    plt.close()\n",
    "    \n",
    "    totalRise = Ranks['4'] - Ranks[str(max([int(r) for r in Ranks.columns]))]\n",
    "    totalRise = totalRise.sort_values()\n",
    "    biggestRises = totalRise.tail(5)\n",
    "    biggestFalls = totalRise.head(5)\n",
    "\n",
    "    fig = plt.figure(figsize=(12,5),facecolor='w')\n",
    "    # plt.subplot(121)\n",
    "    plt.gca().invert_yaxis()\n",
    "    plt.title('Biggest Risers, %s'%year,size=18,fontweight='bold')\n",
    "    # plt.title('Rankings over the 2019 CFB Season',size=14)\n",
    "    plt.xlabel('Week',weight='medium')\n",
    "    plt.ylabel('Rank',weight='medium')\n",
    "    plt.xticks(fontname = 'NovaMono',weight='medium')\n",
    "    plt.yticks(fontname = 'NovaMono',weight='medium')\n",
    "#     teamColor = teamInfo[teamInfo.school == team].color.item()\n",
    "    for team in biggestRises.index:\n",
    "        teamColor = teamInfo.loc[teamInfo.school == team,'color'].iloc[0]\n",
    "        teamAltColor = teamInfo.loc[teamInfo.school == team,'alt_color'].iloc[0]\n",
    "        plt.plot(Ranks.loc[team],c=str(teamColor),label=team,lw=5,\n",
    "                 marker = 'o',markersize=10,markerfacecolor=str(teamAltColor),markeredgewidth=2.5,markeredgecolor=str(teamColor))\n",
    "    plt.legend(bbox_to_anchor=(1, 1.025), loc='upper left', ncol=1)\n",
    "    plt.tight_layout()\n",
    "    plt.savefig('%s/risers.png'%year,facecolor=fig.get_facecolor())\n",
    "    plt.close()\n",
    "    \n",
    "    fig = plt.figure(figsize=(12,5),facecolor='w')\n",
    "    # plt.subplot(121)\n",
    "    plt.gca().invert_yaxis()\n",
    "    plt.title('Biggest Falls, %s'%year,size=18,fontweight='bold')\n",
    "    # plt.title('Rankings over the 2019 CFB Season',size=14)\n",
    "    plt.xlabel('Week',weight='medium')\n",
    "    plt.ylabel('Rank',weight='medium')\n",
    "    plt.xticks(fontname = 'NovaMono',weight='medium')\n",
    "    plt.yticks(fontname = 'NovaMono',weight='medium')\n",
    "#     teamColor = teamInfo[teamInfo.school == team].color.item()\n",
    "    for team in biggestFalls.index:\n",
    "        teamColor = (teamInfo.loc[teamInfo.school == team,'color'].iloc[0])\n",
    "        teamAltColor = teamInfo.loc[teamInfo.school == team,'alt_color'].iloc[0]\n",
    "        plt.plot(Ranks.loc[team],c=teamColor,label=team,lw=5,\n",
    "                 marker = 'o',markersize=10,markerfacecolor=str(teamAltColor),markeredgewidth=2.5,markeredgecolor=str(teamColor))\n",
    "    plt.legend(bbox_to_anchor=(1, 1.025), loc='upper left', ncol=1)\n",
    "    plt.tight_layout()\n",
    "    plt.savefig('%s/falls.png'%year,facecolor=fig.get_facecolor())\n",
    "    plt.close()"
   ]
  },
  {
   "cell_type": "code",
   "execution_count": 5,
   "metadata": {},
   "outputs": [],
   "source": [
    "def histGraph(team,yrange):\n",
    "    info_json_url = urllib.request.urlopen('https://api.collegefootballdata.com/teams')\n",
    "    teamInfo = json.loads(info_json_url.read())\n",
    "    teamInfo = pd.DataFrame(teamInfo)\n",
    "    \n",
    "    teamColor = teamInfo.loc[teamInfo.school == team,'color'].iloc[0]\n",
    "\n",
    "    dfList = []\n",
    "    weeklenList = [0]\n",
    "    for y in yrange:\n",
    "        rank = pd.read_csv('%s/Ranks.csv'%y,index_col=0)\n",
    "        rank.columns = [\"%s W%s\"%(str(y)[-2:],w) for w in rank.columns]\n",
    "        weeklenList.append(len(rank.columns))\n",
    "        dfList.append(rank)\n",
    "    for i in range(len(dfList)-1,-1,-1):\n",
    "    #     print(i)\n",
    "        try:\n",
    "            k = dfList[i].loc[team]\n",
    "        except KeyError:\n",
    "            startIndex = i+1\n",
    "            break\n",
    "        startIndex = 0\n",
    "    weeklenList = [len(r.columns) for r in dfList[startIndex:]]\n",
    "#     print(weeklenList)\n",
    "    rank = dfList[startIndex]\n",
    "    rank = rank.join(dfList[startIndex+1:])\n",
    "    fillList = [w + sum(weeklenList[:i]) for i,w in enumerate(weeklenList)]\n",
    "\n",
    "    plt.style.use('fivethirtyeight')\n",
    "    fig = plt.figure(figsize=(35,5))\n",
    "    plt.gca().invert_yaxis()\n",
    "    plt.margins(x=0)\n",
    "    plt.plot(rank.loc[team],color=teamColor)\n",
    "    plt.xticks([])\n",
    "    plt.title(team,size=18,weight='bold')\n",
    "    for i in range(0,len(fillList)-1):\n",
    "        if i%2 == 0:\n",
    "            plt.fill_between(fillList[i:i+2],max(rank.loc[team])*1.1,alpha=0.05,color=teamColor)\n",
    "        if i == 0:\n",
    "            plt.text(fillList[i]+weeklenList[1]/3,max(rank.loc[team]*1.08),yrange[i])\n",
    "        else:\n",
    "            plt.text(fillList[i]+weeklenList[i]/3,max(rank.loc[team]*1.08),yrange[i])\n",
    "    plt.tight_layout()\n",
    "    plt.savefig('HistGraphs/Ranks/%s_%s-%s.png'%(team,yrange[0],yrange[-1]),facecolor=fig.get_facecolor())\n",
    "    plt.close()"
   ]
  },
  {
   "cell_type": "code",
   "execution_count": 6,
   "metadata": {},
   "outputs": [],
   "source": [
    "def histGraphPCT(team,yrange,show=False):\n",
    "    info_json_url = urllib.request.urlopen('https://api.collegefootballdata.com/teams')\n",
    "    teamInfo = json.loads(info_json_url.read())\n",
    "    teamInfo = pd.DataFrame(teamInfo)\n",
    "    \n",
    "    teamColor = teamInfo.loc[teamInfo.school == team,'color'].iloc[0]\n",
    "    teamAltColor = teamInfo.loc[teamInfo.school == team,'alt_color']\n",
    "\n",
    "    dfList = []\n",
    "    weeklenList = [0]\n",
    "    for y in yrange:\n",
    "        ranks = pd.read_csv('%s/PCT_norm.csv'%y,index_col=0)\n",
    "        ranks.columns = [\"%s W%s\"%(str(y)[-2:],w) for w in ranks.columns]\n",
    "#         weeklenList.append(len(ranks.columns))\n",
    "        dfList.append(ranks)\n",
    "    \n",
    "    for i in range(len(dfList)-1,-1,-1):\n",
    "    #     print(i)\n",
    "        try:\n",
    "            k = dfList[i].loc[team]\n",
    "        except KeyError:\n",
    "            startIndex = i+1\n",
    "            break\n",
    "        startIndex = 0\n",
    "    weeklenList = [len(r.columns) for r in dfList[startIndex:]]\n",
    "#     print(weeklenList)\n",
    "    rank = dfList[startIndex]\n",
    "    rank = rank.join(dfList[startIndex+1:])\n",
    "    fillList = [w + sum(weeklenList[:i]) for i,w in enumerate(weeklenList)]\n",
    "#     print(fillList)\n",
    "    plt.style.use('fivethirtyeight')\n",
    "    fig = plt.figure(figsize=(35,5))\n",
    "#     plt.gca().invert_yaxis()\n",
    "    plt.margins(x=0)\n",
    "    plt.xticks([])\n",
    "    plt.title(team,size=24,weight='bold')\n",
    "    plt.ylabel('Normalized Rating')\n",
    "    plt.ylim(-0.1,1.1)\n",
    "    plt.plot(rank.loc[team],color=teamColor)\n",
    "    for i in range(0,len(fillList)):\n",
    "        if i%2 == 0:\n",
    "            plt.fill_between(fillList[i:i+2],1,alpha=0.05,color=teamColor)\n",
    "        if i == 0:\n",
    "            plt.text(weeklenList[0]/3,-0.1,yrange[startIndex])\n",
    "        else:\n",
    "            plt.text(fillList[i-1]+weeklenList[1]/3,-0.1,yrange[startIndex+i])\n",
    "    plt.tight_layout()\n",
    "    plt.savefig('HistGraphs/%s_%s-%s_PCT.png'%(team,yrange[0],yrange[-1]),facecolor=fig.get_facecolor())\n",
    "    if show:\n",
    "        plt.show()\n",
    "    else:\n",
    "        plt.close()"
   ]
  },
  {
   "cell_type": "code",
   "execution_count": 11,
   "metadata": {},
   "outputs": [
    {
     "data": {
      "application/vnd.jupyter.widget-view+json": {
       "model_id": "",
       "version_major": 2,
       "version_minor": 0
      },
      "text/plain": [
       "HBox(children=(FloatProgress(value=0.0, description='Vars:', max=130.0, style=ProgressStyle(description_width=…"
      ]
     },
     "metadata": {},
     "output_type": "display_data"
    },
    {
     "name": "stdout",
     "output_type": "stream",
     "text": [
      "\r"
     ]
    },
    {
     "data": {
      "application/vnd.jupyter.widget-view+json": {
       "model_id": "",
       "version_major": 2,
       "version_minor": 0
      },
      "text/plain": [
       "HBox(children=(FloatProgress(value=0.0, description='WinQ:', max=130.0, style=ProgressStyle(description_width=…"
      ]
     },
     "metadata": {},
     "output_type": "display_data"
    },
    {
     "name": "stdout",
     "output_type": "stream",
     "text": [
      "\r"
     ]
    },
    {
     "data": {
      "application/vnd.jupyter.widget-view+json": {
       "model_id": "",
       "version_major": 2,
       "version_minor": 0
      },
      "text/plain": [
       "HBox(children=(FloatProgress(value=0.0, description='PCT:', max=130.0, style=ProgressStyle(description_width='…"
      ]
     },
     "metadata": {},
     "output_type": "display_data"
    },
    {
     "name": "stdout",
     "output_type": "stream",
     "text": [
      "\r"
     ]
    },
    {
     "ename": "TypeError",
     "evalue": "'Series' objects are mutable, thus they cannot be hashed",
     "output_type": "error",
     "traceback": [
      "\u001b[0;31m---------------------------------------------------------------------------\u001b[0m",
      "\u001b[0;31mTypeError\u001b[0m                                 Traceback (most recent call last)",
      "\u001b[0;32m<ipython-input-11-553946b91513>\u001b[0m in \u001b[0;36m<module>\u001b[0;34m\u001b[0m\n\u001b[0;32m----> 1\u001b[0;31m \u001b[0mgetRanks\u001b[0m\u001b[0;34m(\u001b[0m\u001b[0;36m2019\u001b[0m\u001b[0;34m)\u001b[0m\u001b[0;34m\u001b[0m\u001b[0;34m\u001b[0m\u001b[0m\n\u001b[0m\u001b[1;32m      2\u001b[0m \u001b[0mgraphRanks\u001b[0m\u001b[0;34m(\u001b[0m\u001b[0;36m2019\u001b[0m\u001b[0;34m)\u001b[0m\u001b[0;34m\u001b[0m\u001b[0;34m\u001b[0m\u001b[0m\n",
      "\u001b[0;32m<ipython-input-10-a01ea9ec2c7c>\u001b[0m in \u001b[0;36mgetRanks\u001b[0;34m(year)\u001b[0m\n\u001b[1;32m    117\u001b[0m         \u001b[0mWdf\u001b[0m \u001b[0;34m=\u001b[0m \u001b[0mWdf\u001b[0m\u001b[0;34m.\u001b[0m\u001b[0mreset_index\u001b[0m\u001b[0;34m(\u001b[0m\u001b[0;34m)\u001b[0m\u001b[0;34m\u001b[0m\u001b[0;34m\u001b[0m\u001b[0m\n\u001b[1;32m    118\u001b[0m         \u001b[0mWdf\u001b[0m\u001b[0;34m.\u001b[0m\u001b[0mcolumns\u001b[0m \u001b[0;34m=\u001b[0m \u001b[0;34m[\u001b[0m\u001b[0;34m'Team'\u001b[0m\u001b[0;34m,\u001b[0m\u001b[0;34m'PCT'\u001b[0m\u001b[0;34m,\u001b[0m\u001b[0;34m'Rank'\u001b[0m\u001b[0;34m]\u001b[0m\u001b[0;34m\u001b[0m\u001b[0;34m\u001b[0m\u001b[0m\n\u001b[0;32m--> 119\u001b[0;31m         \u001b[0mWdf\u001b[0m\u001b[0;34m[\u001b[0m\u001b[0;34m'Record'\u001b[0m\u001b[0;34m]\u001b[0m \u001b[0;34m=\u001b[0m \u001b[0mFBSdict\u001b[0m\u001b[0;34m[\u001b[0m\u001b[0mWdf\u001b[0m\u001b[0;34m[\u001b[0m\u001b[0;34m'Team'\u001b[0m\u001b[0;34m]\u001b[0m\u001b[0;34m]\u001b[0m\u001b[0;34m[\u001b[0m\u001b[0;34m'wins'\u001b[0m\u001b[0;34m]\u001b[0m \u001b[0;34m+\u001b[0m \u001b[0;34m'-'\u001b[0m \u001b[0;34m+\u001b[0m \u001b[0mFBSdict\u001b[0m\u001b[0;34m[\u001b[0m\u001b[0mWdf\u001b[0m\u001b[0;34m[\u001b[0m\u001b[0;34m'Team'\u001b[0m\u001b[0;34m]\u001b[0m\u001b[0;34m]\u001b[0m\u001b[0;34m[\u001b[0m\u001b[0;34m'losses'\u001b[0m\u001b[0;34m]\u001b[0m\u001b[0;34m\u001b[0m\u001b[0;34m\u001b[0m\u001b[0m\n\u001b[0m\u001b[1;32m    120\u001b[0m         \u001b[0mWdf\u001b[0m \u001b[0;34m=\u001b[0m \u001b[0mWdf\u001b[0m\u001b[0;34m.\u001b[0m\u001b[0msort_values\u001b[0m\u001b[0;34m(\u001b[0m\u001b[0;34m'Rank'\u001b[0m\u001b[0;34m)\u001b[0m\u001b[0;34m\u001b[0m\u001b[0;34m\u001b[0m\u001b[0m\n\u001b[1;32m    121\u001b[0m         \u001b[0mWdf\u001b[0m \u001b[0;34m=\u001b[0m \u001b[0mWdf\u001b[0m\u001b[0;34m[\u001b[0m\u001b[0;34m[\u001b[0m\u001b[0;34m'Rank'\u001b[0m\u001b[0;34m,\u001b[0m\u001b[0;34m'Team'\u001b[0m\u001b[0;34m,\u001b[0m\u001b[0;34m'Record'\u001b[0m\u001b[0;34m,\u001b[0m\u001b[0;34m'PCT'\u001b[0m\u001b[0;34m]\u001b[0m\u001b[0;34m]\u001b[0m\u001b[0;34m\u001b[0m\u001b[0;34m\u001b[0m\u001b[0m\n",
      "\u001b[0;32m~/anaconda3/lib/python3.7/site-packages/pandas/core/generic.py\u001b[0m in \u001b[0;36m__hash__\u001b[0;34m(self)\u001b[0m\n\u001b[1;32m   1884\u001b[0m         raise TypeError(\n\u001b[1;32m   1885\u001b[0m             \u001b[0;34m\"{0!r} objects are mutable, thus they cannot be\"\u001b[0m\u001b[0;34m\u001b[0m\u001b[0;34m\u001b[0m\u001b[0m\n\u001b[0;32m-> 1886\u001b[0;31m             \u001b[0;34m\" hashed\"\u001b[0m\u001b[0;34m.\u001b[0m\u001b[0mformat\u001b[0m\u001b[0;34m(\u001b[0m\u001b[0mself\u001b[0m\u001b[0;34m.\u001b[0m\u001b[0m__class__\u001b[0m\u001b[0;34m.\u001b[0m\u001b[0m__name__\u001b[0m\u001b[0;34m)\u001b[0m\u001b[0;34m\u001b[0m\u001b[0;34m\u001b[0m\u001b[0m\n\u001b[0m\u001b[1;32m   1887\u001b[0m         )\n\u001b[1;32m   1888\u001b[0m \u001b[0;34m\u001b[0m\u001b[0m\n",
      "\u001b[0;31mTypeError\u001b[0m: 'Series' objects are mutable, thus they cannot be hashed"
     ]
    }
   ],
   "source": [
    "getRanks(2019)\n",
    "graphRanks(2019)"
   ]
  },
  {
   "cell_type": "code",
   "execution_count": 18,
   "metadata": {},
   "outputs": [
    {
     "data": {
      "text/html": [
       "<div>\n",
       "<style scoped>\n",
       "    .dataframe tbody tr th:only-of-type {\n",
       "        vertical-align: middle;\n",
       "    }\n",
       "\n",
       "    .dataframe tbody tr th {\n",
       "        vertical-align: top;\n",
       "    }\n",
       "\n",
       "    .dataframe thead th {\n",
       "        text-align: right;\n",
       "    }\n",
       "</style>\n",
       "<table border=\"1\" class=\"dataframe\">\n",
       "  <thead>\n",
       "    <tr style=\"text-align: right;\">\n",
       "      <th></th>\n",
       "      <th>Team</th>\n",
       "      <th>PCT</th>\n",
       "    </tr>\n",
       "    <tr>\n",
       "      <th>Rank</th>\n",
       "      <th></th>\n",
       "      <th></th>\n",
       "    </tr>\n",
       "  </thead>\n",
       "  <tbody>\n",
       "    <tr>\n",
       "      <th>1</th>\n",
       "      <td>LSU</td>\n",
       "      <td>1.000000</td>\n",
       "    </tr>\n",
       "    <tr>\n",
       "      <th>2</th>\n",
       "      <td>Clemson</td>\n",
       "      <td>0.868730</td>\n",
       "    </tr>\n",
       "    <tr>\n",
       "      <th>3</th>\n",
       "      <td>Ohio State</td>\n",
       "      <td>0.831137</td>\n",
       "    </tr>\n",
       "    <tr>\n",
       "      <th>4</th>\n",
       "      <td>Georgia</td>\n",
       "      <td>0.774608</td>\n",
       "    </tr>\n",
       "    <tr>\n",
       "      <th>5</th>\n",
       "      <td>Oregon</td>\n",
       "      <td>0.762767</td>\n",
       "    </tr>\n",
       "    <tr>\n",
       "      <th>6</th>\n",
       "      <td>Oklahoma</td>\n",
       "      <td>0.743346</td>\n",
       "    </tr>\n",
       "    <tr>\n",
       "      <th>7</th>\n",
       "      <td>Notre Dame</td>\n",
       "      <td>0.722580</td>\n",
       "    </tr>\n",
       "    <tr>\n",
       "      <th>8</th>\n",
       "      <td>Appalachian State</td>\n",
       "      <td>0.704809</td>\n",
       "    </tr>\n",
       "    <tr>\n",
       "      <th>9</th>\n",
       "      <td>Florida</td>\n",
       "      <td>0.691093</td>\n",
       "    </tr>\n",
       "    <tr>\n",
       "      <th>10</th>\n",
       "      <td>Penn State</td>\n",
       "      <td>0.684846</td>\n",
       "    </tr>\n",
       "    <tr>\n",
       "      <th>11</th>\n",
       "      <td>Alabama</td>\n",
       "      <td>0.666098</td>\n",
       "    </tr>\n",
       "    <tr>\n",
       "      <th>12</th>\n",
       "      <td>Minnesota</td>\n",
       "      <td>0.657216</td>\n",
       "    </tr>\n",
       "    <tr>\n",
       "      <th>13</th>\n",
       "      <td>Utah</td>\n",
       "      <td>0.643389</td>\n",
       "    </tr>\n",
       "    <tr>\n",
       "      <th>14</th>\n",
       "      <td>Memphis</td>\n",
       "      <td>0.641214</td>\n",
       "    </tr>\n",
       "    <tr>\n",
       "      <th>15</th>\n",
       "      <td>Navy</td>\n",
       "      <td>0.638841</td>\n",
       "    </tr>\n",
       "    <tr>\n",
       "      <th>16</th>\n",
       "      <td>Iowa</td>\n",
       "      <td>0.630361</td>\n",
       "    </tr>\n",
       "    <tr>\n",
       "      <th>17</th>\n",
       "      <td>Air Force</td>\n",
       "      <td>0.630306</td>\n",
       "    </tr>\n",
       "    <tr>\n",
       "      <th>18</th>\n",
       "      <td>Baylor</td>\n",
       "      <td>0.624753</td>\n",
       "    </tr>\n",
       "    <tr>\n",
       "      <th>19</th>\n",
       "      <td>Boise State</td>\n",
       "      <td>0.620770</td>\n",
       "    </tr>\n",
       "    <tr>\n",
       "      <th>20</th>\n",
       "      <td>Florida Atlantic</td>\n",
       "      <td>0.610278</td>\n",
       "    </tr>\n",
       "    <tr>\n",
       "      <th>21</th>\n",
       "      <td>Wisconsin</td>\n",
       "      <td>0.603420</td>\n",
       "    </tr>\n",
       "    <tr>\n",
       "      <th>22</th>\n",
       "      <td>Cincinnati</td>\n",
       "      <td>0.592319</td>\n",
       "    </tr>\n",
       "    <tr>\n",
       "      <th>23</th>\n",
       "      <td>Michigan</td>\n",
       "      <td>0.584825</td>\n",
       "    </tr>\n",
       "    <tr>\n",
       "      <th>24</th>\n",
       "      <td>Louisiana</td>\n",
       "      <td>0.581502</td>\n",
       "    </tr>\n",
       "    <tr>\n",
       "      <th>25</th>\n",
       "      <td>UCF</td>\n",
       "      <td>0.544353</td>\n",
       "    </tr>\n",
       "  </tbody>\n",
       "</table>\n",
       "</div>"
      ],
      "text/plain": [
       "                   Team       PCT\n",
       "Rank                             \n",
       "1                   LSU  1.000000\n",
       "2               Clemson  0.868730\n",
       "3            Ohio State  0.831137\n",
       "4               Georgia  0.774608\n",
       "5                Oregon  0.762767\n",
       "6              Oklahoma  0.743346\n",
       "7            Notre Dame  0.722580\n",
       "8     Appalachian State  0.704809\n",
       "9               Florida  0.691093\n",
       "10           Penn State  0.684846\n",
       "11              Alabama  0.666098\n",
       "12            Minnesota  0.657216\n",
       "13                 Utah  0.643389\n",
       "14              Memphis  0.641214\n",
       "15                 Navy  0.638841\n",
       "16                 Iowa  0.630361\n",
       "17            Air Force  0.630306\n",
       "18               Baylor  0.624753\n",
       "19          Boise State  0.620770\n",
       "20     Florida Atlantic  0.610278\n",
       "21            Wisconsin  0.603420\n",
       "22           Cincinnati  0.592319\n",
       "23             Michigan  0.584825\n",
       "24            Louisiana  0.581502\n",
       "25                  UCF  0.544353"
      ]
     },
     "execution_count": 18,
     "metadata": {},
     "output_type": "execute_result"
    }
   ],
   "source": [
    "final2019 = pd.read_csv('2019/W16.csv')\n",
    "final2019.columns = ['Team','PCT','Rank']\n",
    "final2019[['Rank','Team','PCT']].head(25).set_index('Rank')\n",
    "# print(final2019[['Rank','Team','PCT']].head(25).set_index('Rank'))"
   ]
  },
  {
   "cell_type": "code",
   "execution_count": 9,
   "metadata": {},
   "outputs": [],
   "source": [
    "# yrange = range(1990,2020)\n",
    "yrange=range(1991,2001)"
   ]
  },
  {
   "cell_type": "code",
   "execution_count": 10,
   "metadata": {
    "collapsed": true,
    "jupyter": {
     "outputs_hidden": true
    }
   },
   "outputs": [
    {
     "data": {
      "application/vnd.jupyter.widget-view+json": {
       "model_id": "74beb0d42e2040728262999831ed97e8",
       "version_major": 2,
       "version_minor": 0
      },
      "text/plain": [
       "HBox(children=(FloatProgress(value=0.0, max=10.0), HTML(value='')))"
      ]
     },
     "metadata": {},
     "output_type": "display_data"
    },
    {
     "data": {
      "application/vnd.jupyter.widget-view+json": {
       "model_id": "",
       "version_major": 2,
       "version_minor": 0
      },
      "text/plain": [
       "HBox(children=(FloatProgress(value=0.0, description='Vars:', max=107.0, style=ProgressStyle(description_width=…"
      ]
     },
     "metadata": {},
     "output_type": "display_data"
    },
    {
     "data": {
      "application/vnd.jupyter.widget-view+json": {
       "model_id": "",
       "version_major": 2,
       "version_minor": 0
      },
      "text/plain": [
       "HBox(children=(FloatProgress(value=0.0, description='WinQ:', max=107.0, style=ProgressStyle(description_width=…"
      ]
     },
     "metadata": {},
     "output_type": "display_data"
    },
    {
     "data": {
      "application/vnd.jupyter.widget-view+json": {
       "model_id": "",
       "version_major": 2,
       "version_minor": 0
      },
      "text/plain": [
       "HBox(children=(FloatProgress(value=0.0, description='PCT:', max=107.0, style=ProgressStyle(description_width='…"
      ]
     },
     "metadata": {},
     "output_type": "display_data"
    },
    {
     "data": {
      "application/vnd.jupyter.widget-view+json": {
       "model_id": "",
       "version_major": 2,
       "version_minor": 0
      },
      "text/plain": [
       "HBox(children=(FloatProgress(value=0.0, max=107.0), HTML(value='')))"
      ]
     },
     "metadata": {},
     "output_type": "display_data"
    },
    {
     "data": {
      "application/vnd.jupyter.widget-view+json": {
       "model_id": "",
       "version_major": 2,
       "version_minor": 0
      },
      "text/plain": [
       "HBox(children=(FloatProgress(value=0.0, description='Vars:', max=107.0, style=ProgressStyle(description_width=…"
      ]
     },
     "metadata": {},
     "output_type": "display_data"
    },
    {
     "data": {
      "application/vnd.jupyter.widget-view+json": {
       "model_id": "",
       "version_major": 2,
       "version_minor": 0
      },
      "text/plain": [
       "HBox(children=(FloatProgress(value=0.0, description='WinQ:', max=107.0, style=ProgressStyle(description_width=…"
      ]
     },
     "metadata": {},
     "output_type": "display_data"
    },
    {
     "data": {
      "application/vnd.jupyter.widget-view+json": {
       "model_id": "",
       "version_major": 2,
       "version_minor": 0
      },
      "text/plain": [
       "HBox(children=(FloatProgress(value=0.0, description='PCT:', max=107.0, style=ProgressStyle(description_width='…"
      ]
     },
     "metadata": {},
     "output_type": "display_data"
    },
    {
     "data": {
      "application/vnd.jupyter.widget-view+json": {
       "model_id": "",
       "version_major": 2,
       "version_minor": 0
      },
      "text/plain": [
       "HBox(children=(FloatProgress(value=0.0, max=107.0), HTML(value='')))"
      ]
     },
     "metadata": {},
     "output_type": "display_data"
    },
    {
     "data": {
      "application/vnd.jupyter.widget-view+json": {
       "model_id": "",
       "version_major": 2,
       "version_minor": 0
      },
      "text/plain": [
       "HBox(children=(FloatProgress(value=0.0, description='Vars:', max=106.0, style=ProgressStyle(description_width=…"
      ]
     },
     "metadata": {},
     "output_type": "display_data"
    },
    {
     "data": {
      "application/vnd.jupyter.widget-view+json": {
       "model_id": "",
       "version_major": 2,
       "version_minor": 0
      },
      "text/plain": [
       "HBox(children=(FloatProgress(value=0.0, description='WinQ:', max=106.0, style=ProgressStyle(description_width=…"
      ]
     },
     "metadata": {},
     "output_type": "display_data"
    },
    {
     "data": {
      "application/vnd.jupyter.widget-view+json": {
       "model_id": "",
       "version_major": 2,
       "version_minor": 0
      },
      "text/plain": [
       "HBox(children=(FloatProgress(value=0.0, description='PCT:', max=106.0, style=ProgressStyle(description_width='…"
      ]
     },
     "metadata": {},
     "output_type": "display_data"
    },
    {
     "data": {
      "application/vnd.jupyter.widget-view+json": {
       "model_id": "",
       "version_major": 2,
       "version_minor": 0
      },
      "text/plain": [
       "HBox(children=(FloatProgress(value=0.0, max=106.0), HTML(value='')))"
      ]
     },
     "metadata": {},
     "output_type": "display_data"
    },
    {
     "data": {
      "application/vnd.jupyter.widget-view+json": {
       "model_id": "",
       "version_major": 2,
       "version_minor": 0
      },
      "text/plain": [
       "HBox(children=(FloatProgress(value=0.0, description='Vars:', max=107.0, style=ProgressStyle(description_width=…"
      ]
     },
     "metadata": {},
     "output_type": "display_data"
    },
    {
     "data": {
      "application/vnd.jupyter.widget-view+json": {
       "model_id": "",
       "version_major": 2,
       "version_minor": 0
      },
      "text/plain": [
       "HBox(children=(FloatProgress(value=0.0, description='WinQ:', max=107.0, style=ProgressStyle(description_width=…"
      ]
     },
     "metadata": {},
     "output_type": "display_data"
    },
    {
     "data": {
      "application/vnd.jupyter.widget-view+json": {
       "model_id": "",
       "version_major": 2,
       "version_minor": 0
      },
      "text/plain": [
       "HBox(children=(FloatProgress(value=0.0, description='PCT:', max=107.0, style=ProgressStyle(description_width='…"
      ]
     },
     "metadata": {},
     "output_type": "display_data"
    },
    {
     "data": {
      "application/vnd.jupyter.widget-view+json": {
       "model_id": "",
       "version_major": 2,
       "version_minor": 0
      },
      "text/plain": [
       "HBox(children=(FloatProgress(value=0.0, max=107.0), HTML(value='')))"
      ]
     },
     "metadata": {},
     "output_type": "display_data"
    },
    {
     "data": {
      "application/vnd.jupyter.widget-view+json": {
       "model_id": "",
       "version_major": 2,
       "version_minor": 0
      },
      "text/plain": [
       "HBox(children=(FloatProgress(value=0.0, description='Vars:', max=108.0, style=ProgressStyle(description_width=…"
      ]
     },
     "metadata": {},
     "output_type": "display_data"
    },
    {
     "data": {
      "application/vnd.jupyter.widget-view+json": {
       "model_id": "",
       "version_major": 2,
       "version_minor": 0
      },
      "text/plain": [
       "HBox(children=(FloatProgress(value=0.0, description='WinQ:', max=108.0, style=ProgressStyle(description_width=…"
      ]
     },
     "metadata": {},
     "output_type": "display_data"
    },
    {
     "data": {
      "application/vnd.jupyter.widget-view+json": {
       "model_id": "",
       "version_major": 2,
       "version_minor": 0
      },
      "text/plain": [
       "HBox(children=(FloatProgress(value=0.0, description='PCT:', max=108.0, style=ProgressStyle(description_width='…"
      ]
     },
     "metadata": {},
     "output_type": "display_data"
    },
    {
     "data": {
      "application/vnd.jupyter.widget-view+json": {
       "model_id": "",
       "version_major": 2,
       "version_minor": 0
      },
      "text/plain": [
       "HBox(children=(FloatProgress(value=0.0, max=108.0), HTML(value='')))"
      ]
     },
     "metadata": {},
     "output_type": "display_data"
    },
    {
     "data": {
      "application/vnd.jupyter.widget-view+json": {
       "model_id": "",
       "version_major": 2,
       "version_minor": 0
      },
      "text/plain": [
       "HBox(children=(FloatProgress(value=0.0, description='Vars:', max=111.0, style=ProgressStyle(description_width=…"
      ]
     },
     "metadata": {},
     "output_type": "display_data"
    },
    {
     "data": {
      "application/vnd.jupyter.widget-view+json": {
       "model_id": "",
       "version_major": 2,
       "version_minor": 0
      },
      "text/plain": [
       "HBox(children=(FloatProgress(value=0.0, description='WinQ:', max=111.0, style=ProgressStyle(description_width=…"
      ]
     },
     "metadata": {},
     "output_type": "display_data"
    },
    {
     "data": {
      "application/vnd.jupyter.widget-view+json": {
       "model_id": "",
       "version_major": 2,
       "version_minor": 0
      },
      "text/plain": [
       "HBox(children=(FloatProgress(value=0.0, description='PCT:', max=111.0, style=ProgressStyle(description_width='…"
      ]
     },
     "metadata": {},
     "output_type": "display_data"
    },
    {
     "data": {
      "application/vnd.jupyter.widget-view+json": {
       "model_id": "",
       "version_major": 2,
       "version_minor": 0
      },
      "text/plain": [
       "HBox(children=(FloatProgress(value=0.0, max=111.0), HTML(value='')))"
      ]
     },
     "metadata": {},
     "output_type": "display_data"
    },
    {
     "data": {
      "application/vnd.jupyter.widget-view+json": {
       "model_id": "",
       "version_major": 2,
       "version_minor": 0
      },
      "text/plain": [
       "HBox(children=(FloatProgress(value=0.0, description='Vars:', max=112.0, style=ProgressStyle(description_width=…"
      ]
     },
     "metadata": {},
     "output_type": "display_data"
    },
    {
     "data": {
      "application/vnd.jupyter.widget-view+json": {
       "model_id": "",
       "version_major": 2,
       "version_minor": 0
      },
      "text/plain": [
       "HBox(children=(FloatProgress(value=0.0, description='WinQ:', max=112.0, style=ProgressStyle(description_width=…"
      ]
     },
     "metadata": {},
     "output_type": "display_data"
    },
    {
     "data": {
      "application/vnd.jupyter.widget-view+json": {
       "model_id": "",
       "version_major": 2,
       "version_minor": 0
      },
      "text/plain": [
       "HBox(children=(FloatProgress(value=0.0, description='PCT:', max=112.0, style=ProgressStyle(description_width='…"
      ]
     },
     "metadata": {},
     "output_type": "display_data"
    },
    {
     "data": {
      "application/vnd.jupyter.widget-view+json": {
       "model_id": "",
       "version_major": 2,
       "version_minor": 0
      },
      "text/plain": [
       "HBox(children=(FloatProgress(value=0.0, max=112.0), HTML(value='')))"
      ]
     },
     "metadata": {},
     "output_type": "display_data"
    },
    {
     "data": {
      "application/vnd.jupyter.widget-view+json": {
       "model_id": "",
       "version_major": 2,
       "version_minor": 0
      },
      "text/plain": [
       "HBox(children=(FloatProgress(value=0.0, description='Vars:', max=112.0, style=ProgressStyle(description_width=…"
      ]
     },
     "metadata": {},
     "output_type": "display_data"
    },
    {
     "data": {
      "application/vnd.jupyter.widget-view+json": {
       "model_id": "",
       "version_major": 2,
       "version_minor": 0
      },
      "text/plain": [
       "HBox(children=(FloatProgress(value=0.0, description='WinQ:', max=112.0, style=ProgressStyle(description_width=…"
      ]
     },
     "metadata": {},
     "output_type": "display_data"
    },
    {
     "data": {
      "application/vnd.jupyter.widget-view+json": {
       "model_id": "",
       "version_major": 2,
       "version_minor": 0
      },
      "text/plain": [
       "HBox(children=(FloatProgress(value=0.0, description='PCT:', max=112.0, style=ProgressStyle(description_width='…"
      ]
     },
     "metadata": {},
     "output_type": "display_data"
    },
    {
     "data": {
      "application/vnd.jupyter.widget-view+json": {
       "model_id": "",
       "version_major": 2,
       "version_minor": 0
      },
      "text/plain": [
       "HBox(children=(FloatProgress(value=0.0, max=112.0), HTML(value='')))"
      ]
     },
     "metadata": {},
     "output_type": "display_data"
    },
    {
     "data": {
      "application/vnd.jupyter.widget-view+json": {
       "model_id": "",
       "version_major": 2,
       "version_minor": 0
      },
      "text/plain": [
       "HBox(children=(FloatProgress(value=0.0, description='Vars:', max=114.0, style=ProgressStyle(description_width=…"
      ]
     },
     "metadata": {},
     "output_type": "display_data"
    },
    {
     "data": {
      "application/vnd.jupyter.widget-view+json": {
       "model_id": "",
       "version_major": 2,
       "version_minor": 0
      },
      "text/plain": [
       "HBox(children=(FloatProgress(value=0.0, description='WinQ:', max=114.0, style=ProgressStyle(description_width=…"
      ]
     },
     "metadata": {},
     "output_type": "display_data"
    },
    {
     "data": {
      "application/vnd.jupyter.widget-view+json": {
       "model_id": "",
       "version_major": 2,
       "version_minor": 0
      },
      "text/plain": [
       "HBox(children=(FloatProgress(value=0.0, description='PCT:', max=114.0, style=ProgressStyle(description_width='…"
      ]
     },
     "metadata": {},
     "output_type": "display_data"
    },
    {
     "data": {
      "application/vnd.jupyter.widget-view+json": {
       "model_id": "",
       "version_major": 2,
       "version_minor": 0
      },
      "text/plain": [
       "HBox(children=(FloatProgress(value=0.0, max=114.0), HTML(value='')))"
      ]
     },
     "metadata": {},
     "output_type": "display_data"
    },
    {
     "data": {
      "application/vnd.jupyter.widget-view+json": {
       "model_id": "",
       "version_major": 2,
       "version_minor": 0
      },
      "text/plain": [
       "HBox(children=(FloatProgress(value=0.0, description='Vars:', max=116.0, style=ProgressStyle(description_width=…"
      ]
     },
     "metadata": {},
     "output_type": "display_data"
    },
    {
     "data": {
      "application/vnd.jupyter.widget-view+json": {
       "model_id": "",
       "version_major": 2,
       "version_minor": 0
      },
      "text/plain": [
       "HBox(children=(FloatProgress(value=0.0, description='WinQ:', max=116.0, style=ProgressStyle(description_width=…"
      ]
     },
     "metadata": {},
     "output_type": "display_data"
    },
    {
     "data": {
      "application/vnd.jupyter.widget-view+json": {
       "model_id": "",
       "version_major": 2,
       "version_minor": 0
      },
      "text/plain": [
       "HBox(children=(FloatProgress(value=0.0, description='PCT:', max=116.0, style=ProgressStyle(description_width='…"
      ]
     },
     "metadata": {},
     "output_type": "display_data"
    },
    {
     "data": {
      "application/vnd.jupyter.widget-view+json": {
       "model_id": "",
       "version_major": 2,
       "version_minor": 0
      },
      "text/plain": [
       "HBox(children=(FloatProgress(value=0.0, max=116.0), HTML(value='')))"
      ]
     },
     "metadata": {},
     "output_type": "display_data"
    }
   ],
   "source": [
    "yBar = tqdm(total=len(yrange))\n",
    "for y in yrange:\n",
    "    yBar.set_description(str(y))\n",
    "    getRanks(y)\n",
    "    graphRanks(y)\n",
    "    yBar.update(1)"
   ]
  },
  {
   "cell_type": "code",
   "execution_count": 11,
   "metadata": {},
   "outputs": [],
   "source": [
    "teamInfo = getTeamInfo(2019)\n",
    "exceptList = []\n",
    "for t in teamInfo.school:\n",
    "    try:\n",
    "        histGraph(t,range(1990,2020))\n",
    "        histGraphPCT(t,range(1990,2020),show=False)\n",
    "    except KeyError:\n",
    "        exceptList.append(t)\n",
    "        plt.close()\n",
    "        continue"
   ]
  },
  {
   "cell_type": "markdown",
   "metadata": {},
   "source": [
    "***"
   ]
  },
  {
   "cell_type": "code",
   "execution_count": 12,
   "metadata": {},
   "outputs": [],
   "source": [
    "def getRankInfo(year):\n",
    "    info_json_url = urllib.request.urlopen('https://api.collegefootballdata.com/rankings?year=%s&seasontype=regular'%year)\n",
    "    teamInfo = json.loads(info_json_url.read())\n",
    "    teamInfo = pd.DataFrame(teamInfo)\n",
    "    return teamInfo"
   ]
  },
  {
   "cell_type": "code",
   "execution_count": 13,
   "metadata": {},
   "outputs": [],
   "source": [
    "ranks2019 = getRankInfo(2019)"
   ]
  },
  {
   "cell_type": "code",
   "execution_count": 14,
   "metadata": {},
   "outputs": [],
   "source": [
    "for i in range(len(ranks2019.loc[15].polls)):\n",
    "    pollName = ranks2019.loc[15].polls[i]['poll'].replace(' ', '_')\n",
    "    pollWeek = ranks2019.loc[15].week - 1\n",
    "    pollData = pd.DataFrame(ranks2019.loc[15].polls[i]['ranks']).sort_values('rank')\n",
    "    pollData = pollData[['school','points','rank']]\n",
    "    pollData.to_csv('2019/W%s_%s.csv'%(pollWeek,pollName),index=False)"
   ]
  },
  {
   "cell_type": "code",
   "execution_count": 15,
   "metadata": {},
   "outputs": [],
   "source": [
    "mPoll = pd.read_csv('2019/W15.csv',names=['school','PCT','Mrank'],header=0)\n",
    "# mPoll.columns = [['school','PCT','Rank']]\n",
    "coachPoll = pd.read_csv('2019/W15_Coaches_Poll.csv')\n",
    "APPoll = pd.read_csv('2019/W15_AP_Top_25.csv')\n",
    "CFPPoll = pd.read_csv('2019/W15_Playoff_Committee_Rankings.csv')"
   ]
  },
  {
   "cell_type": "code",
   "execution_count": 16,
   "metadata": {},
   "outputs": [],
   "source": [
    "coachList = []\n",
    "APList = []\n",
    "CFPList = []\n",
    "for t in mPoll.school:\n",
    "    try:\n",
    "#         print(t)\n",
    "        coachList.append(int(coachPoll.loc[coachPoll.school == t,'rank'].iloc[0]))\n",
    "    except IndexError:\n",
    "        coachList.append(None)\n",
    "    try:\n",
    "#         print(t)\n",
    "        APList.append(int(APPoll.loc[APPoll.school == t,'rank'].iloc[0]))\n",
    "    except IndexError:\n",
    "        APList.append(None)\n",
    "    try:\n",
    "#         print(t)\n",
    "        CFPList.append(int(CFPPoll.loc[CFPPoll.school == t,'rank'].iloc[0]))\n",
    "    except IndexError:\n",
    "        CFPList.append(None)"
   ]
  },
  {
   "cell_type": "code",
   "execution_count": 17,
   "metadata": {},
   "outputs": [],
   "source": [
    "mPoll['coachRanks'] = coachList\n",
    "mPoll['APRanks'] = APList\n",
    "mPoll['CFPRanks'] = CFPList"
   ]
  },
  {
   "cell_type": "code",
   "execution_count": 18,
   "metadata": {},
   "outputs": [],
   "source": [
    "compDF = pd.concat([mPoll.head(25),mPoll[25:].dropna(subset=['coachRanks','APRanks','CFPRanks'],thresh=1)])"
   ]
  },
  {
   "cell_type": "code",
   "execution_count": 19,
   "metadata": {},
   "outputs": [],
   "source": [
    "compDF['delCoach'] = compDF.Mrank - compDF.coachRanks\n",
    "compDF['delAP'] = compDF.Mrank - compDF.APRanks\n",
    "compDF['delCFP'] = compDF.Mrank - compDF.CFPRanks\n",
    "compDF = compDF[['school','PCT','Mrank','coachRanks','delCoach','APRanks','delAP','CFPRanks','delCFP']]\n",
    "compDF.columns = ['school','PCT','M','coach','delCoach','AP','delAP','CFP','delCFP']"
   ]
  },
  {
   "cell_type": "code",
   "execution_count": 20,
   "metadata": {},
   "outputs": [],
   "source": [
    "compDF.to_csv('2019/W%s_comparison.csv'%pollWeek,index=False)"
   ]
  },
  {
   "cell_type": "markdown",
   "metadata": {},
   "source": [
    "***"
   ]
  },
  {
   "cell_type": "code",
   "execution_count": 20,
   "metadata": {},
   "outputs": [],
   "source": [
    "from sklearn.cluster import KMeans"
   ]
  },
  {
   "cell_type": "code",
   "execution_count": 21,
   "metadata": {},
   "outputs": [],
   "source": [
    "def KM(data,n_clusters,n_init=10):\n",
    "    \n",
    "    clf = KMeans(n_clusters = n_clusters, n_init = n_init)\n",
    "    clf.fit(data)\n",
    "    \n",
    "    centers = clf.cluster_centers_\n",
    "    \n",
    "    labels = clf.predict(data)\n",
    "    \n",
    "    KMArr = np.hstack((data,labels.reshape(len(data),1)))\n",
    "\n",
    "    \n",
    "    return KMArr, centers"
   ]
  },
  {
   "cell_type": "code",
   "execution_count": 21,
   "metadata": {},
   "outputs": [],
   "source": [
    "mPoll = pd.read_csv('2019/W16.csv',names=['school','PCT','Mrank'],header=0)"
   ]
  },
  {
   "cell_type": "code",
   "execution_count": 22,
   "metadata": {},
   "outputs": [
    {
     "data": {
      "text/html": [
       "<div>\n",
       "<style scoped>\n",
       "    .dataframe tbody tr th:only-of-type {\n",
       "        vertical-align: middle;\n",
       "    }\n",
       "\n",
       "    .dataframe tbody tr th {\n",
       "        vertical-align: top;\n",
       "    }\n",
       "\n",
       "    .dataframe thead th {\n",
       "        text-align: right;\n",
       "    }\n",
       "</style>\n",
       "<table border=\"1\" class=\"dataframe\">\n",
       "  <thead>\n",
       "    <tr style=\"text-align: right;\">\n",
       "      <th></th>\n",
       "      <th>school</th>\n",
       "      <th>PCT</th>\n",
       "      <th>Mrank</th>\n",
       "    </tr>\n",
       "  </thead>\n",
       "  <tbody>\n",
       "    <tr>\n",
       "      <th>0</th>\n",
       "      <td>LSU</td>\n",
       "      <td>1.000000</td>\n",
       "      <td>1</td>\n",
       "    </tr>\n",
       "    <tr>\n",
       "      <th>1</th>\n",
       "      <td>Clemson</td>\n",
       "      <td>0.963738</td>\n",
       "      <td>2</td>\n",
       "    </tr>\n",
       "    <tr>\n",
       "      <th>2</th>\n",
       "      <td>Ohio State</td>\n",
       "      <td>0.885761</td>\n",
       "      <td>3</td>\n",
       "    </tr>\n",
       "    <tr>\n",
       "      <th>3</th>\n",
       "      <td>Georgia</td>\n",
       "      <td>0.821263</td>\n",
       "      <td>4</td>\n",
       "    </tr>\n",
       "    <tr>\n",
       "      <th>4</th>\n",
       "      <td>Oregon</td>\n",
       "      <td>0.808691</td>\n",
       "      <td>5</td>\n",
       "    </tr>\n",
       "    <tr>\n",
       "      <th>...</th>\n",
       "      <td>...</td>\n",
       "      <td>...</td>\n",
       "      <td>...</td>\n",
       "    </tr>\n",
       "    <tr>\n",
       "      <th>125</th>\n",
       "      <td>Arkansas</td>\n",
       "      <td>0.075456</td>\n",
       "      <td>126</td>\n",
       "    </tr>\n",
       "    <tr>\n",
       "      <th>126</th>\n",
       "      <td>UMass</td>\n",
       "      <td>0.047675</td>\n",
       "      <td>127</td>\n",
       "    </tr>\n",
       "    <tr>\n",
       "      <th>127</th>\n",
       "      <td>Old Dominion</td>\n",
       "      <td>0.035678</td>\n",
       "      <td>128</td>\n",
       "    </tr>\n",
       "    <tr>\n",
       "      <th>128</th>\n",
       "      <td>UTEP</td>\n",
       "      <td>0.020586</td>\n",
       "      <td>129</td>\n",
       "    </tr>\n",
       "    <tr>\n",
       "      <th>129</th>\n",
       "      <td>Akron</td>\n",
       "      <td>0.000000</td>\n",
       "      <td>130</td>\n",
       "    </tr>\n",
       "  </tbody>\n",
       "</table>\n",
       "<p>130 rows × 3 columns</p>\n",
       "</div>"
      ],
      "text/plain": [
       "           school       PCT  Mrank\n",
       "0             LSU  1.000000      1\n",
       "1         Clemson  0.963738      2\n",
       "2      Ohio State  0.885761      3\n",
       "3         Georgia  0.821263      4\n",
       "4          Oregon  0.808691      5\n",
       "..            ...       ...    ...\n",
       "125      Arkansas  0.075456    126\n",
       "126         UMass  0.047675    127\n",
       "127  Old Dominion  0.035678    128\n",
       "128          UTEP  0.020586    129\n",
       "129         Akron  0.000000    130\n",
       "\n",
       "[130 rows x 3 columns]"
      ]
     },
     "execution_count": 22,
     "metadata": {},
     "output_type": "execute_result"
    }
   ],
   "source": [
    "mPoll"
   ]
  },
  {
   "cell_type": "code",
   "execution_count": 24,
   "metadata": {},
   "outputs": [
    {
     "data": {
      "text/plain": [
       "<matplotlib.collections.PathCollection at 0x7fb51a25f890>"
      ]
     },
     "execution_count": 24,
     "metadata": {},
     "output_type": "execute_result"
    },
    {
     "data": {
      "image/png": "[encoded data removed]",
      "text/plain": [
       "<Figure size 720x720 with 1 Axes>"
      ]
     },
     "metadata": {},
     "output_type": "display_data"
    }
   ],
   "source": [
    "plt.figure(figsize=(10,10))\n",
    "plt.scatter(mPoll.Mrank,mPoll.PCT)"
   ]
  },
  {
   "cell_type": "code",
   "execution_count": null,
   "metadata": {},
   "outputs": [],
   "source": []
  }
 ],
 "metadata": {
  "kernelspec": {
   "display_name": "Python 3",
   "language": "python",
   "name": "python3"
  },
  "language_info": {
   "codemirror_mode": {
    "name": "ipython",
    "version": 3
   },
   "file_extension": ".py",
   "mimetype": "text/x-python",
   "name": "python",
   "nbconvert_exporter": "python",
   "pygments_lexer": "ipython3",
   "version": "3.7.7"
  }
 },
 "nbformat": 4,
 "nbformat_minor": 4
}
